{
 "cells": [
  {
   "cell_type": "markdown",
   "metadata": {},
   "source": [
    "# PyTorch-based B0 Mapping Example\n",
    "\n",
    "This notebook demonstrates the PyTorch-centric B0 mapping functions from `reconlib.b0_mapping`:\n",
    "- `calculate_b0_map_dual_echo`\n",
    "- `calculate_b0_map_multi_echo_linear_fit`\n",
    "\n",
    "We will use synthetic 3D multi-echo data."
   ]
  },
  {
   "cell_type": "code",
   "execution_count": null,
   "metadata": {},
   "outputs": [],
   "source": [
    "import torch\n",
    "import numpy as np\n",
    "import matplotlib.pyplot as plt\n",
    "from reconlib.b0_mapping import calculate_b0_map_dual_echo, calculate_b0_map_multi_echo_linear_fit\n",
    "from reconlib.b0_mapping.utils import create_mask_from_magnitude # Still useful for mask creation from magnitude\n",
    "from reconlib.plotting import plot_phase_image, plot_b0_field_map\n",
    "\n",
    "%matplotlib inline"
   ]
  },
  {
   "cell_type": "markdown",
   "metadata": {},
   "source": [
    "## Helper Function to Generate Synthetic 3D B0 Data"
   ]
  },
  {
   "cell_type": "code",
   "execution_count": null,
   "metadata": {},
   "outputs": [],
   "source": [
    "def generate_synthetic_3d_b0_data(shape=(16, 64, 64), tes_list=[0.002, 0.004, 0.006], max_b0_hz=50.0, device='cpu'):\n",
    "    \"\"\"\n",
    "    Generates synthetic 3D multi-echo phase data, true B0 map, and a magnitude image.\n",
    "    \"\"\"\n",
    "    d, h, w = shape\n",
    "    pi = getattr(torch, 'pi', np.pi)\n",
    "    \n",
    "    # Create a simple 3D B0 map: linear gradient along x, scaled by z\n",
    "    b0_map_true = torch.zeros(shape, dtype=torch.float32, device=device)\n",
    "    x_ramp = torch.linspace(-max_b0_hz, max_b0_hz, w, device=device)\n",
    "    for z_idx in range(d):\n",
    "        z_scale = (z_idx + 1.0) / d # Scale gradient by z slice index\n",
    "        b0_map_true[z_idx, :, :] = x_ramp.view(1, -1) * z_scale\n",
    "        \n",
    "    # Create a simple magnitude image (e.g., a 3D cylinder along z)\n",
    "    magnitude = torch.zeros(shape, dtype=torch.float32, device=device)\n",
    "    center_y, center_x = h // 2, w // 2\n",
    "    radius = min(h, w) // 3\n",
    "    y_coords, x_coords = torch.meshgrid(torch.arange(h, device=device), torch.arange(w, device=device), indexing='ij')\n",
    "    cylinder_mask_2d = ((y_coords - center_y)**2 + (x_coords - center_x)**2 <= radius**2)\n",
    "    for z_idx in range(d):\n",
    "        magnitude[z_idx, :, :] = cylinder_mask_2d.float()\n",
    "        \n",
    "    b0_map_true *= magnitude # Apply B0 only within the magnitude object\n",
    "    \n",
    "    echo_times_torch = torch.tensor(tes_list, dtype=torch.float32, device=device)\n",
    "    num_echoes = len(tes_list)\n",
    "    \n",
    "    phase_images_torch = torch.zeros((num_echoes,) + shape, dtype=torch.float32, device=device)\n",
    "    \n",
    "    for i in range(num_echoes):\n",
    "        phase_images_torch[i, ...] = (2 * pi * b0_map_true * echo_times_torch[i]) * magnitude\n",
    "        # Note: dual_echo handles wrapped phase diffs. multi_echo_linear_fit ideally wants unwrapped.\n",
    "        # For this clean synthetic data, direct phase values are used.\n",
    "        \n",
    "    return magnitude, phase_images_torch, echo_times_torch, b0_map_true"
   ]
  },
  {
   "cell_type": "markdown",
   "metadata": {},
   "source": [
    "## Generate Data and Calculate B0 Maps"
   ]
  },
  {
   "cell_type": "code",
   "execution_count": null,
   "metadata": {},
   "outputs": [],
   "source": [
    "device = torch.device('cuda' if torch.cuda.is_available() else 'cpu')\n",
    "print(f\"Using device: {device}\")\n",
    "\n",
    "data_shape = (16, 48, 48) # (depth, height, width)\n",
    "echo_times_s = [0.002, 0.0045, 0.007, 0.0095] # seconds, 4 echoes\n",
    "\n",
    "magnitude, phase_images, echo_times, b0_true = generate_synthetic_3d_b0_data(\n",
    "    shape=data_shape, \n",
    "    tes_list=echo_times_s, \n",
    "    max_b0_hz=60.0, \n",
    "    device=device\n",
    ")\n",
    "\n",
    "# Create mask from magnitude\n",
    "mask = create_mask_from_magnitude(magnitude.cpu().numpy(), threshold_factor=0.1) # util expects numpy\n",
    "mask_torch = torch.from_numpy(mask).bool().to(device)\n",
    "\n",
    "# Calculate B0 map using dual-echo method (first two echoes)\n",
    "print(\"\\nCalculating B0 map using dual-echo method...\")\n",
    "b0_map_dual = calculate_b0_map_dual_echo(\n",
    "    phase_images.narrow(0, 0, 2), # Use first two echoes\n",
    "    echo_times.narrow(0, 0, 2),   # Corresponding TEs\n",
    "    mask=mask_torch\n",
    ")\n",
    "\n",
    "# Calculate B0 map using multi-echo linear fit (all echoes)\n",
    "print(\"\\nCalculating B0 map using multi-echo linear fit...\")\n",
    "b0_map_multi = calculate_b0_map_multi_echo_linear_fit(\n",
    "    phase_images, \n",
    "    echo_times, \n",
    "    mask=mask_torch\n",
    ")\n",
    "print(\"\\nB0 mapping calculations complete.\")"
   ]
  },
  {
   "cell_type": "markdown",
   "metadata": {},
   "source": [
    "## Visualize Results\n",
    "\n",
    "We'll visualize a central slice from the 3D volumes."
   ]
  },
  {
   "cell_type": "code",
   "execution_count": null,
   "metadata": {},
   "outputs": [],
   "source": [
    "slice_idx = data_shape[0] // 2\n",
    "pi = getattr(torch, 'pi', np.pi)\n",
    "\n",
    "mag_slice = magnitude[slice_idx, ...].cpu().numpy()\n",
    "phase1_slice = phase_images[0, slice_idx, ...].cpu().numpy()\n",
    "phase2_slice = phase_images[1, slice_idx, ...].cpu().numpy()\n",
    "b0_true_slice = b0_true[slice_idx, ...].cpu().numpy()\n",
    "b0_dual_slice = b0_map_dual[slice_idx, ...].cpu().numpy()\n",
    "b0_multi_slice = b0_map_multi[slice_idx, ...].cpu().numpy()\n",
    "mask_slice = mask_torch[slice_idx, ...].cpu().numpy()\n",
    "\n",
    "fig, axes = plt.subplots(2, 3, figsize=(18, 10))\n",
    "\n",
    "axes[0, 0].imshow(mag_slice * mask_slice, cmap='gray')\n",
    "axes[0, 0].set_title(f\"Magnitude (Slice {slice_idx})\")\n",
    "axes[0, 0].axis('off')\n",
    "\n",
    "axes[0, 1].imshow(phase1_slice * mask_slice, cmap='twilight', vmin=-pi, vmax=pi)\n",
    "axes[0, 1].set_title(f\"Phase TE1 (Slice {slice_idx})\")\n",
    "axes[0, 1].axis('off')\n",
    "fig.colorbar(axes[0,1].images[0], ax=axes[0,1])\n",
    "\n",
    "axes[0, 2].imshow(phase2_slice * mask_slice, cmap='twilight', vmin=-pi, vmax=pi)\n",
    "axes[0, 2].set_title(f\"Phase TE2 (Slice {slice_idx})\")\n",
    "axes[0, 2].axis('off')\n",
    "fig.colorbar(axes[0,2].images[0], ax=axes[0,2])\n",
    "\n",
    "axes[1, 0].imshow(b0_true_slice * mask_slice, cmap='coolwarm', vmin=-max_b0_hz, vmax=max_b0_hz)\n",
    "axes[1, 0].set_title(f\"True B0 Map (Slice {slice_idx})\")\n",
    "axes[1, 0].axis('off')\n",
    "fig.colorbar(axes[1,0].images[0], ax=axes[1,0], label='Hz')\n",
    "\n",
    "axes[1, 1].imshow(b0_dual_slice * mask_slice, cmap='coolwarm', vmin=-max_b0_hz, vmax=max_b0_hz)\n",
    "axes[1, 1].set_title(f\"Dual-Echo B0 (Slice {slice_idx})\")\n",
    "axes[1, 1].axis('off')\n",
    "fig.colorbar(axes[1,1].images[0], ax=axes[1,1], label='Hz')\n",
    "\n",
    "axes[1, 2].imshow(b0_multi_slice * mask_slice, cmap='coolwarm', vmin=-max_b0_hz, vmax=max_b0_hz)\n",
    "axes[1, 2].set_title(f\"Multi-Echo B0 (Slice {slice_idx})\")\n",
    "axes[1, 2].axis('off')\n",
    "fig.colorbar(axes[1,2].images[0], ax=axes[1,2], label='Hz')\n",
    "\n",
    "plt.suptitle(\"PyTorch B0 Mapping Results (3D Synthetic Data)\", fontsize=16)\n",
    "plt.tight_layout(rect=[0, 0, 1, 0.95])\n",
    "plt.show()"
   ]
  }
 ],
 "metadata": {
  "kernelspec": {
   "display_name": "Python 3",
   "language": "python",
   "name": "python3"
  },
  "language_info": {
   "codemirror_mode": {
    "name": "ipython",
    "version": 3
   },
   "file_extension": ".py",
   "mimetype": "text/x-python",
   "name": "python",
   "nbconvert_exporter": "python",
   "pygments_lexer": "ipython3",
   "version": "3.9.7" 
  }
 },
 "nbformat": 4,
 "nbformat_minor": 5
}
