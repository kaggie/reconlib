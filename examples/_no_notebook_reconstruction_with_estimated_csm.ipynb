import json
json.dumps(notebook_content, indent=2)
