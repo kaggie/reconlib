{
 "cells": [
  {
   "cell_type": "markdown",
   "metadata": {},
   "source": [
    "# 3D Goldstein-Style Phase Unwrapping Example\n",
    "\n",
    "This notebook demonstrates the `unwrap_phase_3d_goldstein` function from `reconlib.phase_unwrapping` using synthetic 3D phase data. This method uses FFT-based k-space filtering."
   ]
  },
  {
   "cell_type": "code",
   "execution_count": null,
   "metadata": {},
   "outputs": [],
   "source": [
    "import torch\n",
    "import numpy as np\n",
    "import matplotlib.pyplot as plt\n",
    "from reconlib.phase_unwrapping import unwrap_phase_3d_goldstein\n",
    "from reconlib.plotting import plot_phase_image, plot_unwrapped_phase_map # Using plot_unwrapped_phase_map\n",
    "\n",
    "%matplotlib inline"
   ]
  },
  {
   "cell_type": "markdown",
   "metadata": {},
   "source": [
    "## Helper Function to Generate Synthetic Data"
   ]
  },
  {
   "cell_type": "code",
   "execution_count": null,
   "metadata": {},
   "outputs": [],
   "source": [
    "def _wrap_phase_torch(phase_tensor: torch.Tensor) -> torch.Tensor:\n",
    "    \"\"\"Wraps phase values to the interval [-pi, pi) using PyTorch operations.\"\"\"\n",
    "    pi = getattr(torch, 'pi', np.pi)\n",
    "    return (phase_tensor + pi) % (2 * pi) - pi\n",
    "\n",
    "def generate_synthetic_3d_phase_data(shape=(16, 64, 64), ramps_scale=(1.5, 2.0, 2.5), device='cpu'):\n",
    "    \"\"\"\n",
    "    Generates synthetic 3D true and wrapped phase data.\n",
    "    Creates a sum of 3D linear ramps.\n",
    "    \"\"\"\n",
    "    d, h, w = shape\n",
    "    pi = getattr(torch, 'pi', np.pi)\n",
    "    z_coords = torch.linspace(-pi * ramps_scale[0], pi * ramps_scale[0], d, device=device)\n",
    "    y_coords = torch.linspace(-pi * ramps_scale[1], pi * ramps_scale[1], h, device=device)\n",
    "    x_coords = torch.linspace(-pi * ramps_scale[2], pi * ramps_scale[2], w, device=device)\n",
    "\n",
    "    true_phase = z_coords.view(-1, 1, 1) + y_coords.view(1, -1, 1) + x_coords.view(1, 1, -1)\n",
    "    true_phase = true_phase.expand(d,h,w) # Ensure exact shape\n",
    "\n",
    "    wrapped_phase = _wrap_phase_torch(true_phase)\n",
    "    return true_phase, wrapped_phase"
   ]
  },
  {
   "cell_type": "markdown",
   "metadata": {},
   "source": [
    "## Generate Data and Perform Unwrapping"
   ]
  },
  {
   "cell_type": "code",
   "execution_count": null,
   "metadata": {},
   "outputs": [],
   "source": [
    "device = torch.device('cuda' if torch.cuda.is_available() else 'cpu')\n",
    "print(f\"Using device: {device}\")\n",
    "\n",
    "data_shape = (16, 64, 64) # (depth, height, width)\n",
    "true_phase, wrapped_phase = generate_synthetic_3d_phase_data(shape=data_shape, device=device)\n",
    "\n",
    "# Perform Goldstein-style unwrapping\n",
    "k_filter_strength = 1.0 # Default strength\n",
    "print(f\"Running Goldstein-Style Unwrapping with k_filter_strength={k_filter_strength}...\")\n",
    "unwrapped_phase_gs = unwrap_phase_3d_goldstein(wrapped_phase, k_filter_strength=k_filter_strength)\n",
    "print(\"Unwrapping complete.\")\n",
    "\n",
    "# Example with different filter strength\n",
    "k_filter_strength_strong = 2.0\n",
    "print(f\"Running Goldstein-Style Unwrapping with k_filter_strength={k_filter_strength_strong}...\")\n",
    "unwrapped_phase_gs_strong = unwrap_phase_3d_goldstein(wrapped_phase, k_filter_strength=k_filter_strength_strong)\n",
    "print(\"Unwrapping complete.\")"
   ]
  },
  {
   "cell_type": "markdown",
   "metadata": {},
   "source": [
    "## Visualize Results\n",
    "\n",
    "We'll visualize a central slice from the 3D volumes for both filter strengths."
   ]
  },
  {
   "cell_type": "code",
   "execution_count": null,
   "metadata": {},
   "outputs": [],
   "source": [
    "slice_idx = data_shape[0] // 2\n",
    "\n",
    "true_phase_slice = true_phase[slice_idx, :, :].cpu().numpy()\n",
    "wrapped_phase_slice = wrapped_phase[slice_idx, :, :].cpu().numpy()\n",
    "unwrapped_phase_gs_slice = unwrapped_phase_gs[slice_idx, :, :].cpu().numpy()\n",
    "unwrapped_phase_gs_strong_slice = unwrapped_phase_gs_strong[slice_idx, :, :].cpu().numpy()\n",
    "\n",
    "# Correct for constant offset\n",
    "offset_gs = np.mean(unwrapped_phase_gs_slice - true_phase_slice)\n",
    "unwrapped_phase_gs_slice_corrected = unwrapped_phase_gs_slice - offset_gs\n",
    "diff_map_gs = unwrapped_phase_gs_slice_corrected - true_phase_slice\n",
    "\n",
    "offset_gs_strong = np.mean(unwrapped_phase_gs_strong_slice - true_phase_slice)\n",
    "unwrapped_phase_gs_strong_slice_corrected = unwrapped_phase_gs_strong_slice - offset_gs_strong\n",
    "diff_map_gs_strong = unwrapped_phase_gs_strong_slice_corrected - true_phase_slice\n",
    "\n",
    "fig, axes = plt.subplots(2, 4, figsize=(20, 10))\n",
    "\n",
    "# Row 1: k_filter_strength = 1.0\n",
    "axes[0, 0].imshow(true_phase_slice, cmap='viridis')\n",
    "axes[0, 0].set_title(f\"True Phase (Slice {slice_idx})\")\n",
    "axes[0, 0].axis('off')\n",
    "fig.colorbar(axes[0,0].images[0], ax=axes[0,0], orientation='horizontal', fraction=0.046, pad=0.08)\n",
    "\n",
    "axes[0, 1].imshow(wrapped_phase_slice, cmap='twilight', vmin=-np.pi, vmax=np.pi)\n",
    "axes[0, 1].set_title(f\"Wrapped Phase (Slice {slice_idx})\")\n",
    "axes[0, 1].axis('off')\n",
    "fig.colorbar(axes[0,1].images[0], ax=axes[0,1], orientation='horizontal', fraction=0.046, pad=0.08)\n",
    "\n",
    "axes[0, 2].imshow(unwrapped_phase_gs_slice_corrected, cmap='viridis')\n",
    "axes[0, 2].set_title(f\"GS Unwrapped (k={k_filter_strength}, Corrected)\")\n",
    "axes[0, 2].axis('off')\n",
    "fig.colorbar(axes[0,2].images[0], ax=axes[0,2], orientation='horizontal', fraction=0.046, pad=0.08)\n",
    "\n",
    "im_diff_gs = axes[0, 3].imshow(diff_map_gs, cmap='coolwarm', vmin=-np.pi/4, vmax=np.pi/4)\n",
    "axes[0, 3].set_title(f\"Difference (GS k={k_filter_strength} - True)\")\n",
    "axes[0, 3].axis('off')\n",
    "fig.colorbar(im_diff_gs, ax=axes[0,3], orientation='horizontal', fraction=0.046, pad=0.08)\n",
    "\n",
    "# Row 2: k_filter_strength = 2.0 (stronger)\n",
    "axes[1, 0].imshow(true_phase_slice, cmap='viridis') # True phase for reference\n",
    "axes[1, 0].set_title(f\"True Phase (Slice {slice_idx})\")\n",
    "axes[1, 0].axis('off')\n",
    "fig.colorbar(axes[1,0].images[0], ax=axes[1,0], orientation='horizontal', fraction=0.046, pad=0.08)\n",
    "\n",
    "axes[1, 1].imshow(wrapped_phase_slice, cmap='twilight', vmin=-np.pi, vmax=np.pi) # Wrapped phase for reference\n",
    "axes[1, 1].set_title(f\"Wrapped Phase (Slice {slice_idx})\")\n",
    "axes[1, 1].axis('off')\n",
    "fig.colorbar(axes[1,1].images[0], ax=axes[1,1], orientation='horizontal', fraction=0.046, pad=0.08)\n",
    "\n",
    "axes[1, 2].imshow(unwrapped_phase_gs_strong_slice_corrected, cmap='viridis')\n",
    "axes[1, 2].set_title(f\"GS Unwrapped (k={k_filter_strength_strong}, Corrected)\")\n",
    "axes[1, 2].axis('off')\n",
    "fig.colorbar(axes[1,2].images[0], ax=axes[1,2], orientation='horizontal', fraction=0.046, pad=0.08)\n",
    "\n",
    "im_diff_gs_strong = axes[1, 3].imshow(diff_map_gs_strong, cmap='coolwarm', vmin=-np.pi/4, vmax=np.pi/4)\n",
    "axes[1, 3].set_title(f\"Difference (GS k={k_filter_strength_strong} - True)\")\n",
    "axes[1, 3].axis('off')\n",
    "fig.colorbar(im_diff_gs_strong, ax=axes[1,3], orientation='horizontal', fraction=0.046, pad=0.08)\n",
    "\n",
    "plt.suptitle(\"Goldstein-Style 3D Phase Unwrapping Results\", fontsize=16)\n",
    "plt.tight_layout(rect=[0, 0, 1, 0.95])\n",
    "plt.show()"
   ]
  }
 ],
 "metadata": {
  "kernelspec": {
   "display_name": "Python 3",
   "language": "python",
   "name": "python3"
  },
  "language_info": {
   "codemirror_mode": {
    "name": "ipython",
    "version": 3
   },
   "file_extension": ".py",
   "mimetype": "text/x-python",
   "name": "python",
   "nbconvert_exporter": "python",
   "pygments_lexer": "ipython3",
   "version": "3.9.7" 
  }
 },
 "nbformat": 4,
 "nbformat_minor": 5
}
