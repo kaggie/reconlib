{
 "cells": [
  {
   "cell_type": "markdown",
   "metadata": {},
   "source": [
    "# PET Reconstruction with OSEM Example\n",
    "\n",
    "This notebook demonstrates a basic PET reconstruction workflow using the Ordered Subsets Expectation Maximization (OSEM) algorithm. We will:\n",
    "1. Generate a simple 2D phantom.\n",
    "2. Define scanner geometry for PET.\n",
    "3. Simulate projection data (sinogram) using a System Matrix, optionally adding Poisson noise.\n",
    "4. Reconstruct the image from the sinogram using the OSEM optimizer.\n",
    "5. Visualize the original phantom, initial guess, and the reconstructed image."
   ]
  },
  {
   "cell_type": "code",
   "execution_count": null,
   "metadata": {},
   "outputs": [],
   "source": [
    "import torch\n",
    "import numpy as np\n",
    "import matplotlib.pyplot as plt\n",
    "\n",
    "# Ensure reconlib is in the Python path (e.g., if running from examples folder)\n",
    "import sys\n",
    "import os\n",
    "sys.path.insert(0, os.path.abspath(os.path.join(os.getcwd(), '..')))\n",
    "\n",
    "from reconlib.pet_ct_simulation import PhantomGenerator, simulate_projection_data\n",
    "from reconlib.geometry import ScannerGeometry, SystemMatrix\n",
    "from reconlib.optimizers import OrderedSubsetsExpectationMaximization\n",
    "from reconlib.plotting import plot_projection_data, visualize_reconstruction\n",
    "from reconlib.regularizers.common import NonnegativityConstraint\n",
    "\n",
    "%matplotlib inline"
   ]
  },
  {
   "cell_type": "markdown",
   "metadata": {},
   "source": [
    "## Setup Device"
   ]
  },
  {
   "cell_type": "code",
   "execution_count": null,
   "metadata": {},
   "outputs": [],
   "source": [
    "device = torch.device('cuda' if torch.cuda.is_available() else 'cpu')\n",
    "print(f\"Using device: {device}\")"
   ]
  },
  {
   "cell_type": "markdown",
   "metadata": {},
   "source": [
    "## 1. Phantom Generation"
   ]
  },
  {
   "cell_type": "code",
   "execution_count": null,
   "metadata": {},
   "outputs": [],
   "source": [
    "img_size = (128, 128)\n",
    "phantom_gen = PhantomGenerator(device=device)\n",
    "\n",
    "# Using 'circles_pet' which was implemented in the previous step\n",
    "# Or use 'shepp-logan-pet' if its 2D version is also implemented\n",
    "try:\n",
    "    phantom = phantom_gen.generate(size=img_size, phantom_type='circles_pet')\n",
    "    print(f\"Generated 'circles_pet' phantom of shape: {phantom.shape}\")\n",
    "except NotImplementedError:\n",
    "    print(\"'circles_pet' not implemented, trying 'shepp-logan-pet'\")\n",
    "    try:\n",
    "        phantom = phantom_gen.generate(size=img_size, phantom_type='shepp-logan-pet')\n",
    "        print(f\"Generated 'shepp-logan-pet' phantom of shape: {phantom.shape}\")\n",
    "    except NotImplementedError as e:\n",
    "        print(f\"Error: {e}. Creating a dummy phantom.\")\n",
    "        phantom = torch.zeros(1, 1, *img_size, device=device)\n",
    "        y_coords, x_coords = torch.ogrid[-img_size[0]//2:img_size[0]//2, -img_size[1]//2:img_size[1]//2]\n",
    "        y_coords = y_coords.to(device)\n",
    "        x_coords = x_coords.to(device)\n",
    "        mask1 = x_coords*x_coords + y_coords*y_coords <= (min(img_size[0],img_size[1])//3)**2\n",
    "        phantom[0,0][mask1] = 1.0\n",
    "\n",
    "# Visualize phantom (squeezing batch and channel dimensions for 2D plot)\n",
    "visualize_reconstruction(phantom.squeeze().cpu().numpy(), main_title=\"Original Phantom\")\n",
    "plt.show()"
   ]
  },
  {
   "cell_type": "markdown",
   "metadata": {},
   "source": [
    "## 2. Scanner Geometry Definition"
   ]
  },
  {
   "cell_type": "code",
   "execution_count": null,
   "metadata": {},
   "outputs": [],
   "source": [
    "num_detectors = 180  # Number of detector bins per projection angle\n",
    "num_angles = 180     # Number of projection angles\n",
    "angles = np.linspace(0, np.pi, num_angles, endpoint=False) # Angles from 0 to pi (180 degrees)\n",
    "\n",
    "scanner_geo = ScannerGeometry(\n",
    "    geometry_type='cylindrical_pet', \n",
    "    angles=angles, \n",
    "    n_detector_pixels=num_detectors, \n",
    "    detector_size=np.array([4.0]), # Example detector element size (e.g., 4mm)\n",
    "    # detector_positions can be None for cylindrical_pet if detector_radius is given\n",
    "    detector_radius=350.0  # Example radius of the PET scanner ring (e.g., 350mm)\n",
    ")\n",
    "\n",
    "print(f\"Scanner geometry type: {scanner_geo.geometry_type}\")\n",
    "print(f\"Number of angles: {len(scanner_geo.angles)}\")\n",
    "print(f\"Number of detector pixels: {scanner_geo.n_detector_pixels}\")\n",
    "\n",
    "# Optional: Visualize geometry (might be basic for PET)\n",
    "# try:\n",
    "#     scanner_geo.visualize_geometry()\n",
    "#     plt.show()\n",
    "# except NotImplementedError as e:\n",
    "#     print(f\"Geometry visualization not implemented for {scanner_geo.geometry_type}: {e}\")"
   ]
  },
  {
   "cell_type": "markdown",
   "metadata": {},
   "source": [
    "## 3. System Matrix and Data Simulation"
   ]
  },
  {
   "cell_type": "code",
   "execution_count": null,
   "metadata": {},
   "outputs": [],
   "source": [
    "sys_matrix = SystemMatrix(scanner_geometry=scanner_geo, img_size=img_size, device=device)\n",
    "\n",
    "# Simulate clean projection data\n",
    "# Phantom shape should be (B, C, H, W) for the projector\n",
    "if phantom.ndim == 2: # If phantom is only H,W from a simple manual creation\n",
    "    phantom_for_proj = phantom.unsqueeze(0).unsqueeze(0).to(device)\n",
    "elif phantom.ndim == 3: # If D,H,W, add batch dim for now (assuming single channel)\n",
    "     phantom_for_proj = phantom.unsqueeze(0).to(device)\n",
    "else: # Assuming already B,C,H,W or similar compatible shape\n",
    "     phantom_for_proj = phantom.to(device)\n",
    "\n",
    "print(f\"Phantom shape for projection: {phantom_for_proj.shape}\")\n",
    "\n",
    "projections_clean = sys_matrix.forward_project(phantom_for_proj)\n",
    "print(f\"Clean projection data shape: {projections_clean.shape}\")\n",
    "\n",
    "# Simulate noisy projection data\n",
    "projections_noisy = simulate_projection_data(phantom_for_proj, sys_matrix, \n",
    "                                           noise_model='poisson', intensity_scale=20000) # Higher scale = less noise\n",
    "print(f\"Noisy projection data shape: {projections_noisy.shape}\")\n",
    "\n",
    "# Visualize the noisy sinogram (squeezing batch and channel for 2D plot if necessary)\n",
    "plot_projection_data(projections_noisy.squeeze().cpu().numpy(), title=\"Noisy Sinogram (Simulated)\")\n",
    "plt.show()"
   ]
  },
  {
   "cell_type": "markdown",
   "metadata": {},
   "source": [
    "## 4. OSEM Reconstruction"
   ]
  },
  {
   "cell_type": "code",
   "execution_count": null,
   "metadata": {},
   "outputs": [],
   "source": [
    "# Ensure initial_image has the same batch and channel dimensions as phantom_for_proj for consistency\n",
    "initial_image = torch.ones_like(phantom_for_proj, dtype=torch.float32, device=device) * torch.mean(phantom_for_proj) # A better start than just ones\n",
    "initial_image[initial_image <= 1e-9] = 1e-9 # Ensure positivity\n",
    "\n",
    "num_iterations = 20 # Number of full iterations\n",
    "num_subsets = 10    # Number of subsets for OSEM\n",
    "\n",
    "osem_reconstructor = OrderedSubsetsExpectationMaximization(\n",
    "    system_matrix=sys_matrix, \n",
    "    num_subsets=num_subsets, \n",
    "    num_iterations=num_iterations, \n",
    "    device=device,\n",
    "    verbose=True\n",
    ")\n",
    "\n",
    "# The `solve` method of Optimizer expects: \n",
    "# k_space_data (here, our projection_data),\n",
    "# forward_op (our system_matrix),\n",
    "# regularizer (None for basic OSEM),\n",
    "# initial_guess (our initial_image).\n",
    "reconstructed_image_osem = osem_reconstructor.solve(\n",
    "    k_space_data=projections_noisy, \n",
    "    forward_op=sys_matrix, # OSEM will use the system_matrix it was initialized with\n",
    "    initial_guess=initial_image\n",
    ")\n",
    "\n",
    "print(f\"Reconstructed image shape: {reconstructed_image_osem.shape}\")"
   ]
  },
  {
   "cell_type": "markdown",
   "metadata": {},
   "source": [
    "## 5. Visualization of Results"
   ]
  },
  {
   "cell_type": "code",
   "execution_count": null,
   "metadata": {},
   "outputs": [],
   "source": [
    "fig, axes = plt.subplots(1, 3, figsize=(18, 6))\n",
    "\n",
    "# Original Phantom\n",
    "axes[0].imshow(phantom_for_proj.squeeze().cpu().numpy(), cmap='gray', vmin=0, vmax=phantom_for_proj.max())\n",
    "axes[0].set_title('Original Phantom')\n",
    "axes[0].axis('off')\n",
    "\n",
    "# Initial Image (if different from just ones)\n",
    "axes[1].imshow(initial_image.squeeze().cpu().numpy(), cmap='gray', vmin=0, vmax=initial_image.max())\n",
    "axes[1].set_title('Initial Image')\n",
    "axes[1].axis('off')\n",
    "\n",
    "# OSEM Reconstructed Image\n",
    "im = axes[2].imshow(reconstructed_image_osem.squeeze().cpu().numpy(), cmap='gray', vmin=0, vmax=reconstructed_image_osem.max())\n",
    "axes[2].set_title(f'OSEM Recon ({num_iterations} iter, {num_subsets} subsets)')\n",
    "axes[2].axis('off')\n",
    "\n",
    "fig.colorbar(im, ax=axes[2], fraction=0.046, pad=0.04) # Add colorbar to the reconstructed image\n",
    "plt.tight_layout()\n",
    "plt.show()\n",
    "\n",
    "# Alternative visualization using the dedicated function\n",
    "# visualize_reconstruction(phantom_for_proj.squeeze().cpu().numpy(), main_title=\"Original Phantom\")\n",
    "# plt.show()\n",
    "# visualize_reconstruction(reconstructed_image_osem.squeeze().cpu().numpy(), main_title=f\"OSEM Recon ({num_iterations} iter, {num_subsets} subsets)\")\n",
    "# plt.show()"
   ]
  }
 ],
 "metadata": {
  "kernelspec": {
   "display_name": "Python 3",
   "language": "python",
   "name": "python3"
  },
  "language_info": {
   "codemirror_mode": {
    "name": "ipython",
    "version": 3
   },
   "file_extension": ".py",
   "mimetype": "text/x-python",
   "name": "python",
   "nbconvert_exporter": "python",
   "pygments_lexer": "ipython3",
   "version": "3.9.7"
  }
 },
 "nbformat": 4,
 "nbformat_minor": 5
}
