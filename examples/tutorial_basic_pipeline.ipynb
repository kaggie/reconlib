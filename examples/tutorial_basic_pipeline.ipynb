{
 "cells": [
  {
   "cell_type": "markdown",
   "metadata": {},
   "source": [
    "# User Guide: Basic Non-Cartesian Reconstruction Pipeline"
   ]
  },
  {
   "cell_type": "markdown",
   "metadata": {},
   "source": [
    "This tutorial guides you through setting up and running a simple end-to-end 2D non-Cartesian MRI reconstruction pipeline using the `reconlib` library. We will cover the essential steps from simulating k-space data to reconstructing an image using a NUFFT operator and an iterative solver.\n",
    "\n",
    "**Steps Covered:**\n",
    "1. Setup and necessary imports.\n",
    "2. Generation of a phantom and a non-Cartesian (radial) k-space trajectory.\n",
    "3. Simulation of k-space data, including adding noise.\n",
    "4. Configuration and instantiation of the NUFFT (Non-Uniform Fast Fourier Transform) operator.\n",
    "5. Performing image reconstruction using the Conjugate Gradient solver.\n",
    "6. Visualizing the results."
   ]
  },
  {
   "cell_type": "markdown",
   "metadata": {},
   "source": [
    "## 1. Setup and Imports"
   ]
  },
  {
   "cell_type": "code",
   "execution_count": null,
   "metadata": {},
   "outputs": [],
   "source": [
    "%matplotlib inline\n",
    "import torch\n",
    "import numpy as np\n",
    "import matplotlib.pyplot as plt\n",
    "\n",
    "# ReconLib imports\n",
    "try:\n",
    "    from reconlib.nufft import NUFFT2D\n",
    "    from reconlib.solvers import conjugate_gradient_reconstruction\n",
    "    # For data simulation - assuming functions from iternufft.py are suitable\n",
    "    # These were identified during the creation of voronoi_recon_comparison.ipynb\n",
    "    from iternufft import generate_phantom_2d, generate_radial_trajectory_2d\n",
    "    print(\"Successfully imported reconlib components and simulation utilities.\")\n",
    "except ImportError as e:\n",
    "    print(f\"Error importing modules: {e}\")\n",
    "    print(\"Please ensure reconlib is installed and iternufft.py is in the Python path.\")\n",
    "\n",
    "# Device configuration\n",
    "device = torch.device(\"cuda\" if torch.cuda.is_available() else \"cpu\")\n",
    "print(f\"Using device: {device}\")"
   ]
  },
  {
   "cell_type": "markdown",
   "metadata": {},
   "source": [
    "## 2. Data Generation\n",
    "\n",
    "First, we'll define the parameters for our simulation, generate a simple 2D phantom, create a radial k-space trajectory, and then simulate the k-space data by applying the forward NUFFT operation. Finally, we'll add some noise to make the reconstruction task more realistic."
   ]
  },
  {
   "cell_type": "code",
   "execution_count": null,
   "metadata": {},
   "outputs": [],
   "source": [
    "# --- Configuration ---\n",
    "IMAGE_SIZE = 128       # Size of the image (NxN)\n",
    "N_SPOKES = 128         # Number of radial spokes in k-space\n",
    "N_SAMPLES_PER_SPOKE = int(IMAGE_SIZE * 1.5) # Number of samples along each spoke (oversampling factor of 1.5 along readout)\n",
    "NOISE_STD_PERCENT = 0.02 # Noise level as a percentage of max k-space signal\n",
    "\n",
    "# --- Generate Phantom ---\n",
    "try:\n",
    "    phantom_img = generate_phantom_2d(size=IMAGE_SIZE, device=device)\n",
    "    phantom_complex = phantom_img.to(torch.complex64)\n",
    "    print(f\"Phantom generated with shape: {phantom_img.shape}\")\n",
    "except NameError:\n",
    "    print(\"generate_phantom_2d not available. Using a placeholder.\")\n",
    "    phantom_complex = torch.zeros((IMAGE_SIZE, IMAGE_SIZE), dtype=torch.complex64, device=device)\n",
    "\n",
    "plt.figure(figsize=(4, 4))\n",
    "plt.imshow(phantom_complex.abs().cpu().numpy(), cmap='gray')\n",
    "plt.title(f\"Original Phantom ({IMAGE_SIZE}x{IMAGE_SIZE})\")\n",
    "plt.axis('off')\n",
    "plt.show()\n",
    "\n",
    "# --- Generate K-Space Trajectory ---\n",
    "try:\n",
    "    k_trajectory = generate_radial_trajectory_2d(\n",
    "        num_spokes=N_SPOKES,\n",
    "        samples_per_spoke=N_SAMPLES_PER_SPOKE,\n",
    "        device=device\n",
    "    )\n",
    "    print(f\"K-space trajectory generated. Shape: {k_trajectory.shape}\")\n",
    "except NameError:\n",
    "    print(\"generate_radial_trajectory_2d not available. Using placeholder.\")\n",
    "    k_trajectory = torch.rand((N_SPOKES * N_SAMPLES_PER_SPOKE, 2), device=device) - 0.5\n",
    "\n",
    "plt.figure(figsize=(4, 4))\n",
    "plt.scatter(k_trajectory[:, 0].cpu().numpy(), k_trajectory[:, 1].cpu().numpy(), s=0.5)\n",
    "plt.title(f\"K-Space Trajectory\")\n",
    "plt.xlabel(\"kx\"); plt.ylabel(\"ky\")\n",
    "plt.axis('square')\n",
    "plt.show()"
   ]
  },
  {
   "cell_type": "markdown",
   "metadata": {},
   "source": [
    "### Simulate K-Space Data and Add Noise"
   ]
  },
  {
   "cell_type": "code",
   "execution_count": null,
   "metadata": {},
   "outputs": [],
   "source": [
    "# --- Simulate K-Space Data (Forward NUFFT) ---\n",
    "# First, we need a NUFFT operator for the forward simulation.\n",
    "# We'll use default parameters for NUFFT2D for simplicity here.\n",
    "# These parameters should be suitable for the k_trajectory and phantom_complex defined earlier.\n",
    "# No explicit density compensation is typically used for the forward model.\n",
    "\n",
    "try:\n",
    "    nufft_params_sim = {\n",
    "        'image_shape': (IMAGE_SIZE, IMAGE_SIZE),\n",
    "        'k_trajectory': k_trajectory,\n",
    "        'oversamp_factor': (2.0, 2.0), \n",
    "        'kb_J': (4, 4),      \n",
    "        'kb_alpha': (2.34 * 4, 2.34 * 4), \n",
    "        'Ld': (1024, 1024), \n",
    "        'kb_m': (0.0, 0.0),       \n",
    "        'device': device\n",
    "    }\n",
    "    nufft_op_sim = NUFFT2D(**nufft_params_sim)\n",
    "    print(\"NUFFT operator for simulation created.\")\n",
    "\n",
    "    k_space_data_clean = nufft_op_sim.forward(phantom_complex)\n",
    "    print(f\"Clean k-space data simulated. Shape: {k_space_data_clean.shape}\")\n",
    "\n",
    "    # --- Add Complex Gaussian Noise ---\n",
    "    noise_std_val = NOISE_STD_PERCENT * torch.max(torch.abs(k_space_data_clean))\n",
    "    \n",
    "    # Generate noise for real and imaginary parts separately then combine\n",
    "    noise_real_part = torch.randn_like(k_space_data_clean.real) * noise_std_val\n",
    "    noise_imag_part = torch.randn_like(k_space_data_clean.imag) * noise_std_val\n",
    "    complex_noise = torch.complex(noise_real_part, noise_imag_part).to(device)\n",
    "    \n",
    "    k_space_data_noisy = k_space_data_clean + complex_noise\n",
    "    print(f\"Noisy k-space data created. Shape: {k_space_data_noisy.shape}\")\n",
    "\n",
    "except NameError as e:\n",
    "    print(f\"A required variable (IMAGE_SIZE, k_trajectory, device, phantom_complex, NOISE_STD_PERCENT, NUFFT2D) is not defined: {e}\")\n",
    "    print(\"Please ensure the previous cells have been run.\")\n",
    "    k_space_data_noisy = torch.zeros((k_trajectory.shape[0] if 'k_trajectory' in globals() else 1), dtype=torch.complex64, device=device) # Placeholder\n",
    "except Exception as e:\n",
    "    print(f\"Error during k-space simulation or noise addition: {e}\")\n",
    "    k_space_data_noisy = torch.zeros((k_trajectory.shape[0] if 'k_trajectory' in globals() else 1), dtype=torch.complex64, device=device) # Placeholder\n",
    "\n",
    "\n",
    "# --- Visualize K-Space (Magnitude) ---\n",
    "plt.figure(figsize=(5,5))\n",
    "if 'k_space_data_noisy' in globals() and k_space_data_noisy.numel() > 0 :\n",
    "    plt.scatter(k_trajectory[:,0].cpu(), k_trajectory[:,1].cpu(), \n",
    "                c=torch.log(torch.abs(k_space_data_noisy.cpu()) + 1e-9), # log scale for better viz\n",
    "                s=1, cmap='viridis')\n",
    "    plt.colorbar(label=\"log|k-space data|\")\n",
    "else:\n",
    "    plt.text(0.5,0.5, \"K-space data not available\", ha='center', va='center')\n",
    "plt.title(\"Simulated Noisy K-Space Data (Log Magnitude)\")\n",
    "plt.xlabel(\"kx\"); plt.ylabel(\"ky\")\n",
    "plt.axis('square')\n",
    "plt.show()"
   ]
  },
  {
   "cell_type": "markdown",
   "metadata": {},
   "source": [
    "## 3. NUFFT Operator Setup"
   ]
  },
  {
   "cell_type": "code",
   "execution_count": null,
   "metadata": {},
   "outputs": [],
   "source": [
    "# --- NUFFT Operator Setup for Reconstruction ---\n",
    "# For reconstruction, we instantiate another NUFFT operator.\n",
    "# This operator will be used by the solver (e.g., Conjugate Gradient).\n",
    "# For this basic tutorial, we'll configure it similarly to the simulation NUFFT,\n",
    "# without explicitly passing density_comp_weights. The conjugate_gradient_reconstruction\n",
    "# solver itself will handle passing relevant parts of these nufft_kwargs to the\n",
    "# NUFFT2D constructor. If density_comp_weights were to be used (e.g. Voronoi),\n",
    "# they would be included in this nufft_kwargs dictionary.\n",
    "\n",
    "print(\"\\n--- Setting up NUFFT Operator for Reconstruction ---\")\n",
    "try:\n",
    "    # These parameters are largely the same as for the simulation NUFFT operator.\n",
    "    # The k_trajectory and image_shape must match the data we are reconstructing.\n",
    "    nufft_recon_kwargs = {\n",
    "        'oversamp_factor': (2.0, 2.0), \n",
    "        'kb_J': (4, 4),      \n",
    "        'kb_alpha': (2.34 * 4, 2.34 * 4), \n",
    "        'Ld': (1024, 1024), \n",
    "        'kb_m': (0.0, 0.0)\n",
    "        # device, image_shape, k_trajectory will be passed by the solver\n",
    "        # or when NUFFT2D is directly instantiated with all args.\n",
    "        # For clarity here, we are defining the 'kwargs' part that the solver would use.\n",
    "        # No 'density_comp_weights' are specified here for the most basic case.\n",
    "        # The solver (e.g. conjugate_gradient_reconstruction) will instantiate\n",
    "        # NUFFT2D using these kwargs along with image_shape, k_trajectory, and device.\n",
    "    }\n",
    "    \n",
    "    # We can also instantiate it directly for clarity or if we wanted to perform\n",
    "    # a simple adjoint reconstruction manually (though solvers handle this).\n",
    "    nufft_op_recon_direct_instance = NUFFT2D(\n",
    "        image_shape=(IMAGE_SIZE, IMAGE_SIZE), # from previous cell\n",
    "        k_trajectory=k_trajectory,          # from previous cell\n",
    "        device=device,                      # from previous cell\n",
    "        **nufft_recon_kwargs\n",
    "    )\n",
    "    print(f\"NUFFT2D operator for reconstruction purposes configured (can be instantiated by solver or directly).\")\n",
    "    print(f\"Using parameters: image_shape={(IMAGE_SIZE,IMAGE_SIZE)}, os_factor={nufft_recon_kwargs['oversamp_factor']}, J={nufft_recon_kwargs['kb_J']}\")\n",
    "    if hasattr(nufft_op_recon_direct_instance, 'density_comp_weights') and nufft_op_recon_direct_instance.density_comp_weights is not None:\n",
    "        print(f\"NUFFT op has density_comp_weights of shape: {nufft_op_recon_direct_instance.density_comp_weights.shape}\")\n",
    "    else:\n",
    "        print(\"NUFFT op configured without explicit external density_comp_weights (will use internal default if any).\")\n",
    "\n",
    "except NameError as e:\n",
    "    print(f\"A required variable (IMAGE_SIZE, k_trajectory, device, NUFFT2D) is not defined: {e}\")\n",
    "    print(\"Please ensure the previous cells have been run.\")\n",
    "    nufft_recon_kwargs = {} # Placeholder\n",
    "except Exception as e:\n",
    "    print(f\"Error setting up NUFFT reconstruction operator: {e}\")\n",
    "    nufft_recon_kwargs = {} # Placeholder"
   ]
  },
  {
   "cell_type": "markdown",
   "metadata": {},
   "source": [
    "## 4. Image Reconstruction"
   ]
  },
  {
   "cell_type": "code",
   "execution_count": null,
   "metadata": {},
   "outputs": [],
   "source": []
  },
  {
   "cell_type": "markdown",
   "metadata": {},
   "source": [
    "## 5. Visualization and Conclusion"
   ]
  },
  {
   "cell_type": "code",
   "execution_count": null,
   "metadata": {},
   "outputs": [],
   "source": []
  }
 ],
 "metadata": {
  "kernelspec": {
   "display_name": "Python 3",
   "language": "python",
   "name": "python3"
  },
  "language_info": {
   "codemirror_mode": {
    "name": "ipython",
    "version": 3
   },
   "file_extension": ".py",
   "mimetype": "text/x-python",
   "name": "python",
   "nbconvert_exporter": "python",
   "pygments_lexer": "ipython3",
   "version": "3.x"
  }
 },
 "nbformat": 4,
 "nbformat_minor": 5
}
