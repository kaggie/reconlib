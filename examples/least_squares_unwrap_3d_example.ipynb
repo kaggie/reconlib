{
 "cells": [
  {
   "cell_type": "markdown",
   "metadata": {},
   "source": [
    "# 3D Least-Squares Phase Unwrapping Example\n",
    "\n",
    "This notebook demonstrates the `unwrap_phase_3d_least_squares` function from `reconlib.phase_unwrapping` using synthetic 3D phase data. This method uses an FFT-based Poisson solver."
   ]
  },
  {
   "cell_type": "code",
   "execution_count": null,
   "metadata": {},
   "outputs": [],
   "source": [
    "import torch\n",
    "import numpy as np\n",
    "import matplotlib.pyplot as plt\n",
    "from reconlib.phase_unwrapping import unwrap_phase_3d_least_squares\n",
    "from reconlib.plotting import plot_phase_image, plot_unwrapped_phase_map # Using plot_unwrapped_phase_map\n",
    "\n",
    "%matplotlib inline"
   ]
  },
  {
   "cell_type": "markdown",
   "metadata": {},
   "source": [
    "## Helper Function to Generate Synthetic Data"
   ]
  },
  {
   "cell_type": "code",
   "execution_count": null,
   "metadata": {},
   "outputs": [],
   "source": [
    "def _wrap_phase_torch(phase_tensor: torch.Tensor) -> torch.Tensor:\n",
    "    \"\"\"Wraps phase values to the interval [-pi, pi) using PyTorch operations.\"\"\"\n",
    "    pi = getattr(torch, 'pi', np.pi)\n",
    "    return (phase_tensor + pi) % (2 * pi) - pi\n",
    "\n",
    "def generate_synthetic_3d_phase_data(shape=(16, 64, 64), ramps_scale=(1.5, 2.0, 2.5), device='cpu'):\n",
    "    \"\"\"\n",
    "    Generates synthetic 3D true and wrapped phase data.\n",
    "    Creates a sum of 3D linear ramps.\n",
    "    \"\"\"\n",
    "    d, h, w = shape\n",
    "    pi = getattr(torch, 'pi', np.pi)\n",
    "    z_coords = torch.linspace(-pi * ramps_scale[0], pi * ramps_scale[0], d, device=device)\n",
    "    y_coords = torch.linspace(-pi * ramps_scale[1], pi * ramps_scale[1], h, device=device)\n",
    "    x_coords = torch.linspace(-pi * ramps_scale[2], pi * ramps_scale[2], w, device=device)\n",
    "\n",
    "    true_phase = z_coords.view(-1, 1, 1) + y_coords.view(1, -1, 1) + x_coords.view(1, 1, -1)\n",
    "    true_phase = true_phase.expand(d,h,w) # Ensure exact shape\n",
    "\n",
    "    wrapped_phase = _wrap_phase_torch(true_phase)\n",
    "    return true_phase, wrapped_phase"
   ]
  },
  {
   "cell_type": "markdown",
   "metadata": {},
   "source": [
    "## Generate Data and Perform Unwrapping"
   ]
  },
  {
   "cell_type": "code",
   "execution_count": null,
   "metadata": {},
   "outputs": [],
   "source": [
    "device = torch.device('cuda' if torch.cuda.is_available() else 'cpu')\n",
    "print(f\"Using device: {device}\")\n",
    "\n",
    "data_shape = (16, 64, 64) # (depth, height, width)\n",
    "true_phase, wrapped_phase = generate_synthetic_3d_phase_data(shape=data_shape, device=device)\n",
    "\n",
    "# Perform least-squares unwrapping\n",
    "print(f\"Running Least-Squares Unwrapping...\")\n",
    "unwrapped_phase_ls = unwrap_phase_3d_least_squares(wrapped_phase)\n",
    "print(\"Unwrapping complete.\")"
   ]
  },
  {
   "cell_type": "markdown",
   "metadata": {},
   "source": [
    "## Visualize Results\n",
    "\n",
    "We'll visualize a central slice from the 3D volumes."
   ]
  },
  {
   "cell_type": "code",
   "execution_count": null,
   "metadata": {},
   "outputs": [],
   "source": [
    "slice_idx = data_shape[0] // 2\n",
    "\n",
    "true_phase_slice = true_phase[slice_idx, :, :].cpu().numpy()\n",
    "wrapped_phase_slice = wrapped_phase[slice_idx, :, :].cpu().numpy()\n",
    "unwrapped_phase_ls_slice = unwrapped_phase_ls[slice_idx, :, :].cpu().numpy()\n",
    "\n",
    "# Account for potential constant offset in unwrapped result for fair comparison\n",
    "offset_ls = np.mean(unwrapped_phase_ls_slice - true_phase_slice)\n",
    "unwrapped_phase_ls_slice_corrected = unwrapped_phase_ls_slice - offset_ls\n",
    "diff_map_ls = unwrapped_phase_ls_slice_corrected - true_phase_slice\n",
    "\n",
    "fig, axes = plt.subplots(1, 4, figsize=(20, 5))\n",
    "\n",
    "axes[0].imshow(true_phase_slice, cmap='viridis')\n",
    "axes[0].set_title(f\"True Phase (Slice {slice_idx})\")\n",
    "axes[0].axis('off')\n",
    "fig.colorbar(axes[0].images[0], ax=axes[0], orientation='horizontal', fraction=0.046, pad=0.04)\n",
    "\n",
    "axes[1].imshow(wrapped_phase_slice, cmap='twilight', vmin=-np.pi, vmax=np.pi)\n",
    "axes[1].set_title(f\"Wrapped Phase (Slice {slice_idx})\")\n",
    "axes[1].axis('off')\n",
    "fig.colorbar(axes[1].images[0], ax=axes[1], orientation='horizontal', fraction=0.046, pad=0.04)\n",
    "\n",
    "axes[2].imshow(unwrapped_phase_ls_slice_corrected, cmap='viridis')\n",
    "axes[2].set_title(f\"LS Unwrapped (Slice {slice_idx}, Corrected)\")\n",
    "axes[2].axis('off')\n",
    "fig.colorbar(axes[2].images[0], ax=axes[2], orientation='horizontal', fraction=0.046, pad=0.04)\n",
    "\n",
    "im_diff = axes[3].imshow(diff_map_ls, cmap='coolwarm', vmin=-np.pi/16, vmax=np.pi/16) # LS is usually more accurate\n",
    "axes[3].set_title(f\"Difference Map (LS - True, Slice {slice_idx})\")\n",
    "axes[3].axis('off')\n",
    "fig.colorbar(im_diff, ax=axes[3], orientation='horizontal', fraction=0.046, pad=0.04)\n",
    "\n",
    "plt.suptitle(\"Least-Squares 3D Phase Unwrapping Results\", fontsize=16)\n",
    "plt.tight_layout(rect=[0, 0, 1, 0.95])\n",
    "plt.show()"
   ]
  }
 ],
 "metadata": {
  "kernelspec": {
   "display_name": "Python 3",
   "language": "python",
   "name": "python3"
  },
  "language_info": {
   "codemirror_mode": {
    "name": "ipython",
    "version": 3
   },
   "file_extension": ".py",
   "mimetype": "text/x-python",
   "name": "python",
   "nbconvert_exporter": "python",
   "pygments_lexer": "ipython3",
   "version": "3.9.7" 
  }
 },
 "nbformat": 4,
 "nbformat_minor": 5
}
