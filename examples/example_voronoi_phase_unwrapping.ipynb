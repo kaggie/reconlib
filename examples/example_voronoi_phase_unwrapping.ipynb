{
 "cells": [
  {
   "cell_type": "markdown",
   "metadata": {},
   "source": [
    "# Demonstration of Voronoi-Based Phase Unwrapping\n",
    "\n",
    "This notebook demonstrates the use of the `unwrap_phase_voronoi_region_growing` function from `reconlib.phase_unwrapping.voronoi_unwrap` for 2D phase unwrapping. We will:\n",
    "1. Generate a synthetic 2D wrapped phase image and its ground truth.\n",
    "2. Apply the Voronoi-based unwrapping algorithm.\n",
    "3. Visualize the wrapped phase, unwrapped result, ground truth, and the difference map.\n",
    "4. Optionally, compare with another unwrapping algorithm (`unwrap_phase_3d_goldstein`)."
   ]
  },
  {
   "cell_type": "markdown",
   "metadata": {},
   "source": [
    "## 1. Setup and Imports"
   ]
  },
  {
   "cell_type": "code",
   "execution_count": null,
   "metadata": {},
   "outputs": [],
   "source": [
    "import torch\n",
    "import numpy as np\n",
    "import matplotlib.pyplot as plt\n",
    "import sys\n",
    "import os\n",
    "\n",
    "# Add reconlib to path (if not installed)\n",
    "module_path = os.path.abspath(os.path.join('..'))\n",
    "if module_path not in sys.path:\n",
    "    sys.path.append(module_path)\n",
    "\n",
    "from reconlib.phase_unwrapping.voronoi_unwrap import unwrap_phase_voronoi_region_growing\n",
    "from reconlib.phase_unwrapping.goldstein_unwrap import unwrap_phase_3d_goldstein # For optional comparison\n",
    "from reconlib.plotting import plot_phase_image # For visualization"
   ]
  },
  {
   "cell_type": "markdown",
   "metadata": {},
   "source": [
    "## 2. Generate Synthetic Wrapped Phase Data\n",
    "\n",
    "We'll create a simple 2D phase map composed of two Gaussian peaks, then wrap it."
   ]
  },
  {
   "cell_type": "code",
   "execution_count": null,
   "metadata": {},
   "outputs": [],
   "source": [
    "def create_synthetic_wrapped_phase_2d(shape=(128, 128), peak_params=None, device='cpu'):\n",
    "    \"\"\"Creates a synthetic 2D wrapped phase image and its ground truth.\"\"\"\n",
    "    if peak_params is None:\n",
    "        peak_params = [\n",
    "            {'amplitude': 4 * np.pi, 'center_x': shape[1]*0.35, 'center_y': shape[0]*0.35, 'sigma_x': shape[1]*0.1, 'sigma_y': shape[0]*0.1},\n",
    "            {'amplitude': -3 * np.pi, 'center_x': shape[1]*0.65, 'center_y': shape[0]*0.65, 'sigma_x': shape[1]*0.15, 'sigma_y': shape[0]*0.15}\n",
    "        ]\n",
    "    \n",
    "    Y, X = torch.meshgrid(torch.arange(shape[0], device=device, dtype=torch.float32),\n",
    "                          torch.arange(shape[1], device=device, dtype=torch.float32),\n",
    "                          indexing='ij')\n",
    "    \n",
    "    unwrapped_phase = torch.zeros(shape, device=device, dtype=torch.float32)\n",
    "    for params in peak_params:\n",
    "        term_y = ((Y - params['center_y'])**2) / (2 * params['sigma_y']**2)\n",
    "        term_x = ((X - params['center_x'])**2) / (2 * params['sigma_x']**2)\n",
    "        unwrapped_phase += params['amplitude'] * torch.exp(-(term_x + term_y))\n",
    "        \n",
    "    # Wrap the phase to [-pi, pi)\n",
    "    wrapped_phase = (unwrapped_phase + torch.pi) % (2 * torch.pi) - torch.pi\n",
    "    \n",
    "    return wrapped_phase, unwrapped_phase\n",
    "\n",
    "device = torch.device('cuda' if torch.cuda.is_available() else 'cpu')\n",
    "image_shape_2d = (100, 100) # Slightly smaller for faster processing in notebook\n",
    "voxel_size_2d = (1.0, 1.0) # Physical size of voxels/pixels\n",
    "\n",
    "wrapped_phase_2d, ground_truth_unwrapped_2d = create_synthetic_wrapped_phase_2d(shape=image_shape_2d, device=device)\n",
    "\n",
    "# Optional: Create a simple circular mask\n",
    "center_y, center_x = image_shape_2d[0] // 2, image_shape_2d[1] // 2\n",
    "radius = min(image_shape_2d) * 0.45\n",
    "Y, X = torch.meshgrid(torch.arange(image_shape_2d[0], device=device),\n",
    "                      torch.arange(image_shape_2d[1], device=device),\n",
    "                      indexing='ij')\n",
    "mask_2d = (X - center_x)**2 + (Y - center_y)**2 < radius**2\n",
    "\n",
    "print(f\"Generated wrapped phase shape: {wrapped_phase_2d.shape}\")\n",
    "print(f\"Mask shape: {mask_2d.shape}\")"
   ]
  },
  {
   "cell_type": "markdown",
   "metadata": {},
   "source": [
    "### Visualize Wrapped Phase and Mask"
   ]
  },
  {
   "cell_type": "code",
   "execution_count": null,
   "metadata": {},
   "outputs": [],
   "source": [
    "fig, axes = plt.subplots(1, 2, figsize=(10, 5))\n",
    "plot_phase_image(wrapped_phase_2d.cpu().numpy(), title=\"Original Wrapped Phase (2D)\", ax=axes[0])\n",
    "axes[1].imshow(mask_2d.cpu().numpy(), cmap='gray')\n",
    "axes[1].set_title(\"Binary Mask (2D)\")\n",
    "axes[1].axis('off')\n",
    "plt.tight_layout()\n",
    "plt.show()"
   ]
  },
  {
   "cell_type": "markdown",
   "metadata": {},
   "source": [
    "## 3. Perform Voronoi-Based Phase Unwrapping\n",
    "\n",
    "Now, we apply `unwrap_phase_voronoi_region_growing`."
   ]
  },
  {
   "cell_type": "code",
   "execution_count": null,
   "metadata": {},
   "outputs": [],
   "source": [
    "# Parameters for Voronoi unwrapping\n",
    "params_voronoi = {\n",
    "    'mask': mask_2d,\n",
    "    'voxel_size': voxel_size_2d,\n",
    "    'quality_threshold': 0.05, # Lower for potentially noisy synthetic data or sparse seeds\n",
    "    'min_seed_distance': 5.0,  # Physical distance in units of voxel_size\n",
    "    'neighbor_connectivity': 1, # 4-connectivity for 2D\n",
    "    'max_iterations_rg': -1    # Process all possible voxels within constraints\n",
    "}\n",
    "\n",
    "print(\"Starting Voronoi-based unwrapping...\")\n",
    "unwrapped_phase_voronoi = unwrap_phase_voronoi_region_growing(\n",
    "    phase_data=wrapped_phase_2d,\n",
    "    **params_voronoi\n",
    ")\n",
    "print(\"Voronoi-based unwrapping finished.\")"
   ]
  },
  {
   "cell_type": "markdown",
   "metadata": {},
   "source": [
    "### Visualize Quality Map (Approximation)\n",
    "\n",
    "The `_vu_compute_quality_map` is internal. We'll replicate its logic here for visualization. This is for illustrative purposes; in a real application, you might not need to visualize this directly unless debugging."
   ]
  },
  {
   "cell_type": "code",
   "execution_count": null,
   "metadata": {},
   "outputs": [],
   "source": [
    "def _vu_wrap_to_pi_notebook(phase_diff: torch.Tensor) -> torch.Tensor:\n",
    "    return (phase_diff + torch.pi) % (2 * torch.pi) - torch.pi\n",
    "\n",
    "def visualize_quality_map(phase: torch.Tensor, voxel_size_tuple: Tuple[float,...], mask: Optional[torch.Tensor], device_str: str) -> None:\n",
    "    \"\"\"Replicates logic of _vu_compute_quality_map for visualization.\"\"\"\n",
    "    voxel_size_t = torch.tensor(list(voxel_size_tuple), dtype=torch.float32, device=device_str)\n",
    "    ndim = phase.ndim\n",
    "    gradients_sq = torch.zeros_like(phase, dtype=phase.dtype)\n",
    "    for i in range(ndim):\n",
    "        diff_fwd = _vu_wrap_to_pi_notebook(torch.roll(phase, shifts=-1, dims=i) - phase) / voxel_size_t[i]\n",
    "        diff_bwd = _vu_wrap_to_pi_notebook(phase - torch.roll(phase, shifts=1, dims=i)) / voxel_size_t[i]\n",
    "        gradients_sq += diff_fwd**2 + diff_bwd**2\n",
    "    quality_map_approx = 1.0 / (1.0 + gradients_sq)\n",
    "    min_q, max_q = quality_map_approx.min(), quality_map_approx.max()\n",
    "    if max_q > min_q: quality_map_approx = (quality_map_approx - min_q) / (max_q - min_q)\n",
    "    else: quality_map_approx.fill_(0.5)\n",
    "    if mask is not None: quality_map_approx.masked_fill_(~mask, 0.0)\n",
    "    \n",
    "    plt.figure(figsize=(6,5))\n",
    "    plt.imshow(quality_map_approx.cpu().numpy(), cmap='viridis')\n",
    "    plt.title('Approximated Quality Map (for Voronoi Seeds)')\n",
    "    plt.colorbar(label='Quality')\n",
    "    plt.axis('off')\n",
    "    plt.show()\n",
    "\n",
    "visualize_quality_map(wrapped_phase_2d, voxel_size_2d, mask_2d, str(device))"
   ]
  },
  {
   "cell_type": "markdown",
   "metadata": {},
   "source": [
    "## 4. Visualizations of Unwrapping Results"
   ]
  },
  {
   "cell_type": "code",
   "execution_count": null,
   "metadata": {},
   "outputs": [],
   "source": [
    "fig, axes = plt.subplots(1, 3, figsize=(18, 5))\n",
    "\n",
    "# Plot Voronoi Unwrapped Phase\n",
    "im0 = axes[0].imshow(unwrapped_phase_voronoi.cpu().numpy(), cmap='viridis')\n",
    "axes[0].set_title('Voronoi Unwrapped Phase')\n",
    "axes[0].axis('off')\n",
    "fig.colorbar(im0, ax=axes[0], label='Phase (radians)')\n",
    "\n",
    "# Plot Ground Truth Unwrapped Phase\n",
    "im1 = axes[1].imshow(ground_truth_unwrapped_2d.cpu().numpy(), cmap='viridis')\n",
    "axes[1].set_title('Ground Truth Unwrapped Phase')\n",
    "axes[1].axis('off')\n",
    "fig.colorbar(im1, ax=axes[1], label='Phase (radians)')\n",
    "\n",
    "# Plot Difference\n",
    "difference_voronoi = unwrapped_phase_voronoi - ground_truth_unwrapped_2d\n",
    "if mask_2d is not None:\n",
    "    difference_voronoi.masked_fill_(~mask_2d, 0)\n",
    "im2 = axes[2].imshow(difference_voronoi.cpu().numpy(), cmap='coolwarm', vmin=-0.1, vmax=0.1) # Small range for diff\n",
    "axes[2].set_title('Difference (Voronoi - GT)')\n",
    "axes[2].axis('off')\n",
    "fig.colorbar(im2, ax=axes[2], label='Phase Error (radians)')\n",
    "\n",
    "plt.suptitle('Voronoi-Based Unwrapping Results', fontsize=16)\n",
    "plt.tight_layout(rect=[0, 0, 1, 0.96])\n",
    "plt.show()"
   ]
  },
  {
   "cell_type": "markdown",
   "metadata": {},
   "source": [
    "## 5. (Optional) Comparison with Goldstein Unwrapping"
   ]
  },
  {
   "cell_type": "code",
   "execution_count": null,
   "metadata": {},
   "outputs": [],
   "source": [
    "# Goldstein unwrapping is 3D. We'll make our 2D data a single-slice 3D volume.\n",
    "wrapped_phase_3d_for_goldstein = wrapped_phase_2d.unsqueeze(0) # (1, H, W)\n",
    "\n",
    "print(\"Starting Goldstein unwrapping...\")\n",
    "unwrapped_phase_goldstein_3d = unwrap_phase_3d_goldstein(wrapped_phase_3d_for_goldstein, k_filter_strength=1.0)\n",
    "unwrapped_phase_goldstein_2d = unwrapped_phase_goldstein_3d.squeeze(0) # Back to (H, W)\n",
    "print(\"Goldstein unwrapping finished.\")\n",
    "\n",
    "# Apply mask to Goldstein result for fair comparison if mask was used for Voronoi\n",
    "if mask_2d is not None:\n",
    "    unwrapped_phase_goldstein_2d.masked_fill_(~mask_2d, 0)\n",
    "\n",
    "# Visualize Goldstein results\n",
    "fig, axes = plt.subplots(1, 3, figsize=(18, 5))\n",
    "im0 = axes[0].imshow(unwrapped_phase_goldstein_2d.cpu().numpy(), cmap='viridis')\n",
    "axes[0].set_title('Goldstein Unwrapped Phase')\n",
    "axes[0].axis('off')\n",
    "fig.colorbar(im0, ax=axes[0], label='Phase (radians)')\n",
    "\n",
    "im1 = axes[1].imshow(ground_truth_unwrapped_2d.cpu().numpy(), cmap='viridis')\n",
    "axes[1].set_title('Ground Truth Unwrapped Phase')\n",
    "axes[1].axis('off')\n",
    "fig.colorbar(im1, ax=axes[1], label='Phase (radians)')\n",
    "\n",
    "difference_goldstein = unwrapped_phase_goldstein_2d - ground_truth_unwrapped_2d\n",
    "if mask_2d is not None:\n",
    "    difference_goldstein.masked_fill_(~mask_2d, 0)\n",
    "im2 = axes[2].imshow(difference_goldstein.cpu().numpy(), cmap='coolwarm', vmin=-np.pi, vmax=np.pi) # Wider range for diff\n",
    "axes[2].set_title('Difference (Goldstein - GT)')\n",
    "axes[2].axis('off')\n",
    "fig.colorbar(im2, ax=axes[2], label='Phase Error (radians)')\n",
    "\n",
    "plt.suptitle('Goldstein Unwrapping Results', fontsize=16)\n",
    "plt.tight_layout(rect=[0, 0, 1, 0.96])\n",
    "plt.show()"
   ]
  },
  {
   "cell_type": "markdown",
   "metadata": {},
   "source": [
    "## 6. Conclusion\n",
    "\n",
    "This notebook demonstrated the `unwrap_phase_voronoi_region_growing` function on a synthetic 2D wrapped phase image. The results, including the unwrapped phase and its difference from the ground truth, were visualized. An optional comparison with a Goldstein-based unwrapper was also performed.\n",
    "\n",
    "The Voronoi-based method's performance depends on the quality map, seed selection strategy, and the region growing logic. The current implementation uses a simplified region growing from multiple seeds and a placeholder for advanced cell merging. For more complex phase maps, the advanced merging step (currently a stub) would be crucial for optimal performance."
   ]
  }
 ],
 "metadata": {
  "kernelspec": {
   "display_name": "Python 3 (ipykernel)",
   "language": "python",
   "name": "python3"
  },
  "language_info": {
   "codemirror_mode": {
    "name": "ipython",
    "version": 3
   },
   "file_extension": ".py",
   "mimetype": "text/x-python",
   "name": "python",
   "nbconvert_exporter": "python",
   "pygments_lexer": "ipython3",
   "version": "3.10.12"
  }
 },
 "nbformat": 4,
 "nbformat_minor": 5
}
