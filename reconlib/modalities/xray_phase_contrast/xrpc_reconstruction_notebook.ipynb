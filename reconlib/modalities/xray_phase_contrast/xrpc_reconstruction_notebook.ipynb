{
    "nbformat": 4,
    "nbformat_minor": 5,
    "metadata": {
        "kernelspec": {
            "display_name": "Python 3 (ipykernel)",
            "language": "python",
            "name": "python3"
        },
        "language_info": {
            "codemirror_mode": {"name": "ipython", "version": 3},
            "file_extension": ".py",
            "mimetype": "text/x-python",
            "name": "python",
            "nbconvert_exporter": "python",
            "pygments_lexer": "ipython3"
        }
    },
    "cells": [
        {
            "cell_type": "markdown",
            "metadata": {},
            "source": [
                "# X-ray Phase-Contrast Imaging (XPCI) Reconstruction Example\n",
                "This notebook demonstrates basic XPCI phase image reconstruction from simulated differential phase contrast data. It uses a simplified gradient-based forward model and Total Variation (TV) regularized reconstruction."
            ]
        },
        {
            "cell_type": "markdown",
            "metadata": {},
            "source": [
                "## 1. Imports and Setup"
            ]
        },
        {
            "cell_type": "code",
            "execution_count": null,
            "metadata": {},
            "outputs": [],
            "source": [
                "import torch\n",
                "import numpy as np\n",
                "import matplotlib.pyplot as plt\n",
                "import sys\n",
                "import os\n",
                "\n",
                "# Ensure reconlib is in the Python path\n",
                "if 'reconlib' not in os.getcwd():\n",
                "    sys.path.insert(0, os.path.abspath(os.path.join(os.path.dirname('__file__'), '../../..')))\n",
                "else:\n",
                "    sys.path.insert(0, os.path.abspath(os.path.join(os.path.dirname('__file__'), '..')))\n",
                "\n",
                "from reconlib.modalities.xray_phase_contrast.operators import XRayPhaseContrastOperator\n",
                "from reconlib.modalities.xray_phase_contrast.reconstructors import tv_reconstruction_xrpc\n",
                "# tv_reconstruction_xrpc uses UltrasoundTVCustomRegularizer by default\n",
                "\n",
                "%matplotlib inline\n",
                "\n",
                "device = torch.device('cuda' if torch.cuda.is_available() else 'cpu')\n",
                "print(f\"Using device: {device}\")"
            ]
        },
        {
            "cell_type": "markdown",
            "metadata": {},
            "source": [
                "## 2. Define XPCI Parameters"
            ]
        },
        {
            "cell_type": "code",
            "execution_count": null,
            "metadata": {},
            "outputs": [],
            "source": [
                "# Image Parameters (2D Phase Image)\n",
                "H, W = 128, 128  # Image height (H) and width (W)\n",
                "image_shape_xrpc = (H, W)\n",
                "\n",
                "# XPCI Specific Parameters\n",
                "lambda_xray_m = 1e-10    # X-ray wavelength (e.g., 0.1 nm for ~12.4 keV)\n",
                "k_wave_number = 2 * np.pi / lambda_xray_m\n",
                "pixel_size_m = 1e-5      # Pixel size (e.g., 10 microns)\n",
                "print(f\"X-ray k-wave number: {k_wave_number:.2e}\")\n",
                "\n",
                "# Reconstruction Parameters\n",
                "lambda_tv_xrpc = 0.001   # TV regularization strength (tune this carefully)\n",
                "xrpc_pg_iterations = 50  # Iterations for Proximal Gradient\n",
                "xrpc_pg_step_size = 0.01 # Step size for Proximal Gradient\n",
                "xrpc_tv_prox_iters = 5  # Inner iterations for the custom TV prox\n",
                "xrpc_tv_prox_step = 0.01# Inner step size for custom TV prox"
            ]
        },
        {
            "cell_type": "markdown",
            "metadata": {},
            "source": [
                "## 3. Create XPCI Phase Phantom"
            ]
        },
        {
            "cell_type": "code",
            "execution_count": null,
            "metadata": {},
            "outputs": [],
            "source": [
                "def generate_xrpc_phantom(shape, device='cpu'):\n",
                "    # shape: (H, W)\n",
                "    phantom = torch.zeros(shape, dtype=torch.float32, device=device)\n",
                "    h, w = shape\n",
                "    \n",
                "    # Simulate a phase object (e.g., a sphere or cylinder projection)\n",
                "    center_y, center_x = h // 2, w // 2\n",
                "    radius1 = min(h, w) // 4\n",
                "    Y, X = torch.meshgrid(torch.arange(h, device=device), \n",
                "                          torch.arange(w, device=device), indexing='ij')\n",
                "    mask1 = (X - center_x)**2 + (Y - center_y)**2 < radius1**2\n",
                "    phantom[mask1] = 0.5 # Phase shift value\n",
                "    \n",
                "    # Add another smaller region with different phase shift\n",
                "    center_y2, center_x2 = h // 4, w // 1.5\n",
                "    radius2 = min(h, w) // 8\n",
                "    mask2 = (X - center_x2)**2 + (Y - center_y2)**2 < radius2**2\n",
                "    phantom[mask2] = -0.3 # Negative phase shift\n",
                "    \n",
                "    # Add a gradient/ramp for more interesting differential data\n",
                "    ramp = torch.linspace(0, 0.2, w, device=device).unsqueeze(0).repeat(h,1)\n",
                "    phantom += ramp\n",
                "    return phantom\n",
                "\n",
                "xrpc_phantom_phase = generate_xrpc_phantom(image_shape_xrpc, device=device)\n",
                "\n",
                "plt.figure(figsize=(6,5))\n",
                "plt.imshow(xrpc_phantom_phase.cpu().numpy(), cmap='viridis')\n",
                "plt.title('Original XPCI Phase Phantom')\n",
                "plt.xlabel('X-pixels'); plt.ylabel('Y-pixels')\n",
                "plt.colorbar(label='Phase Shift (radians)')\n",
                "plt.show()"
            ]
        },
        {
            "cell_type": "markdown",
            "metadata": {},
            "source": [
                "## 4. Initialize X-ray Phase-Contrast Operator"
            ]
        },
        {
            "cell_type": "code",
            "execution_count": null,
            "metadata": {},
            "outputs": [],
            "source": [
                "xrpc_operator_inst = XRayPhaseContrastOperator(\n",
                "    image_shape=image_shape_xrpc,\n",
                "    k_wave_number=k_wave_number,\n",
                "    pixel_size_m=pixel_size_m,\n",
                "    device=device\n",
                ")\n",
                "print(\"XRayPhaseContrastOperator initialized.\")"
            ]
        },
        {
            "cell_type": "markdown",
            "metadata": {},
            "source": [
                "## 5. Simulate Differential Phase-Contrast Data"
            ]
        },
        {
            "cell_type": "code",
            "execution_count": null,
            "metadata": {},
            "outputs": [],
            "source": [
                "print(\"Simulating XPCI differential phase data...\")\n",
                "diff_phase_data_clean = xrpc_operator_inst.op(xrpc_phantom_phase)\n",
                "print(f\"Simulated clean differential phase data shape: {diff_phase_data_clean.shape}\")\n",
                "\n",
                "# Add Gaussian noise\n",
                "signal_mean_abs_xrpc = torch.mean(torch.abs(diff_phase_data_clean))\n",
                "noise_std_xrpc = 0.05 * signal_mean_abs_xrpc # 5% noise relative to mean signal magnitude\n",
                "noise_xrpc = noise_std_xrpc * torch.randn_like(diff_phase_data_clean)\n",
                "diff_phase_data_noisy = diff_phase_data_clean + noise_xrpc\n",
                "print(f\"Added Gaussian noise. Noise STD: {noise_std_xrpc.item()}\")\n",
                "\n",
                "plt.figure(figsize=(10, 5))\n",
                "plt.subplot(1,2,1)\n",
                "plt.imshow(diff_phase_data_clean.cpu().numpy(), cmap='coolwarm', aspect='auto')\n",
                "plt.title('Clean Differential Phase Data')\n",
                "plt.xlabel('X-pixels'); plt.ylabel('Y-pixels')\n",
                "plt.colorbar()\n",
                "plt.subplot(1,2,2)\n",
                "plt.imshow(diff_phase_data_noisy.cpu().numpy(), cmap='coolwarm', aspect='auto')\n",
                "plt.title('Noisy Differential Phase Data')\n",
                "plt.xlabel('X-pixels'); plt.ylabel('Y-pixels')\n",
                "plt.colorbar()\n",
                "plt.tight_layout()\n",
                "plt.show()"
            ]
        },
        {
            "cell_type": "markdown",
            "metadata": {},
            "source": [
                "## 6. Phase Image Reconstruction"
            ]
        },
        {
            "cell_type": "markdown",
            "metadata": {},
            "source": [
                "### 6.1 Adjoint Reconstruction (Approximate Phase Integration)"
            ]
        },
        {
            "cell_type": "code",
            "execution_count": null,
            "metadata": {},
            "outputs": [],
            "source": [
                "print(\"Performing Adjoint (approx. integration) reconstruction...\")\n",
                "xrpc_adjoint_recon_phase = xrpc_operator_inst.op_adj(diff_phase_data_noisy)\n",
                "print(f\"Adjoint reconstructed phase image shape: {xrpc_adjoint_recon_phase.shape}\")\n",
                "\n",
                "plt.figure(figsize=(6,5))\n",
                "plt.imshow(xrpc_adjoint_recon_phase.cpu().numpy(), cmap='viridis')\n",
                "plt.title('Adjoint XPCI Reconstruction (Approx. Phase)')\n",
                "plt.xlabel('X-pixels'); plt.ylabel('Y-pixels')\n",
                "plt.colorbar(label='Phase Shift (radians)')\n",
                "plt.show()"
            ]
        },
        {
            "cell_type": "markdown",
            "metadata": {},
            "source": [
                "### 6.2 TV Regularized Phase Reconstruction"
            ]
        },
        {
            "cell_type": "code",
            "execution_count": null,
            "metadata": {},
            "outputs": [],
            "source": [
                "print(f\"Performing TV Regularized XPCI Phase Reconstruction (lambda_TV={lambda_tv_xrpc})...\")\n",
                "\n",
                "xrpc_tv_recon_phase = tv_reconstruction_xrpc(\n",
                "    y_differential_phase_data=diff_phase_data_noisy,\n",
                "    xrpc_operator=xrpc_operator_inst,\n",
                "    lambda_tv=lambda_tv_xrpc,\n",
                "    iterations=xrpc_pg_iterations,\n",
                "    step_size=xrpc_pg_step_size,\n",
                "    tv_prox_iterations=xrpc_tv_prox_iters,\n",
                "    tv_prox_step_size=xrpc_tv_prox_step,\n",
                "    verbose=True\n",
                ")\n",
                "print(f\"TV Reconstructed XPCI Phase Image shape: {xrpc_tv_recon_phase.shape}\")\n",
                "\n",
                "plt.figure(figsize=(6,5))\n",
                "plt.imshow(xrpc_tv_recon_phase.cpu().numpy(), cmap='viridis')\n",
                "plt.title(f'TV Regularized XPCI Recon (lambda={lambda_tv_xrpc}, {xrpc_pg_iterations} iters)')\n",
                "plt.xlabel('X-pixels'); plt.ylabel('Y-pixels')\n",
                "plt.colorbar(label='Phase Shift (radians)')\n",
                "plt.show()"
            ]
        },
        {
            "cell_type": "markdown",
            "metadata": {},
            "source": [
                "## 7. Comparison of Results"
            ]
        },
        {
            "cell_type": "code",
            "execution_count": null,
            "metadata": {},
            "outputs": [],
            "source": [
                "fig, axes = plt.subplots(1, 3, figsize=(18, 6))\n",
                "fig.suptitle('XPCI Phase Reconstruction Comparison', fontsize=16)\n",
                "\n",
                "im0 = axes[0].imshow(xrpc_phantom_phase.cpu().numpy(), cmap='viridis')\n",
                "axes[0].set_title('Original Phase Phantom')\n",
                "axes[0].set_xlabel('X-pixels'); axes[0].set_ylabel('Y-pixels')\n",
                "fig.colorbar(im0, ax=axes[0], shrink=0.8, label='Phase (rad)')\n",
                "\n",
                "im1 = axes[1].imshow(xrpc_adjoint_recon_phase.cpu().numpy(), cmap='viridis')\n",
                "axes[1].set_title('Adjoint Recon (Approx. Phase)')\n",
                "axes[1].set_xlabel('X-pixels'); axes[1].set_ylabel('Y-pixels')\n",
                "fig.colorbar(im1, ax=axes[1], shrink=0.8, label='Phase (rad)')\n",
                "\n",
                "im2 = axes[2].imshow(xrpc_tv_recon_phase.cpu().numpy(), cmap='viridis')\n",
                "axes[2].set_title(f'TV Regularized Recon (lambda={lambda_tv_xrpc})')\n",
                "axes[2].set_xlabel('X-pixels'); axes[2].set_ylabel('Y-pixels')\n",
                "fig.colorbar(im2, ax=axes[2], shrink=0.8, label='Phase (rad)')\n",
                "\n",
                "plt.tight_layout(rect=[0, 0, 1, 0.95])\n",
                "plt.show()"
            ]
        }
    ]
}
