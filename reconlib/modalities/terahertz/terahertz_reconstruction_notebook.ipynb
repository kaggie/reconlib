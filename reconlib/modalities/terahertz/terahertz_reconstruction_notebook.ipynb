{
 "cells": [
  {
   "cell_type": "markdown",
   "metadata": {},
   "source": [
    "# Terahertz (THz) Imaging Reconstruction Demo\n",
    "This notebook demonstrates a basic reconstruction pipeline for Terahertz Imaging using placeholder operators and reconstructors. The `TerahertzOperator` currently uses a generic system matrix (randomly initialized if not provided) and would need to be replaced with a system matrix or model appropriate for a specific THz imaging setup (e.g., THz CT, THz pulsed imaging)."
   ]
  },
  {
   "cell_type": "code",
   "execution_count": null,
   "metadata": {},
   "outputs": [],
   "source": [
    "import torch\n",
    "import numpy as np\n",
    "import matplotlib.pyplot as plt\n",
    "\n",
    "# Adjust path to import from reconlib \n",
    "import sys\n",
    "# sys.path.append('../../../') # Adjust as needed\n",
    "\n",
    "from reconlib.modalities.terahertz.operators import TerahertzOperator\n",
    "from reconlib.modalities.terahertz.reconstructors import tv_reconstruction_thz\n",
    "from reconlib.modalities.terahertz.utils import generate_thz_phantom, plot_thz_results\n",
    "\n",
    "print(f\"PyTorch version: {torch.__version__}\")\n",
    "device = torch.device('cuda' if torch.cuda.is_available() else 'cpu')\n",
    "print(f\"Using device: {device}\")"
   ]
  },
  {
   "cell_type": "markdown",
   "metadata": {},
   "source": [
    "## 1. Setup Parameters and Phantom"
   ]
  },
  {
   "cell_type": "code",
   "execution_count": null,
   "metadata": {},
   "outputs": [],
   "source": [
    "image_shape_thz = (64, 64)  # (Ny, Nx)\n",
    "num_pixels_thz = np.prod(image_shape_thz)\n",
    "\n",
    "# For a system matrix based operator, define number of measurements\n",
    "# This could be, e.g., number of views * number of detectors in THz CT\n",
    "# Or number of k-space samples in a Fourier-based THz system.\n",
    "num_measurements_thz = num_pixels_thz // 2 # Example: undersampled system\n",
    "\n",
    "# Generate a simple phantom (e.g., representing absorption or refractive index variations)\n",
    "true_thz_image = generate_thz_phantom(image_shape_thz, num_shapes=3, shape_type='rect', device=device)\n",
    "\n",
    "plt.figure(figsize=(6,6))\n",
    "plt.imshow(true_thz_image.cpu().numpy(), cmap='magma')\n",
    "plt.title('True THz Phantom Image')\n",
    "plt.xlabel('X (pixels)')\n",
    "plt.ylabel('Y (pixels)')\n",
    "plt.colorbar(label='Property Value')\n",
    "plt.show()"
   ]
  },
  {
   "cell_type": "markdown",
   "metadata": {},
   "source": [
    "## 2. Initialize Operator and Simulate Data\n",
    "For this demo, we'll let the `TerahertzOperator` create its own random placeholder system matrix if one isn't provided. In a real scenario, this matrix `A` would come from the physics of the THz system."
   ]
  },
  {
   "cell_type": "code",
   "execution_count": null,
   "metadata": {},
   "outputs": [],
   "source": [
    "# Option 1: Let the operator create a random system matrix (for demo purposes only)\n",
    "# thz_operator = TerahertzOperator(image_shape=image_shape_thz, system_matrix=None, device=device)\n",
    "\n",
    "# Option 2: Define a specific system matrix (more realistic placeholder)\n",
    "is_complex_system = False # Set to True for a complex-valued system matrix\n",
    "dtype_system = torch.complex64 if is_complex_system else torch.float32\n",
    "thz_system_matrix = torch.randn(num_measurements_thz, num_pixels_thz, dtype=dtype_system, device=device) * 0.1\n",
    "\n",
    "thz_operator = TerahertzOperator(\n",
    "    image_shape=image_shape_thz,\n",
    "    system_matrix=thz_system_matrix,\n",
    "    device=device\n",
    ")\n",
    "\n",
    "# Ensure phantom is of appropriate dtype for the operator \n",
    "phantom_for_op = true_thz_image.to(dtype_system) if is_complex_system and not true_thz_image.is_complex() else true_thz_image\n",
    "if not is_complex_system and phantom_for_op.is_complex():\n",
    "    phantom_for_op = phantom_for_op.real \n",
    "\n",
    "# Simulate THz measurement data using the forward operator y = A * x\n",
    "y_thz_measurements = thz_operator.op(phantom_for_op)\n",
    "\n",
    "print(f\"Simulated THz measurement data shape: {y_thz_measurements.shape}\")\n",
    "\n",
    "# Visualize measurement data (if 1D)\n",
    "if y_thz_measurements.ndim == 1:\n",
    "    plt.figure(figsize=(8,5))\n",
    "    plt.plot(y_thz_measurements.cpu().numpy() if not y_thz_measurements.is_complex() else y_thz_measurements.abs().cpu().numpy())\n",
    "    plt.title('Simulated THz Measurements (Placeholder System)')\n",
    "    plt.xlabel('Measurement Index')\n",
    "    plt.ylabel('Signal Value')\n",
    "    plt.show()"
   ]
  },
  {
   "cell_type": "markdown",
   "metadata": {},
   "source": [
    "## 3. Perform Reconstruction\n",
    "Using Total Variation (TV) regularization with Proximal Gradient."
   ]
  },
  {
   "cell_type": "code",
   "execution_count": null,
   "metadata": {},
   "outputs": [],
   "source": [
    "lambda_tv_thz = 0.005      # TV regularization strength\n",
    "iterations_thz = 30       # Number of proximal gradient iterations (low for demo)\n",
    "step_size_thz = 0.01     # Step size for proximal gradient\n",
    "tv_prox_iters_thz = 5     # Iterations for TV prox\n",
    "\n",
    "# Perform reconstruction\n",
    "reconstructed_thz_img = tv_reconstruction_thz(\n",
    "    y_thz_data=y_thz_measurements,\n",
    "    thz_operator=thz_operator,\n",
    "    lambda_tv=lambda_tv_thz,\n",
    "    iterations=iterations_thz,\n",
    "    step_size=step_size_thz,\n",
    "    tv_prox_iterations=tv_prox_iters_thz,\n",
    "    is_3d_tv=len(image_shape_thz)==3,\n",
    "    verbose=True\n",
    ")\n",
    "\n",
    "print(f\"Reconstructed THz image shape: {reconstructed_thz_img.shape}\")"
   ]
  },
  {
   "cell_type": "markdown",
   "metadata": {},
   "source": [
    "## 4. Display Results"
   ]
  },
  {
   "cell_type": "code",
   "execution_count": null,
   "metadata": {},
   "outputs": [],
   "source": [
    "fig, axes = plt.subplots(1, 2, figsize=(12, 6))\n",
    "\n",
    "im1 = axes[0].imshow(true_thz_image.cpu().numpy(), cmap='magma')\n",
    "axes[0].set_title('Ground Truth THz Image')\n",
    "axes[0].set_xlabel('X (pixels)')\n",
    "axes[0].set_ylabel('Y (pixels)')\n",
    "fig.colorbar(im1, ax=axes[0], fraction=0.046, pad=0.04)\n",
    "\n",
    "img_display = reconstructed_thz_img.cpu().numpy()\n",
    "if reconstructed_thz_img.is_complex():\n",
    "    print(\"Displaying magnitude of complex reconstructed image.\")\n",
    "    img_display = np.abs(img_display)\n",
    "    \n",
    "im2 = axes[1].imshow(img_display, cmap='magma')\n",
    "axes[1].set_title(f'Reconstructed THz Image (TV, {iterations_thz} iters - Placeholder)')\n",
    "axes[1].set_xlabel('X (pixels)')\n",
    "axes[1].set_ylabel('Y (pixels)')\n",
    "fig.colorbar(im2, ax=axes[1], fraction=0.046, pad=0.04)\n",
    "\n",
    "plt.tight_layout()\n",
    "plt.show()\n",
    "\n",
    "# Using the utility plot function (currently a placeholder itself)\n",
    "plot_thz_results(\n",
    "    true_image=true_thz_image,\n",
    "    reconstructed_image=reconstructed_thz_img,\n",
    "    measurement_data=y_thz_measurements\n",
    ")"
   ]
  },
  {
   "cell_type": "markdown",
   "metadata": {},
   "source": [
    "## 5. Further Considerations\n",
    "To make this notebook fully functional for a specific THz imaging modality:\n",
    "1. **Define `TerahertzOperator` accurately**: \n",
    "    - For THz CT (Computed Tomography): This might involve implementing a Radon transform operator or using a system matrix derived from ray tracing or wave propagation through the object at different angles.\n",
    "    - For THz Pulsed Imaging / Spectroscopy: The operator might model the convolution with a THz pulse and reflections/transmissions. Deconvolution might be part of the operator or preprocessing.\n",
    "    - For THz Holography / Diffractive Imaging: The operator would model wave propagation (e.g., using Angular Spectrum Method or Fresnel diffraction) from the object plane to a detector plane.\n",
    "    Ensure the `op_adj` (adjoint) passes the dot-product test with `op` (forward).\n",
    "2. **Realistic System Matrix**: If using a system matrix approach, this matrix `A` must be carefully calibrated or simulated based on the experimental setup.\n",
    "3. **Data Type**: THz data can be complex (amplitude and phase from THz-TDS) or real-valued (intensity from bolometers/pyroelectric cameras). Ensure operator and image types are consistent.\n",
    "4. **Regularization**: TV is a good start. Other regularizers like L1-wavelet might be suitable depending on the expected sparsity in the THz image or its transform domains.\n",
    "5. **Noise**: Add realistic noise (e.g., Gaussian, Johnson-Nyquist) to `y_thz_measurements`."
   ]
  }
 ],
 "metadata": {
  "kernelspec": {
   "display_name": "Python 3 (ipykernel)",
   "language": "python",
   "name": "python3"
  },
  "language_info": {
   "codemirror_mode": {
    "name": "ipython",
    "version": 3
   },
   "file_extension": ".py",
   "mimetype": "text/x-python",
   "name": "python",
   "nbconvert_exporter": "python",
   "pygments_lexer": "ipython3",
   "version": "3.9.12"
  }
 },
 "nbformat": 4,
 "nbformat_minor": 5
}
