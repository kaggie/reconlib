{
 "cells": [
  {
   "cell_type": "markdown",
   "metadata": {},
   "source": [
    "# Terahertz (THz) Imaging Reconstruction Demo (Fourier Sampling Model)\n",
    "This notebook demonstrates a basic reconstruction pipeline for Terahertz Imaging using a Fourier sampling model. \n",
    "The `TerahertzOperator` simulates acquiring samples of the image's 2D Fourier Transform at specified `k_space_locations`. \n",
    "This is a simplified representation of modalities like THz holography or certain k-space scanning systems. \n",
    "Reconstruction uses Total Variation (TV) regularization."
   ]
  },
  {
   "cell_type": "code",
   "execution_count": null,
   "metadata": {},
   "outputs": [],
   "source": [
    "import torch\n",
    "import numpy as np\n",
    "import matplotlib.pyplot as plt\n",
    "\n",
    "# Adjust path to import from reconlib \n",
    "import sys\n",
    "# sys.path.append('../../../') # Adjust as needed\n",
    "\n",
    "from reconlib.modalities.terahertz.operators import TerahertzOperator\n",
    "from reconlib.modalities.terahertz.reconstructors import tv_reconstruction_thz\n",
    "from reconlib.modalities.terahertz.utils import generate_thz_phantom, plot_thz_results\n",
    "\n",
    "print(f\"PyTorch version: {torch.__version__}\")\n",
    "device = torch.device('cuda' if torch.cuda.is_available() else 'cpu')\n",
    "print(f\"Using device: {device}\")"
   ]
  },
  {
   "cell_type": "markdown",
   "metadata": {},
   "source": [
    "## 1. Setup Parameters and Phantom"
   ]
  },
  {
   "cell_type": "code",
   "execution_count": null,
   "metadata": {},
   "outputs": [],
   "source": [
    "image_shape_thz = (64, 64)  # (Ny, Nx) for the image (e.g., material property map)\n",
    "Ny, Nx = image_shape_thz\n",
    "\n",
    "# Generate a simple real-valued phantom \n",
    "true_thz_image = generate_thz_phantom(image_shape_thz, num_shapes=2, shape_type='rect', device=device)\n",
    "\n",
    "plt.figure(figsize=(6,6))\n",
    "plt.imshow(true_thz_image.cpu().numpy(), cmap='magma')\n",
    "plt.title('True THz Phantom Image (Real-valued)')\n",
    "plt.xlabel('X (pixels)')\n",
    "plt.ylabel('Y (pixels)')\n",
    "plt.colorbar(label='Property Value')\n",
    "plt.show()"
   ]
  },
  {
   "cell_type": "markdown",
   "metadata": {},
   "source": [
    "## 2. Define k-space Sampling and Initialize Operator\n",
    "The `TerahertzOperator` (Fourier Sampling) requires `k_space_locations` which are (kx, ky) coordinates.\n",
    "These should be in the range `[-N/2, N/2-1]` for each dimension."
   ]
  },
  {
   "cell_type": "code",
   "execution_count": null,
   "metadata": {},
   "outputs": [],
   "source": [
    "# Define k-space sampling locations (kx, ky)\n",
    "num_measurements_thz = (Ny * Nx) // 3  # Example: 1/3rd sampling of k-space\n",
    "\n",
    "# Random sparse k-space sampling\n",
    "kx_samples = torch.randint(-Nx // 2, Nx // 2, (num_measurements_thz,), device=device).float()\n",
    "ky_samples = torch.randint(-Ny // 2, Ny // 2, (num_measurements_thz,), device=device).float()\n",
    "k_space_sampling_locations = torch.stack([kx_samples, ky_samples], dim=1)\n",
    "\n",
    "print(f\"Number of k-space samples: {k_space_sampling_locations.shape[0]}\")\n",
    "\n",
    "# Visualize k-space sampling pattern\n",
    "plt.figure(figsize=(5,5))\n",
    "plt.scatter(k_space_sampling_locations[:,0].cpu().numpy(), \n",
    "            k_space_sampling_locations[:,1].cpu().numpy(), s=5, alpha=0.7)\n",
    "plt.title('k-space Sampling Pattern (kx, ky)')\n",
    "plt.xlabel('kx'); plt.ylabel('ky')\n",
    "plt.xlim([-Nx//2 -1, Nx//2 + 1]); plt.ylim([-Ny//2 -1, Ny//2 + 1])\n",
    "plt.axhline(0, color='black', lw=0.5); plt.axvline(0, color='black', lw=0.5)\n",
    "plt.grid(True, linestyle=':', alpha=0.5)\n",
    "plt.gca().set_aspect('equal', adjustable='box')\n",
    "plt.show()\n",
    "\n",
    "thz_operator = TerahertzOperator(\n",
    "    image_shape=image_shape_thz,\n",
    "    k_space_locations=k_space_sampling_locations,\n",
    "    device=device\n",
    ")\n",
    "\n",
    "# Simulate THz k-space data: y = FFT(x)[k_locations]\n",
    "y_kspace_measurements = thz_operator.op(true_thz_image) # Output is complex\n",
    "\n",
    "# Add some noise\n",
    "snr_db_thz = 20 # SNR in dB\n",
    "signal_power_thz = torch.mean(torch.abs(y_kspace_measurements)**2)\n",
    "noise_power_thz = signal_power_thz / (10**(snr_db_thz / 10))\n",
    "noise_std_thz = torch.sqrt(noise_power_thz / 2) # For complex Gaussian (half power in real, half in imag)\n",
    "noise_thz = torch.complex(torch.randn_like(y_kspace_measurements.real) * noise_std_thz, \n",
    "                          torch.randn_like(y_kspace_measurements.imag) * noise_std_thz)\n",
    "y_kspace_measurements_noisy = y_kspace_measurements + noise_thz\n",
    "\n",
    "print(f\"Simulated k-space measurement data shape: {y_kspace_measurements_noisy.shape}, dtype: {y_kspace_measurements_noisy.dtype}\")\n",
    "\n",
    "# Visualize a part of the k-space data (e.g., magnitude)\n",
    "plt.figure(figsize=(10,4))\n",
    "plt.subplot(1,2,1)\n",
    "plt.plot(torch.abs(y_kspace_measurements_noisy).cpu().numpy()[:200])\n",
    "plt.title('Magnitude of first 200 K-space Samples (Noisy)')\n",
    "plt.xlabel('Measurement Index'); plt.ylabel('Magnitude')\n",
    "plt.subplot(1,2,2)\n",
    "plt.plot(torch.angle(y_kspace_measurements_noisy).cpu().numpy()[:200])\n",
    "plt.title('Phase of first 200 K-space Samples (Noisy)')\n",
    "plt.xlabel('Measurement Index'); plt.ylabel('Phase (rad)')\n",
    "plt.tight_layout()\n",
    "plt.show()"
   ]
  },
  {
   "cell_type": "markdown",
   "metadata": {},
   "source": [
    "## 3. Perform Reconstruction\n",
    "Using Total Variation (TV) regularization with Proximal Gradient. The image to reconstruct is real-valued."
   ]
  },
  {
   "cell_type": "code",
   "execution_count": null,
   "metadata": {},
   "outputs": [],
   "source": [
    "lambda_tv_thz = 0.001      # TV regularization strength (CRITICAL - needs tuning)\n",
    "iterations_thz = 75       # Number of proximal gradient iterations\n",
    "step_size_thz = 5e-3      # Step size for proximal gradient (CRITICAL - adjust based on data scaling)\n",
    "tv_prox_iters_thz = 5     # Iterations for TV prox\n",
    "\n",
    "reconstructed_thz_img = tv_reconstruction_thz(\n",
    "    y_thz_data=y_kspace_measurements_noisy, # These are complex k-space samples\n",
    "    thz_operator=thz_operator,\n",
    "    lambda_tv=lambda_tv_thz,\n",
    "    iterations=iterations_thz,\n",
    "    step_size=step_size_thz,\n",
    "    tv_prox_iterations=tv_prox_iters_thz,\n",
    "    is_3d_tv=False, # Current operator is 2D\n",
    "    verbose=True\n",
    ")\n",
    "\n",
    "print(f\"Reconstructed THz image shape: {reconstructed_thz_img.shape}, dtype: {reconstructed_thz_img.dtype}\")"
   ]
  },
  {
   "cell_type": "markdown",
   "metadata": {},
   "source": [
    "## 4. Display Results"
   ]
  },
  {
   "cell_type": "code",
   "execution_count": null,
   "metadata": {},
   "outputs": [],
   "source": [
    "fig, axes = plt.subplots(1, 2, figsize=(12, 6))\n",
    "\n",
    "im1 = axes[0].imshow(true_thz_image.cpu().numpy(), cmap='magma')\n",
    "axes[0].set_title('Ground Truth THz Image')\n",
    "axes[0].set_xlabel('X (pixels)')\n",
    "axes[0].set_ylabel('Y (pixels)')\n",
    "fig.colorbar(im1, ax=axes[0], fraction=0.046, pad=0.04)\n",
    "\n",
    "img_display = reconstructed_thz_img.cpu().numpy()\n",
    "im2 = axes[1].imshow(img_display, cmap='magma')\n",
    "axes[1].set_title(f'Reconstructed THz Image (TV, {iterations_thz} iters - Fourier Sampling)')\n",
    "axes[1].set_xlabel('X (pixels)')\n",
    "axes[1].set_ylabel('Y (pixels)')\n",
    "fig.colorbar(im2, ax=axes[1], fraction=0.046, pad=0.04)\n",
    "\n",
    "plt.tight_layout()\n",
    "plt.show()\n",
    "\n",
    "# Using the utility plot function (currently a placeholder itself)\n",
    "plot_thz_results(\n",
    "    true_image=true_thz_image,\n",
    "    reconstructed_image=reconstructed_thz_img,\n",
    "    measurement_data=y_kspace_measurements_noisy # Pass k-space data\n",
    ")"
   ]
  },
  {
   "cell_type": "markdown",
   "metadata": {},
   "source": [
    "## 5. Further Considerations\n",
    "1.  **k-space Sampling Strategy**: The choice of `k_space_locations` is critical. Random sparse sampling is one option. Other strategies (e.g., radial, spiral, specific patterns for THz holography) would depend on the actual THz system being modeled.\n",
    "2.  **Data Scaling**: The magnitude of k-space data can vary significantly. Normalization or careful choice of `step_size` and `lambda_tv` is important for stable reconstruction.\n",
    "3.  **Phase Information**: This model uses complex k-space data. The quality of phase information in real THz measurements can be a challenge and might affect reconstruction.\n",
    "4.  **Regularization**: While TV promotes piecewise smoothness, other regularizers (e.g., L1-wavelet for sparsity) might be appropriate depending on the expected image content.\n",
    "5.  **Computational Cost**: For large images or many k-space samples, FFTs and iterative reconstruction can be demanding. The current operator is suitable for 2D. For 3D THz imaging (e.g., tomographic reconstruction of a volume), a different operator (like Radon transform based) would be needed."
   ]
  }
 ],
 "metadata": {
  "kernelspec": {
   "display_name": "Python 3 (ipykernel)",
   "language": "python",
   "name": "python3"
  },
  "language_info": {
   "codemirror_mode": {
    "name": "ipython",
    "version": 3
   },
   "file_extension": ".py",
   "mimetype": "text/x-python",
   "name": "python",
   "nbconvert_exporter": "python",
   "pygments_lexer": "ipython3",
   "version": "3.9.12"
  }
 },
 "nbformat": 4,
 "nbformat_minor": 5
}
