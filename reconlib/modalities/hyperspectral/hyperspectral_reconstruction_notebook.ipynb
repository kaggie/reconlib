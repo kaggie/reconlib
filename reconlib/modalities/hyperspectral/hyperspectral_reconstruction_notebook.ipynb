{
 "cells": [
  {
   "cell_type": "markdown",
   "metadata": {},
   "source": [
    "# Hyperspectral Imaging (HSI) Reconstruction Demo\n",
    "This notebook demonstrates a basic pipeline for reconstructing a hyperspectral data cube from compressed measurements. This is common in Compressed HSI (e.g., CASSI) systems.\n",
    "The `HyperspectralImagingOperator` uses a **sensing matrix `H`** to model the acquisition `y = Hx`, where `x` is the flattened HSI cube. Reconstruction uses 3D Total Variation (TV) to promote sparsity/smoothness in the spatial and spectral dimensions of the HSI cube."
   ]
  },
  {
   "cell_type": "code",
   "execution_count": null,
   "metadata": {},
   "outputs": [],
   "source": [
    "import torch\n",
    "import numpy as np\n",
    "import matplotlib.pyplot as plt\n",
    "\n",
    "# Adjust path to import from reconlib \n",
    "import sys\n",
    "# sys.path.append('../../../') # Adjust as needed\n",
    "\n",
    "from reconlib.modalities.hyperspectral.operators import HyperspectralImagingOperator\n",
    "from reconlib.modalities.hyperspectral.reconstructors import tv_reconstruction_hsi\n",
    "from reconlib.modalities.hyperspectral.utils import generate_hsi_phantom, plot_hsi_results\n",
    "\n",
    "print(f\"PyTorch version: {torch.__version__}\")\n",
    "device = torch.device('cuda' if torch.cuda.is_available() else 'cpu')\n",
    "print(f\"Using device: {device}\")"
   ]
  },
  {
   "cell_type": "markdown",
   "metadata": {},
   "source": [
    "## 1. Setup Parameters and HSI Phantom"
   ]
  },
  {
   "cell_type": "code",
   "execution_count": null,
   "metadata": {},
   "outputs": [],
   "source": [
    "hsi_cube_shape = (32, 32, 16)  # (Ny, Nx, N_bands) - Small for demo\n",
    "num_elements_hsi = np.prod(hsi_cube_shape)\n",
    "\n",
    "# Generate a phantom HSI cube with some spectral features\n",
    "true_hsi_cube = generate_hsi_phantom(\n",
    "    image_shape=hsi_cube_shape, \n",
    "    num_features=3, \n",
    "    device=device\n",
    ")\n",
    "\n",
    "print(f\"Generated HSI cube of shape: {true_hsi_cube.shape}\")\n",
    "\n",
    "# Define RGB bands for visualization (example: last, middle, first bands for R,G,B)\n",
    "rgb_display_bands = (hsi_cube_shape[2]-1, hsi_cube_shape[2]//2, 0)\n",
    "\n",
    "# Utility function to create an RGB image from HSI cube for plotting\n",
    "def get_rgb_from_hsi(hsi_data, bands):\n",
    "    if hsi_data is None: return None\n",
    "    r_band = torch.clamp(hsi_data[..., bands[0]],0,1)\n",
    "    g_band = torch.clamp(hsi_data[..., bands[1]],0,1)\n",
    "    b_band = torch.clamp(hsi_data[..., bands[2]],0,1)\n",
    "    # Normalize each band individually for better visualization if ranges vary widely\n",
    "    r_band = (r_band - r_band.min()) / (r_band.max() - r_band.min() + 1e-6)\n",
    "    g_band = (g_band - g_band.min()) / (g_band.max() - g_band.min() + 1e-6)\n",
    "    b_band = (b_band - b_band.min()) / (b_band.max() - b_band.min() + 1e-6)\n",
    "    return torch.stack([r_band, g_band, b_band], dim=-1).cpu().numpy()\n",
    "\n",
    "plt.figure(figsize=(6,6))\n",
    "plt.imshow(get_rgb_from_hsi(true_hsi_cube, rgb_display_bands))\n",
    "plt.title(f'True HSI Cube (RGB: bands {rgb_display_bands})')\n",
    "plt.xlabel('X (pixels)')\n",
    "plt.ylabel('Y (pixels)')\n",
    "plt.show()"
   ]
  },
  {
   "cell_type": "markdown",
   "metadata": {},
   "source": [
    "## 2. Initialize Operator and Simulate Compressed Measurements\n",
    "The `HyperspectralImagingOperator` uses a sensing matrix `H`. For compressed HSI, the number of measurements will be less than the total number of elements in the HSI cube."
   ]
  },
  {
   "cell_type": "code",
   "execution_count": null,
   "metadata": {},
   "outputs": [],
   "source": [
    "# Number of compressed measurements (e.g., from a 2D detector in CASSI)\n",
    "compression_ratio = 4 # Example: acquire 1/4 of the total data elements\n",
    "num_measurements_hsi = num_elements_hsi // compression_ratio \n",
    "print(f\"Total elements in HSI cube: {num_elements_hsi}\")\n",
    "print(f\"Number of compressed measurements: {num_measurements_hsi}\")\n",
    "\n",
    "# Sensing matrix H (random placeholder - in real CASSI, H is structured and sparse)\n",
    "sensing_matrix_H = torch.randn(num_measurements_hsi, num_elements_hsi, dtype=torch.float32, device=device) * 0.1\n",
    "# Normalize rows of H for better conditioning (optional, but can help)\n",
    "# sensing_matrix_H = sensing_matrix_H / torch.norm(sensing_matrix_H, dim=1, keepdim=True)\n",
    "\n",
    "hsi_operator = HyperspectralImagingOperator(\n",
    "    image_shape=hsi_cube_shape,\n",
    "    sensing_matrix=sensing_matrix_H,\n",
    "    device=device\n",
    ")\n",
    "\n",
    "# Simulate compressed measurements y = H * x_flattened\n",
    "y_compressed_measurements = hsi_operator.op(true_hsi_cube)\n",
    "\n",
    "# Add noise\n",
    "snr_db_hsi = 25 # Signal-to-Noise Ratio in dB\n",
    "signal_power_hsi = torch.mean(y_compressed_measurements**2)\n",
    "noise_power_hsi = signal_power_hsi / (10**(snr_db_hsi / 10))\n",
    "noise_hsi = torch.randn_like(y_compressed_measurements) * torch.sqrt(noise_power_hsi)\n",
    "y_compressed_measurements_noisy = y_compressed_measurements + noise_hsi\n",
    "\n",
    "print(f\"Simulated measurement data shape: {y_compressed_measurements_noisy.shape}\")\n",
    "plt.figure(figsize=(7,4))\n",
    "plt.plot(y_compressed_measurements_noisy.cpu().numpy()[:200]) # Plot first 200 measurements\n",
    "plt.title('Sample of Noisy Compressed Measurements')\n",
    "plt.xlabel('Measurement Index'); plt.ylabel('Value')\n",
    "plt.show()"
   ]
  },
  {
   "cell_type": "markdown",
   "metadata": {},
   "source": [
    "## 3. Perform Reconstruction\n",
    "Using 3D Total Variation (TV) regularization with Proximal Gradient to reconstruct the HSI cube."
   ]
  },
  {
   "cell_type": "code",
   "execution_count": null,
   "metadata": {},
   "outputs": [],
   "source": [
    "lambda_tv_hsi = 0.001     # TV regularization strength (critical, needs tuning!)\n",
    "iterations_hsi = 100      # Iterations (more might be needed for HSI)\n",
    "step_size_hsi = 1e-3      # Step size (critical, needs tuning!)\n",
    "tv_prox_iters_hsi = 5    # Iterations for TV prox\n",
    "\n",
    "reconstructed_hsi = tv_reconstruction_hsi(\n",
    "    y_sensor_measurements=y_compressed_measurements_noisy,\n",
    "    hsi_operator=hsi_operator,\n",
    "    lambda_tv=lambda_tv_hsi,\n",
    "    iterations=iterations_hsi,\n",
    "    step_size=step_size_hsi,\n",
    "    tv_prox_iterations=tv_prox_iters_hsi,\n",
    "    verbose=True\n",
    ")\n",
    "\n",
    "print(f\"Reconstructed HSI cube shape: {reconstructed_hsi.shape}\")"
   ]
  },
  {
   "cell_type": "markdown",
   "metadata": {},
   "source": [
    "## 4. Display Results"
   ]
  },
  {
   "cell_type": "code",
   "execution_count": null,
   "metadata": {},
   "outputs": [],
   "source": [
    "fig, axes = plt.subplots(1, 2, figsize=(12, 6))\n",
    "\n",
    "axes[0].imshow(get_rgb_from_hsi(true_hsi_cube, rgb_display_bands))\n",
    "axes[0].set_title(f'True HSI Cube (RGB: {rgb_display_bands})')\n",
    "axes[0].set_xlabel('X'); axes[0].set_ylabel('Y')\n",
    "\n",
    "axes[1].imshow(get_rgb_from_hsi(reconstructed_hsi, rgb_display_bands))\n",
    "axes[1].set_title(f'Recon. HSI (3D TV, {iterations_hsi} iters)')\n",
    "axes[1].set_xlabel('X'); axes[1].set_ylabel('Y')\n",
    "\n",
    "plt.tight_layout()\n",
    "plt.show()\n",
    "\n",
    "# Plot a few reconstructed bands vs true bands\n",
    "num_bands_to_show = min(3, hsi_cube_shape[2])\n",
    "fig, axes = plt.subplots(2, num_bands_to_show, figsize=(num_bands_to_show*4, 7))\n",
    "for i in range(num_bands_to_show):\n",
    "    band_idx = i * (hsi_cube_shape[2] // num_bands_to_show)\n",
    "    ax_true = axes[0,i] if num_bands_to_show > 1 else axes[0]\n",
    "    ax_recon = axes[1,i] if num_bands_to_show > 1 else axes[1]\n",
    "    \n",
    "    im_true = ax_true.imshow(true_hsi_cube[..., band_idx].cpu().numpy(), cmap='gray')\n",
    "    ax_true.set_title(f'True - Band {band_idx}')\n",
    "    fig.colorbar(im_true, ax=ax_true, fraction=0.046, pad=0.04)\n",
    "    \n",
    "    im_recon = ax_recon.imshow(reconstructed_hsi[..., band_idx].cpu().numpy(), cmap='gray')\n",
    "    ax_recon.set_title(f'Recon - Band {band_idx}')\n",
    "    fig.colorbar(im_recon, ax=ax_recon, fraction=0.046, pad=0.04)\n",
    "plt.suptitle('Comparison of Selected Spectral Bands')\n",
    "plt.tight_layout(rect=[0, 0, 1, 0.95])\n",
    "plt.show()\n",
    "\n",
    "# Using the utility plot function (currently a placeholder itself for detailed plotting)\n",
    "plot_hsi_results(\n",
    "    true_hsi_cube=true_hsi_cube,\n",
    "    recon_hsi_cube=reconstructed_hsi,\n",
    "    measurement_data=y_compressed_measurements_noisy,\n",
    "    rgb_bands=rgb_display_bands\n",
    ")"
   ]
  },
  {
   "cell_type": "markdown",
   "metadata": {},
   "source": [
    "## 5. Further Considerations for HSI Reconstruction\n",
    "1.  **Realistic Sensing Matrix `H`**: For systems like CASSI, `H` is sparse and structured, determined by the coded apertures and disperser. A random matrix is a simplification.\n",
    "2.  **Regularization**: 3D TV is a good baseline. More advanced regularizers exploiting spatial-spectral correlations (e.g., dictionary learning, low-rank tensor methods, total generalized variation) can significantly improve HSI reconstruction.\n",
    "3.  **Parameter Tuning**: `lambda_tv` and `step_size` are highly sensitive and crucial for good results. They often require careful tuning for specific datasets or sensing matrices.\n",
    "4.  **Computational Cost**: Reconstructing large HSI cubes, especially with many iterations or complex regularizers, can be computationally intensive."
   ]
  }
 ],
 "metadata": {
  "kernelspec": {
   "display_name": "Python 3 (ipykernel)",
   "language": "python",
   "name": "python3"
  },
  "language_info": {
   "codemirror_mode": {
    "name": "ipython",
    "version": 3
   },
   "file_extension": ".py",
   "mimetype": "text/x-python",
   "name": "python",
   "nbconvert_exporter": "python",
   "pygments_lexer": "ipython3",
   "version": "3.9.12"
  }
 },
 "nbformat": 4,
 "nbformat_minor": 5
}
