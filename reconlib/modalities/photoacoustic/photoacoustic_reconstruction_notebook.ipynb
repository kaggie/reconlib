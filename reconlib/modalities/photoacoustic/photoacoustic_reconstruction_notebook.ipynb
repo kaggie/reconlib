{
 "cells": [
  {
   "cell_type": "markdown",
   "metadata": {},
   "source": [
    "# Photoacoustic Tomography (PAT) Reconstruction Demo (Time-of-Flight Model)\n",
    "This notebook demonstrates a basic reconstruction pipeline for Photoacoustic Tomography. \n",
    "The `PhotoacousticOperator` used here implements a simplified **time-of-flight (TOF)** forward model and a corresponding back-projection adjoint. \n",
    "For more advanced simulations, one might use k-Wave or other specialized toolboxes."
   ]
  },
  {
   "cell_type": "code",
   "execution_count": null,
   "metadata": {},
   "outputs": [],
   "source": [
    "import torch\n",
    "import numpy as np\n",
    "import matplotlib.pyplot as plt\n",
    "\n",
    "# Adjust path to import from reconlib (if running from outside the root directory)\n",
    "import sys\n",
    "# Example: sys.path.append('../../../') # Adjust based on your notebook's location\n",
    "\n",
    "from reconlib.modalities.photoacoustic.operators import PhotoacousticOperator\n",
    "from reconlib.modalities.photoacoustic.reconstructors import tv_reconstruction_pat\n",
    "from reconlib.modalities.photoacoustic.utils import generate_pat_phantom, plot_pat_results\n",
    "\n",
    "print(f\"PyTorch version: {torch.__version__}\")\n",
    "device = torch.device('cuda' if torch.cuda.is_available() else 'cpu')\n",
    "print(f\"Using device: {device}\")"
   ]
  },
  {
   "cell_type": "markdown",
   "metadata": {},
   "source": [
    "## 1. Setup Parameters and Phantom"
   ]
  },
  {
   "cell_type": "code",
   "execution_count": null,
   "metadata": {},
   "outputs": [],
   "source": [
    "image_shape_pat = (64, 64)    # (Ny, Nx) pixels for the initial pressure map\n",
    "pixel_size_m = 0.0001         # Physical size of each pixel (e.g., 0.1 mm = 1e-4 m)\n",
    "num_sensors_pat = 32          # Number of acoustic sensors\n",
    "sound_speed_mps = 1500      # Speed of sound in m/s\n",
    "num_time_samples = 128      # Number of time samples recorded by each sensor\n",
    "\n",
    "# Image domain physical size\n",
    "img_height_m = image_shape_pat[0] * pixel_size_m\n",
    "img_width_m = image_shape_pat[1] * pixel_size_m\n",
    "\n",
    "# Generate a simple phantom (initial pressure distribution)\n",
    "true_initial_pressure = generate_pat_phantom(image_shape_pat, num_circles=3, device=device)\n",
    "\n",
    "# Define sensor geometry (e.g., circular array around the phantom)\n",
    "angles = torch.linspace(0, 2 * np.pi, num_sensors_pat, device=device, endpoint=False)\n",
    "# Place sensors slightly outside the image physical boundary\n",
    "sensor_radius_m = max(img_height_m, img_width_m) * 0.6 \n",
    "center_x_m, center_y_m = img_width_m / 2, img_height_m / 2\n",
    "\n",
    "sensor_positions_pat = torch.stack([\n",
    "    center_y_m + sensor_radius_m * torch.sin(angles), # y-positions of sensors\n",
    "    center_x_m + sensor_radius_m * torch.cos(angles)  # x-positions of sensors\n",
    "], dim=1)\n",
    "\n",
    "# Note: The new PhotoacousticOperator is 2D. For 3D, a 3D-specific operator would be needed.\n",
    "\n",
    "plt.figure(figsize=(7,7))\n",
    "plt.imshow(true_initial_pressure.cpu().numpy(), extent=[0, img_width_m*1000, img_height_m*1000, 0]) # Show in mm\n",
    "plt.scatter(sensor_positions_pat[:,1].cpu().numpy()*1000, sensor_positions_pat[:,0].cpu().numpy()*1000, \n",
    "            c='red', marker='x', label='Sensors') # Plot x,y sensor positions in mm\n",
    "plt.title('True Initial Pressure Phantom & Sensor Layout')\n",
    "plt.xlabel('X (mm)')\n",
    "plt.ylabel('Y (mm)')\n",
    "plt.legend()\n",
    "plt.grid(True, linestyle=':', alpha=0.5)\n",
    "plt.axis('equal')\n",
    "plt.show()"
   ]
  },
  {
   "cell_type": "markdown",
   "metadata": {},
   "source": [
    "## 2. Initialize Operator and Simulate Data"
   ]
  },
  {
   "cell_type": "code",
   "execution_count": null,
   "metadata": {},
   "outputs": [],
   "source": [
    "pat_operator = PhotoacousticOperator(\n",
    "    image_shape=image_shape_pat,\n",
    "    sensor_positions=sensor_positions_pat,\n",
    "    sound_speed=sound_speed_mps,\n",
    "    time_samples=num_time_samples,\n",
    "    pixel_size=pixel_size_m,\n",
    "    device=device\n",
    ")\n",
    "\n",
    "# Simulate sensor data using the forward operator\n",
    "y_sensor_data = pat_operator.op(true_initial_pressure)\n",
    "\n",
    "print(f\"Simulated sensor data shape: {y_sensor_data.shape}\") \n",
    "print(f\"Operator time vector dt: {pat_operator.dt*1e6:.3f} us, max_t: {pat_operator.time_vector[-1]*1e3:.3f} ms\")\n",
    "\n",
    "# Visualize sensor data (sinogram-like representation)\n",
    "plt.figure(figsize=(8,5))\n",
    "plt.imshow(y_sensor_data.cpu().numpy(), aspect='auto', cmap='viridis',\n",
    "           extent=[0, pat_operator.time_vector[-1].item()*1e6, num_sensors_pat, 0]) # Time in us\n",
    "plt.title('Simulated Sensor Data (Time-of-Flight Model)')\n",
    "plt.xlabel('Time ($\mu s$)')\n",
    "plt.ylabel('Sensor Index')\n",
    "plt.colorbar(label='Signal Amplitude')\n",
    "plt.show()"
   ]
  },
  {
   "cell_type": "markdown",
   "metadata": {},
   "source": [
    "## 3. Perform Reconstruction\n",
    "We will use Total Variation (TV) regularization with the Proximal Gradient algorithm."
   ]
  },
  {
   "cell_type": "code",
   "execution_count": null,
   "metadata": {},
   "outputs": [],
   "source": [
    "lambda_tv_pat = 0.01      # TV regularization strength (may need tuning)\n",
    "iterations_pat = 30       # Number of proximal gradient iterations\n",
    "step_size_pat = 1e-4      # Step size for proximal gradient (CRITICAL, often needs tuning!)\n",
    "tv_prox_iters = 5         # Iterations for TV prox\n",
    "\n",
    "# Perform reconstruction\n",
    "reconstructed_pressure = tv_reconstruction_pat(\n",
    "    y_sensor_data=y_sensor_data,\n",
    "    pat_operator=pat_operator,\n",
    "    lambda_tv=lambda_tv_pat,\n",
    "    iterations=iterations_pat,\n",
    "    step_size=step_size_pat,\n",
    "    tv_prox_iterations=tv_prox_iters,\n",
    "    is_3d_tv=False, # Current operator is 2D\n",
    "    verbose=True\n",
    ")\n",
    "\n",
    "print(f\"Reconstructed pressure map shape: {reconstructed_pressure.shape}\")"
   ]
  },
  {
   "cell_type": "markdown",
   "metadata": {},
   "source": [
    "## 4. Display Results"
   ]
  },
  {
   "cell_type": "code",
   "execution_count": null,
   "metadata": {},
   "outputs": [],
   "source": [
    "fig, axes = plt.subplots(1, 2, figsize=(12, 6))\n",
    "extent_mm = [0, img_width_m*1000, img_height_m*1000, 0]\n",
    "\n",
    "im1 = axes[0].imshow(true_initial_pressure.cpu().numpy(), cmap='viridis', extent=extent_mm)\n",
    "axes[0].set_title('Ground Truth Initial Pressure')\n",
    "axes[0].set_xlabel('X (mm)'); axes[0].set_ylabel('Y (mm)')\n",
    "fig.colorbar(im1, ax=axes[0], fraction=0.046, pad=0.04)\n",
    "\n",
    "im2 = axes[1].imshow(reconstructed_pressure.cpu().numpy(), cmap='viridis', extent=extent_mm)\n",
    "axes[1].set_title(f'Reconstructed Pressure (TV, {iterations_pat} iters)')\n",
    "axes[1].set_xlabel('X (mm)'); axes[1].set_ylabel('Y (mm)')\n",
    "fig.colorbar(im2, ax=axes[1], fraction=0.046, pad=0.04)\n",
    "\n",
    "plt.tight_layout()\n",
    "plt.show()\n",
    "\n",
    "# Using the utility plot function (currently a placeholder itself)\n",
    "plot_pat_results(\n",
    "    initial_pressure_map=true_initial_pressure,\n",
    "    reconstructed_map=reconstructed_pressure,\n",
    "    sensor_data=y_sensor_data,\n",
    "    sensor_positions=sensor_positions_pat\n",
    ")"
   ]
  },
  {
   "cell_type": "markdown",
   "metadata": {},
   "source": [
    "## 5. Further Considerations\n",
    "The current `PhotoacousticOperator` uses a simplified time-of-flight model. For more accurate results:\n",
    "1. **Advanced Forward Models**: Implementations using k-Wave or analytical solutions for specific geometries would provide more realistic sensor data.\n",
    "2. **Adjoint Accuracy**: The dot-product test for the current TOF operator should be reasonably good, but numerical precision in binning can affect it. More sophisticated models (like k-Wave based) often have well-matched adjoints.\n",
    "3. **Regularization and Parameters**: The `lambda_tv` and `step_size` for the reconstruction are critical and need careful tuning. For real data, other regularizers or optimization schemes might be beneficial.\n",
    "4. **Noise Handling**: Adding realistic noise to `y_sensor_data` would provide a better test of the reconstruction robustness.\n",
    "5. **3D PAT**: The current operator is 2D. Extending to 3D would require a 3D operator and appropriate 3D TV regularization in the reconstructor (which `tv_reconstruction_pat` can handle if `is_3d_tv=True`).\n",
    "6. **Update `plot_pat_results`**: Implement actual plotting in `utils.py` for more comprehensive visualizations."
   ]
  }
 ],
 "metadata": {
  "kernelspec": {
   "display_name": "Python 3 (ipykernel)",
   "language": "python",
   "name": "python3"
  },
  "language_info": {
   "codemirror_mode": {
    "name": "ipython",
    "version": 3
   },
   "file_extension": ".py",
   "mimetype": "text/x-python",
   "name": "python",
   "nbconvert_exporter": "python",
   "pygments_lexer": "ipython3",
   "version": "3.9.12"
  }
 },
 "nbformat": 4,
 "nbformat_minor": 5
}
