{
 "cells": [
  {
   "cell_type": "markdown",
   "metadata": {},
   "source": [
    "# Photoacoustic Tomography (PAT) Reconstruction Demo\n",
    "This notebook demonstrates a basic reconstruction pipeline for Photoacoustic Tomography using placeholder operators and reconstructors. The actual forward model and back-projection in `PhotoacousticOperator` are currently placeholders and would need to be replaced with accurate implementations (e.g., using k-Wave or analytical models) for meaningful results."
   ]
  },
  {
   "cell_type": "code",
   "execution_count": null,
   "metadata": {},
   "outputs": [],
   "source": [
    "import torch\n",
    "import numpy as np\n",
    "import matplotlib.pyplot as plt\n",
    "\n",
    "# Adjust path to import from reconlib (if running from outside the root directory)\n",
    "import sys\n",
    "# Example: sys.path.append('../../../') # Adjust based on your notebook's location\n",
    "\n",
    "from reconlib.modalities.photoacoustic.operators import PhotoacousticOperator\n",
    "from reconlib.modalities.photoacoustic.reconstructors import tv_reconstruction_pat\n",
    "from reconlib.modalities.photoacoustic.utils import generate_pat_phantom, plot_pat_results\n",
    "\n",
    "print(f\"PyTorch version: {torch.__version__}\")\n",
    "device = torch.device('cuda' if torch.cuda.is_available() else 'cpu')\n",
    "print(f\"Using device: {device}\")"
   ]
  },
  {
   "cell_type": "markdown",
   "metadata": {},
   "source": [
    "## 1. Setup Parameters and Phantom"
   ]
  },
  {
   "cell_type": "code",
   "execution_count": null,
   "metadata": {},
   "outputs": [],
   "source": [
    "image_shape_pat = (128, 128)  # (Ny, Nx) or (Nz, Ny, Nx) for 3D\n",
    "num_sensors_pat = 64          # Number of acoustic sensors\n",
    "sound_speed_mps = 1500      # Speed of sound in m/s\n",
    "num_time_samples = 256      # Number of time samples recorded by each sensor\n",
    "\n",
    "# Generate a simple phantom (initial pressure distribution)\n",
    "true_initial_pressure = generate_pat_phantom(image_shape_pat, num_circles=5, device=device)\n",
    "\n",
    "# Define sensor geometry (e.g., circular array around the phantom)\n",
    "angles = torch.linspace(0, 2 * np.pi, num_sensors_pat, device=device, endpoint=False)\n",
    "radius_m = (max(image_shape_pat) / 2) * 0.001 # Assume pixel size is 1mm, radius slightly larger than half FOV\n",
    "sensor_positions_pat = torch.stack([\n",
    "    radius_m * torch.cos(angles),\n",
    "    radius_m * torch.sin(angles) \n",
    "], dim=1)\n",
    "\n",
    "if len(image_shape_pat) == 3: # Example for 3D, sensors in XY plane\n",
    "    z_pos = torch.zeros(num_sensors_pat, 1, device=device) + image_shape_pat[0] * 0.001 / 2 # Centered in Z\n",
    "    sensor_positions_pat = torch.cat((sensor_positions_pat, z_pos), dim=1)\n",
    "\n",
    "plt.figure(figsize=(6,6))\n",
    "plt.imshow(true_initial_pressure.cpu().numpy())\n",
    "plt.title('True Initial Pressure Phantom')\n",
    "plt.xlabel('X (pixels)')\n",
    "plt.ylabel('Y (pixels)')\n",
    "if sensor_positions_pat.shape[1] == 2:\n",
    "    plt.scatter(sensor_positions_pat[:,0].cpu()/(0.001) + image_shape_pat[1]/2, sensor_positions_pat[:,1].cpu()/(0.001) + image_shape_pat[0]/2, c='red', marker='x', label='Sensors')\n",
    "plt.legend()\n",
    "plt.show()"
   ]
  },
  {
   "cell_type": "markdown",
   "metadata": {},
   "source": [
    "## 2. Initialize Operator and Simulate Data"
   ]
  },
  {
   "cell_type": "code",
   "execution_count": null,
   "metadata": {},
   "outputs": [],
   "source": [
    "pat_operator = PhotoacousticOperator(\n",
    "    image_shape=image_shape_pat,\n",
    "    sensor_positions=sensor_positions_pat,\n",
    "    sound_speed=sound_speed_mps,\n",
    "    device=device\n",
    ")\n",
    "\n",
    "# Simulate sensor data using the forward operator\n",
    "# Note: This uses the placeholder forward model!\n",
    "y_sensor_data = pat_operator.op(true_initial_pressure)\n",
    "\n",
    "print(f\"Simulated sensor data shape: {y_sensor_data.shape}\")\n",
    "\n",
    "# Visualize sensor data (sinogram-like representation)\n",
    "plt.figure(figsize=(8,5))\n",
    "plt.imshow(y_sensor_data.cpu().numpy(), aspect='auto', cmap='viridis')\n",
    "plt.title('Simulated Sensor Data (Placeholder)')\n",
    "plt.xlabel('Time Samples')\n",
    "plt.ylabel('Sensor Index')\n",
    "plt.colorbar(label='Signal Amplitude')\n",
    "plt.show()"
   ]
  },
  {
   "cell_type": "markdown",
   "metadata": {},
   "source": [
    "## 3. Perform Reconstruction\n",
    "We will use Total Variation (TV) regularization with the Proximal Gradient algorithm."
   ]
  },
  {
   "cell_type": "code",
   "execution_count": null,
   "metadata": {},
   "outputs": [],
   "source": [
    "lambda_tv_pat = 0.01       # TV regularization strength\n",
    "iterations_pat = 20       # Number of proximal gradient iterations (low for demo)\n",
    "step_size_pat = 0.005     # Step size for proximal gradient\n",
    "tv_prox_iters = 5         # Iterations for TV prox (Chambolle-Pock, etc.)\n",
    "\n",
    "# Perform reconstruction\n",
    "# Note: This uses the placeholder adjoint model!\n",
    "reconstructed_pressure = tv_reconstruction_pat(\n",
    "    y_sensor_data=y_sensor_data,\n",
    "    pat_operator=pat_operator,\n",
    "    lambda_tv=lambda_tv_pat,\n",
    "    iterations=iterations_pat,\n",
    "    step_size=step_size_pat,\n",
    "    tv_prox_iterations=tv_prox_iters,\n",
    "    is_3d_tv=len(image_shape_pat)==3,\n",
    "    verbose=True\n",
    ")\n",
    "\n",
    "print(f\"Reconstructed pressure map shape: {reconstructed_pressure.shape}\")"
   ]
  },
  {
   "cell_type": "markdown",
   "metadata": {},
   "source": [
    "## 4. Display Results"
   ]
  },
  {
   "cell_type": "code",
   "execution_count": null,
   "metadata": {},
   "outputs": [],
   "source": [
    "fig, axes = plt.subplots(1, 2, figsize=(12, 6))\n",
    "\n",
    "im1 = axes[0].imshow(true_initial_pressure.cpu().numpy(), cmap='viridis')\n",
    "axes[0].set_title('Ground Truth Initial Pressure')\n",
    "axes[0].set_xlabel('X (pixels)')\n",
    "axes[0].set_ylabel('Y (pixels)')\n",
    "fig.colorbar(im1, ax=axes[0], fraction=0.046, pad=0.04)\n",
    "\n",
    "im2 = axes[1].imshow(reconstructed_pressure.cpu().numpy(), cmap='viridis')\n",
    "axes[1].set_title(f'Reconstructed Pressure (TV, {iterations_pat} iters - Placeholders)')\n",
    "axes[1].set_xlabel('X (pixels)')\n",
    "axes[1].set_ylabel('Y (pixels)')\n",
    "fig.colorbar(im2, ax=axes[1], fraction=0.046, pad=0.04)\n",
    "\n",
    "plt.tight_layout()\n",
    "plt.show()\n",
    "\n",
    "# Using the utility plot function (currently a placeholder itself)\n",
    "plot_pat_results(\n",
    "    initial_pressure_map=true_initial_pressure,\n",
    "    reconstructed_map=reconstructed_pressure,\n",
    "    sensor_data=y_sensor_data,\n",
    "    sensor_positions=sensor_positions_pat\n",
    ")"
   ]
  },
  {
   "cell_type": "markdown",
   "metadata": {},
   "source": [
    "## 5. Further Considerations (Beyond Placeholders)\n",
    "To make this notebook fully functional for PAT:\n",
    "1. **Implement `PhotoacousticOperator.op`**: Replace the placeholder with an accurate physical model of photoacoustic wave generation and propagation (e.g., using k-Wave, analytical solutions for simple geometries, or finite difference/element methods).\n",
    "2. **Implement `PhotoacousticOperator.op_adj`**: Implement the corresponding adjoint operation. For many PAT systems, this is a form of back-projection (e.g., universal back-projection, time reversal). Ensure it passes the dot-product test with the forward operator.\n",
    "3. **Refine `tv_reconstruction_pat`**: Adjust parameters, potentially use more advanced regularizers (e.g., L1 wavelet), or explore different optimization algorithms if needed.\n",
    "4. **Realistic Phantom and Parameters**: Use a more realistic phantom and sensor geometry. Ensure acoustic parameters (sound speed, time sampling, sensor locations) are consistent and physically meaningful.\n",
    "5. **Noise Handling**: Add noise to the simulated sensor data (`y_sensor_data`) to test robustness.\n",
    "6. **Update `plot_pat_results`**: Implement actual plotting in `utils.py`."
   ]
  }
 ],
 "metadata": {
  "kernelspec": {
   "display_name": "Python 3 (ipykernel)",
   "language": "python",
   "name": "python3"
  },
  "language_info": {
   "codemirror_mode": {
    "name": "ipython",
    "version": 3
   },
   "file_extension": ".py",
   "mimetype": "text/x-python",
   "name": "python",
   "nbconvert_exporter": "python",
   "pygments_lexer": "ipython3",
   "version": "3.9.12"
  }
 },
 "nbformat": 4,
 "nbformat_minor": 5
}
