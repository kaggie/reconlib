{
 "cells": [
  {
   "cell_type": "markdown",
   "metadata": {},
   "source": [
    "# Microwave Imaging (MWI) Reconstruction Demo\n",
    "This notebook demonstrates a basic reconstruction pipeline for Microwave Imaging. It aims to reconstruct a **complex dielectric contrast map** from (simulated) scattered microwave field data. \n",
    "The `MicrowaveImagingOperator` used here relies on a **system matrix `A`** that linearizes the inverse scattering problem (e.g., via Born approximation). For realistic MWI, this matrix `A` must be carefully derived from the physics of the antenna array and wave propagation, or a non-linear solver should be used. The reconstruction uses a TV regularizer adapted for complex images."
   ]
  },
  {
   "cell_type": "code",
   "execution_count": null,
   "metadata": {},
   "outputs": [],
   "source": [
    "import torch\n",
    "import numpy as np\n",
    "import matplotlib.pyplot as plt\n",
    "\n",
    "# Adjust path to import from reconlib \n",
    "import sys\n",
    "# sys.path.append('../../../') # Adjust as needed\n",
    "\n",
    "from reconlib.modalities.microwave.operators import MicrowaveImagingOperator\n",
    "from reconlib.modalities.microwave.reconstructors import tv_reconstruction_mwi\n",
    "from reconlib.modalities.microwave.utils import generate_mwi_phantom, plot_mwi_results\n",
    "\n",
    "print(f\"PyTorch version: {torch.__version__}\")\n",
    "device = torch.device('cuda' if torch.cuda.is_available() else 'cpu')\n",
    "print(f\"Using device: {device}\")"
   ]
  },
  {
   "cell_type": "markdown",
   "metadata": {},
   "source": [
    "## 1. Setup Parameters and Phantom"
   ]
  },
  {
   "cell_type": "code",
   "execution_count": null,
   "metadata": {},
   "outputs": [],
   "source": [
    "image_shape_mwi = (64, 64)      # (Ny, Nx) for the dielectric contrast map\n",
    "num_pixels_mwi = np.prod(image_shape_mwi)\n",
    "\n",
    "# Define background permittivity (e.g., for breast imaging, could be fatty tissue)\n",
    "background_eps_r = 4.0  # Relative permittivity real part\n",
    "background_sigma = 0.1 # Conductivity (S/m)\n",
    "frequency_ghz = 2.45    # Example frequency in GHz\n",
    "omega = 2 * np.pi * frequency_ghz * 1e9 # Angular frequency\n",
    "eps_0 = 8.854e-12 # Vacuum permittivity (F/m)\n",
    "background_permittivity_complex = background_eps_r - 1j * (background_sigma / (omega * eps_0))\n",
    "print(f\"Background complex permittivity: {background_permittivity_complex:.2f}\")\n",
    "\n",
    "# Generate a phantom representing dielectric contrast (object_eps - background_eps)\n",
    "true_dielectric_contrast = generate_mwi_phantom(\n",
    "    image_shape=image_shape_mwi, \n",
    "    num_objects=2, \n",
    "    background_permittivity=background_permittivity_complex,\n",
    "    device=device\n",
    ")\n",
    "\n",
    "fig, axes = plt.subplots(1, 2, figsize=(12, 5))\n",
    "im1 = axes[0].imshow(true_dielectric_contrast.real.cpu().numpy(), cmap='viridis')\n",
    "axes[0].set_title('True Contrast Map - Real Part')\n",
    "fig.colorbar(im1, ax=axes[0])\n",
    "im2 = axes[1].imshow(true_dielectric_contrast.imag.cpu().numpy(), cmap='viridis')\n",
    "axes[1].set_title('True Contrast Map - Imaginary Part')\n",
    "fig.colorbar(im2, ax=axes[1])\n",
    "plt.suptitle('Ground Truth Dielectric Contrast (${\Delta \\epsilon_r}$, ${\Delta \\sigma}$ effect)')\n",
    "plt.show()"
   ]
  },
  {
   "cell_type": "markdown",
   "metadata": {},
   "source": [
    "## 2. Initialize Operator and Simulate Data\n",
    "The `MicrowaveImagingOperator` requires a system matrix `A`. For this demo, we generate a random complex matrix. In practice, `A` is derived from the antenna array configuration and a linearized wave model (e.g., Born approximation)."
   ]
  },
  {
   "cell_type": "code",
   "execution_count": null,
   "metadata": {},
   "outputs": [],
   "source": [
    "# Number of measurements (e.g., from different transmitter-receiver pairs)\n",
    "num_measurements_mwi = num_pixels_mwi // 2 # Undersampled scenario for a challenge\n",
    "\n",
    "# System matrix A (random placeholder - this is the critical part for a real system)\n",
    "system_matrix_A = torch.randn(num_measurements_mwi, num_pixels_mwi, dtype=torch.complex64, device=device) * 0.1\n",
    "\n",
    "mwi_operator = MicrowaveImagingOperator(\n",
    "    image_shape=image_shape_mwi,\n",
    "    system_matrix=system_matrix_A,\n",
    "    device=device\n",
    ")\n",
    "\n",
    "# Simulate scattered field data y = A * x\n",
    "# x is the true_dielectric_contrast\n",
    "y_scattered_field = mwi_operator.op(true_dielectric_contrast)\n",
    "\n",
    "# Add some noise (optional, but realistic)\n",
    "noise_level_db = 20 # SNR in dB\n",
    "signal_power = torch.mean(torch.abs(y_scattered_field)**2)\n",
    "noise_power = signal_power / (10**(noise_level_db / 10))\n",
    "noise_std = torch.sqrt(noise_power / 2) # For complex Gaussian, half power in real, half in imag\n",
    "noise = torch.randn_like(y_scattered_field) * noise_std\n",
    "y_scattered_field_noisy = y_scattered_field + noise\n",
    "\n",
    "print(f\"Simulated scattered data shape: {y_scattered_field_noisy.shape}\")\n",
    "\n",
    "plt.figure(figsize=(10,4))\n",
    "plt.subplot(1,2,1)\n",
    "plt.plot(torch.abs(y_scattered_field).cpu().numpy(), label='Noiseless')\n",
    "plt.plot(torch.abs(y_scattered_field_noisy).cpu().numpy(), label=f'Noisy ({noise_level_db} dB SNR)')\n",
    "plt.title('Magnitude of Scattered Field Data')\n",
    "plt.xlabel('Measurement Index'); plt.ylabel('Magnitude'); plt.legend()\n",
    "plt.subplot(1,2,2)\n",
    "plt.plot(torch.angle(y_scattered_field).cpu().numpy(), label='Noiseless')\n",
    "plt.plot(torch.angle(y_scattered_field_noisy).cpu().numpy(), label=f'Noisy ({noise_level_db} dB SNR)')\n",
    "plt.title('Phase of Scattered Field Data')\n",
    "plt.xlabel('Measurement Index'); plt.ylabel('Phase (rad)'); plt.legend()\n",
    "plt.tight_layout()\n",
    "plt.show()"
   ]
  },
  {
   "cell_type": "markdown",
   "metadata": {},
   "source": [
    "## 3. Perform Reconstruction\n",
    "Using Total Variation (TV) regularization for complex images with Proximal Gradient."
   ]
  },
  {
   "cell_type": "code",
   "execution_count": null,
   "metadata": {},
   "outputs": [],
   "source": [
    "lambda_tv_mwi = 0.01      # TV regularization strength\n",
    "iterations_mwi = 50       # Number of proximal gradient iterations \n",
    "step_size_mwi = 0.005     # Step size for proximal gradient\n",
    "tv_prox_iters_mwi = 10    # Iterations for complex TV prox\n",
    "\n",
    "reconstructed_contrast = tv_reconstruction_mwi(\n",
    "    y_scattered_data=y_scattered_field_noisy,\n",
    "    mwi_operator=mwi_operator,\n",
    "    lambda_tv=lambda_tv_mwi,\n",
    "    iterations=iterations_mwi,\n",
    "    step_size=step_size_mwi,\n",
    "    tv_prox_iterations=tv_prox_iters_mwi,\n",
    "    verbose=True\n",
    ")\n",
    "\n",
    "print(f\"Reconstructed dielectric contrast map shape: {reconstructed_contrast.shape}\")"
   ]
  },
  {
   "cell_type": "markdown",
   "metadata": {},
   "source": [
    "## 4. Display Results"
   ]
  },
  {
   "cell_type": "code",
   "execution_count": null,
   "metadata": {},
   "outputs": [],
   "source": [
    "fig, axes = plt.subplots(2, 2, figsize=(12, 10))\n",
    "\n",
    "im_r_true = axes[0,0].imshow(true_dielectric_contrast.real.cpu().numpy(), cmap='viridis')\n",
    "axes[0,0].set_title('True Contrast - Real Part')\n",
    "fig.colorbar(im_r_true, ax=axes[0,0])\n",
    "im_i_true = axes[0,1].imshow(true_dielectric_contrast.imag.cpu().numpy(), cmap='viridis')\n",
    "axes[0,1].set_title('True Contrast - Imaginary Part')\n",
    "fig.colorbar(im_i_true, ax=axes[0,1])\n",
    "\n",
    "im_r_recon = axes[1,0].imshow(reconstructed_contrast.real.cpu().numpy(), cmap='viridis')\n",
    "axes[1,0].set_title(f'Recon. Contrast - Real Part (TV, {iterations_mwi} iters)')\n",
    "fig.colorbar(im_r_recon, ax=axes[1,0])\n",
    "im_i_recon = axes[1,1].imshow(reconstructed_contrast.imag.cpu().numpy(), cmap='viridis')\n",
    "axes[1,1].set_title(f'Recon. Contrast - Imag. Part (TV, {iterations_mwi} iters)')\n",
    "fig.colorbar(im_i_recon, ax=axes[1,1])\n",
    "\n",
    "plt.tight_layout()\n",
    "plt.show()\n",
    "\n",
    "# Using the utility plot function (currently a placeholder itself)\n",
    "plot_mwi_results(\n",
    "    true_contrast_map=true_dielectric_contrast,\n",
    "    reconstructed_contrast_map=reconstructed_contrast,\n",
    "    scattered_data=y_scattered_field_noisy\n",
    ")"
   ]
  },
  {
   "cell_type": "markdown",
   "metadata": {},
   "source": [
    "## 5. Further Considerations for MWI\n",
    "1.  **Accurate Forward Model**: The biggest challenge in MWI is the forward model. The system matrix `A` used here is a gross simplification. Realistic MWI requires solving Maxwell's equations (e.g., using FDTD, FEM, MoM). For iterative reconstruction, the adjoint of this solver is also needed.\n",
    "2.  **Non-Linearity**: Microwave scattering is inherently non-linear, especially for high-contrast objects. Linearized models (like Born) are only valid for weakly scattering objects. Non-linear solvers (e.g., Contrast Source Inversion, Gauss-Newton) are generally required.\n",
    "3.  **System Matrix Calibration**: If a system matrix approach is used, it often needs to be calibrated experimentally or derived from highly accurate simulations of the specific antenna array and environment.\n",
    "4.  **Ill-Posedness and Regularization**: MWI is highly ill-posed. TV regularization is a good start, but more advanced regularization, possibly tailored to expected dielectric property distributions, might be needed. The choice of `lambda_tv` is critical.\n",
    "5.  **Computational Cost**: Both non-linear solvers and handling large datasets from antenna arrays can be computationally very expensive."
   ]
  }
 ],
 "metadata": {
  "kernelspec": {
   "display_name": "Python 3 (ipykernel)",
   "language": "python",
   "name": "python3"
  },
  "language_info": {
   "codemirror_mode": {
    "name": "ipython",
    "version": 3
   },
   "file_extension": ".py",
   "mimetype": "text/x-python",
   "name": "python",
   "nbconvert_exporter": "python",
   "pygments_lexer": "ipython3",
   "version": "3.9.12"
  }
 },
 "nbformat": 4,
 "nbformat_minor": 5
}
