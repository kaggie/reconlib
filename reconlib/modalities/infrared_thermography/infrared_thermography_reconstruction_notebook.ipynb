{
 "cells": [
  {
   "cell_type": "markdown",
   "metadata": {},
   "source": [
    "# Infrared Thermography (IRT) Reconstruction Demo\n",
    "This notebook demonstrates a basic reconstruction pipeline for Infrared Thermography. It aims to reconstruct a subsurface property map (e.g., defects, heat sources) from surface temperature measurements over time. \n",
    "The `InfraredThermographyOperator` used here is a placeholder that simulates heat diffusion with a simple kernel. For realistic results, this operator would need to implement a more accurate heat equation solver."
   ]
  },
  {
   "cell_type": "code",
   "execution_count": null,
   "metadata": {},
   "outputs": [],
   "source": [
    "import torch\n",
    "import numpy as np\n",
    "import matplotlib.pyplot as plt\n",
    "\n",
    "# Adjust path to import from reconlib \n",
    "import sys\n",
    "# sys.path.append('../../../') # Adjust as needed\n",
    "\n",
    "from reconlib.modalities.infrared_thermography.operators import InfraredThermographyOperator\n",
    "from reconlib.modalities.infrared_thermography.reconstructors import tv_reconstruction_irt\n",
    "from reconlib.modalities.infrared_thermography.utils import generate_irt_phantom, plot_irt_results\n",
    "\n",
    "print(f\"PyTorch version: {torch.__version__}\")\n",
    "device = torch.device('cuda' if torch.cuda.is_available() else 'cpu')\n",
    "print(f\"Using device: {device}\")"
   ]
  },
  {
   "cell_type": "markdown",
   "metadata": {},
   "source": [
    "## 1. Setup Parameters and Phantom\n",
    "We'll define parameters for a 2D subsurface map reconstruction."
   ]
  },
  {
   "cell_type": "code",
   "execution_count": null,
   "metadata": {},
   "outputs": [],
   "source": [
    "subsurface_image_shape = (64, 64)  # (Ny, Nx) for the subsurface property map\n",
    "num_time_steps = 10                # Number of time frames for surface temperature\n",
    "\n",
    "# Generate a phantom representing subsurface anomalies (e.g., defects or heat sources)\n",
    "# 'rect_inclusion' simulates areas with different thermal resistance (phantom values around 1.0 normally, defects alter this)\n",
    "# 'hotspot' simulates localized heat sources (phantom values are source intensities)\n",
    "phantom_type = 'hotspot' # or 'rect_inclusion' \n",
    "true_subsurface_map = generate_irt_phantom(\n",
    "    image_shape=subsurface_image_shape, \n",
    "    num_defects=3, \n",
    "    defect_type=phantom_type, \n",
    "    device=device\n",
    ")\n",
    "\n",
    "plt.figure(figsize=(6,6))\n",
    "plt.imshow(true_subsurface_map.cpu().numpy(), cmap='hot')\n",
    "plt.title(f'True Subsurface Map ({phantom_type})')\n",
    "plt.xlabel('X (pixels)')\n",
    "plt.ylabel('Y (pixels)')\n",
    "plt.colorbar(label='Property Value / Intensity')\n",
    "plt.show()"
   ]
  },
  {
   "cell_type": "markdown",
   "metadata": {},
   "source": [
    "## 2. Initialize Operator and Simulate Data\n",
    "The IRT operator will simulate the surface temperature sequence based on the subsurface map."
   ]
  },
  {
   "cell_type": "code",
   "execution_count": null,
   "metadata": {},
   "outputs": [],
   "source": [
    "# The operator uses a default simple Gaussian blur kernel if none is provided.\n",
    "irt_operator = InfraredThermographyOperator(\n",
    "    image_shape=subsurface_image_shape,\n",
    "    time_steps=num_time_steps,\n",
    "    device=device\n",
    ")\n",
    "\n",
    "# Simulate surface temperature data using the forward operator\n",
    "# Note: This uses the placeholder diffusion model!\n",
    "y_surface_temps = irt_operator.op(true_subsurface_map)\n",
    "\n",
    "print(f\"Simulated surface temperature data shape: {y_surface_temps.shape}\")\n",
    "\n",
    "# Visualize a few time frames of the simulated surface temperature\n",
    "fig, axes = plt.subplots(1, min(num_time_steps, 4), figsize=(min(num_time_steps,4)*4, 4))\n",
    "if min(num_time_steps,4) == 1: axes = [axes] # Make iterable if single subplot\n",
    "for i, ax_idx in enumerate(np.linspace(0, num_time_steps-1, min(num_time_steps, 4)).astype(int)):\n",
    "    im = axes[i].imshow(y_surface_temps[ax_idx].cpu().numpy(), cmap='inferno')\n",
    "    axes[i].set_title(f'Surface Temp (t={ax_idx})')\n",
    "    axes[i].set_xlabel('X')\n",
    "    axes[i].set_ylabel('Y')\n",
    "    fig.colorbar(im, ax=axes[i], fraction=0.046, pad=0.04)\n",
    "plt.suptitle('Simulated Surface Temperatures (Placeholder Model)')\n",
    "plt.tight_layout(rect=[0, 0, 1, 0.96])\n",
    "plt.show()"
   ]
  },
  {
   "cell_type": "markdown",
   "metadata": {},
   "source": [
    "## 3. Perform Reconstruction\n",
    "Using Total Variation (TV) regularization with Proximal Gradient to reconstruct the subsurface map."
   ]
  },
  {
   "cell_type": "code",
   "execution_count": null,
   "metadata": {},
   "outputs": [],
   "source": [
    "lambda_tv_irt = 0.001     # TV regularization strength (may need tuning)\n",
    "iterations_irt = 25       # Number of proximal gradient iterations (low for demo)\n",
    "step_size_irt = 0.01      # Step size for proximal gradient\n",
    "tv_prox_iters_irt = 5     # Iterations for TV prox\n",
    "\n",
    "# Perform reconstruction\n",
    "reconstructed_subsurface = tv_reconstruction_irt(\n",
    "    y_surface_temperature_sequence=y_surface_temps,\n",
    "    irt_operator=irt_operator,\n",
    "    lambda_tv=lambda_tv_irt,\n",
    "    iterations=iterations_irt,\n",
    "    step_size=step_size_irt,\n",
    "    tv_prox_iterations=tv_prox_iters_irt,\n",
    "    # is_3d_tv is auto-detected from irt_operator.image_shape in the function\n",
    "    verbose=True\n",
    ")\n",
    "\n",
    "print(f\"Reconstructed subsurface map shape: {reconstructed_subsurface.shape}\")"
   ]
  },
  {
   "cell_type": "markdown",
   "metadata": {},
   "source": [
    "## 4. Display Results"
   ]
  },
  {
   "cell_type": "code",
   "execution_count": null,
   "metadata": {},
   "outputs": [],
   "source": [
    "fig, axes = plt.subplots(1, 2, figsize=(12, 6))\n",
    "\n",
    "im1 = axes[0].imshow(true_subsurface_map.cpu().numpy(), cmap='hot')\n",
    "axes[0].set_title(f'Ground Truth Subsurface ({phantom_type})')\n",
    "axes[0].set_xlabel('X (pixels)')\n",
    "axes[0].set_ylabel('Y (pixels)')\n",
    "fig.colorbar(im1, ax=axes[0], fraction=0.046, pad=0.04)\n",
    "\n",
    "im2 = axes[1].imshow(reconstructed_subsurface.cpu().numpy(), cmap='hot')\n",
    "axes[1].set_title(f'Reconstructed Subsurface (TV, {iterations_irt} iters - Placeholder)')\n",
    "axes[1].set_xlabel('X (pixels)')\n",
    "axes[1].set_ylabel('Y (pixels)')\n",
    "fig.colorbar(im2, ax=axes[1], fraction=0.046, pad=0.04)\n",
    "\n",
    "plt.tight_layout()\n",
    "plt.show()\n",
    "\n",
    "# Using the utility plot function (currently a placeholder itself)\n",
    "plot_irt_results(\n",
    "    subsurface_map_true=true_subsurface_map,\n",
    "    subsurface_map_recon=reconstructed_subsurface,\n",
    "    surface_temp_sequence=y_surface_temps,\n",
    "    time_slice_to_display=num_time_steps-1 # Show last time frame\n",
    ")"
   ]
  },
  {
   "cell_type": "markdown",
   "metadata": {},
   "source": [
    "## 5. Further Considerations\n",
    "To make this notebook fully functional for Infrared Thermography:\n",
    "1. **Implement `InfraredThermographyOperator` accurately**: \n",
    "    - This requires solving the heat equation (possibly with material properties like thermal conductivity, diffusivity, density) for a given subsurface heat source/defect distribution and boundary conditions. Finite Difference Method (FDM) or Finite Element Method (FEM) are common.\n",
    "    - The adjoint operator (`op_adj`) must be the correct mathematical adjoint of the implemented forward heat model. This is crucial for gradient-based reconstruction algorithms to converge correctly.\n",
    "2. **Model Specific IRT Techniques**: \n",
    "    - *Pulsed Thermography*: Model the transient thermal response after a short heat pulse.\n",
    "    - *Lock-in Thermography*: Model the steady-state periodic response to a modulated heat source.\n",
    "3. **Calibration**: Relate pixel values in the IR camera images to actual temperature values. Consider emissivity corrections.\n",
    "4. **Noise Model**: Add realistic noise to the simulated surface temperature data (e.g., thermal noise, detector noise).\n",
    "5. **Quantitative Inversion**: For estimating actual defect parameters (size, depth, thermal resistance) rather than just a qualitative map, the forward model must be very accurate, and the inversion might require more sophisticated regularization or optimization."
   ]
  }
 ],
 "metadata": {
  "kernelspec": {
   "display_name": "Python 3 (ipykernel)",
   "language": "python",
   "name": "python3"
  },
  "language_info": {
   "codemirror_mode": {
    "name": "ipython",
    "version": 3
   },
   "file_extension": ".py",
   "mimetype": "text/x-python",
   "name": "python",
   "nbconvert_exporter": "python",
   "pygments_lexer": "ipython3",
   "version": "3.9.12"
  }
 },
 "nbformat": 4,
 "nbformat_minor": 5
}
