{
 "cells": [
  {
   "cell_type": "markdown",
   "metadata": {},
   "source": [
    "# Infrared Thermography (IRT) Reconstruction Demo (Iterative Diffusion Model)\n",
    "This notebook demonstrates TV-regularized reconstruction for Infrared Thermography. It aims to reconstruct an **initial subsurface heat distribution** from surface temperature measurements observed over time. \n",
    "The `InfraredThermographyOperator` simulates heat diffusion by iteratively applying a Gaussian blur kernel to an initial heat map. The reconstruction then attempts to recover this initial heat map."
   ]
  },
  {
   "cell_type": "code",
   "execution_count": null,
   "metadata": {},
   "outputs": [],
   "source": [
    "import torch\n",
    "import numpy as np\n",
    "import matplotlib.pyplot as plt\n",
    "\n",
    "# Adjust path to import from reconlib \n",
    "import sys\n",
    "# sys.path.append('../../../') # Adjust as needed\n",
    "\n",
    "from reconlib.modalities.infrared_thermography.operators import InfraredThermographyOperator\n",
    "from reconlib.modalities.infrared_thermography.reconstructors import tv_reconstruction_irt\n",
    "from reconlib.modalities.infrared_thermography.utils import generate_irt_phantom, plot_irt_results\n",
    "\n",
    "print(f\"PyTorch version: {torch.__version__}\")\n",
    "device = torch.device('cuda' if torch.cuda.is_available() else 'cpu')\n",
    "print(f\"Using device: {device}\")"
   ]
  },
  {
   "cell_type": "markdown",
   "metadata": {},
   "source": [
    "## 1. Setup Parameters and Phantom (Initial Heat Map)"
   ]
  },
  {
   "cell_type": "code",
   "execution_count": null,
   "metadata": {},
   "outputs": [],
   "source": [
    "initial_heat_map_shape = (64, 64)  # (Ny, Nx) for the initial heat distribution\n",
    "num_time_steps = 10                # Number of time frames for surface temperature observation\n",
    "diffusion_sigma = 1.5              # Sigma for the Gaussian diffusion kernel in the operator\n",
    "\n",
    "# Generate a phantom representing the initial heat distribution.\n",
    "# 'hotspot' type from generate_irt_phantom is suitable here.\n",
    "true_initial_heat_map = generate_irt_phantom(\n",
    "    image_shape=initial_heat_map_shape, \n",
    "    num_defects=3, \n",
    "    defect_type='hotspot', # Simulates localized initial heat sources\n",
    "    device=device\n",
    ")\n",
    "\n",
    "plt.figure(figsize=(6,6))\n",
    "plt.imshow(true_initial_heat_map.cpu().numpy(), cmap='hot')\n",
    "plt.title('True Initial Heat Map')\n",
    "plt.xlabel('X (pixels)')\n",
    "plt.ylabel('Y (pixels)')\n",
    "plt.colorbar(label='Initial Heat Intensity')\n",
    "plt.show()"
   ]
  },
  {
   "cell_type": "markdown",
   "metadata": {},
   "source": [
    "## 2. Initialize Operator and Simulate Surface Temperature Evolution\n",
    "The IRT operator simulates how the initial heat diffuses over time, leading to a sequence of surface temperature maps."
   ]
  },
  {
   "cell_type": "code",
   "execution_count": null,
   "metadata": {},
   "outputs": [],
   "source": [
    "irt_operator = InfraredThermographyOperator(\n",
    "    image_shape=initial_heat_map_shape,\n",
    "    time_steps=num_time_steps,\n",
    "    diffusion_kernel_sigma=diffusion_sigma,\n",
    "    device=device\n",
    ")\n",
    "\n",
    "# Simulate surface temperature data using the forward operator\n",
    "y_surface_temps = irt_operator.op(true_initial_heat_map)\n",
    "\n",
    "print(f\"Simulated surface temperature data shape: {y_surface_temps.shape}\")\n",
    "\n",
    "# Visualize a few time frames of the simulated surface temperature\n",
    "fig, axes = plt.subplots(1, min(num_time_steps, 4), figsize=(min(num_time_steps,4)*4, 4))\n",
    "if num_time_steps == 0: # Handle case of no time steps, though op expects >0\n",
    "    print(\"No time steps to display.\")\n",
    "elif min(num_time_steps,4) == 1 and num_time_steps >=1:\n",
    "    axes = [axes]\n",
    "    im = axes[0].imshow(y_surface_temps[0].cpu().numpy(), cmap='inferno')\n",
    "    axes[0].set_title(f'Surface Temp (t=0)')\n",
    "    axes[0].set_xlabel('X'); axes[0].set_ylabel('Y')\n",
    "    fig.colorbar(im, ax=axes[0], fraction=0.046, pad=0.04)\n",
    "else: # Multiple frames to show\n",
    "    for i, ax_idx in enumerate(np.linspace(0, num_time_steps-1, min(num_time_steps, 4)).astype(int)):\n",
    "        im = axes[i].imshow(y_surface_temps[ax_idx].cpu().numpy(), cmap='inferno')\n",
    "        axes[i].set_title(f'Surface Temp (t={ax_idx})')\n",
    "        axes[i].set_xlabel('X'); axes[i].set_ylabel('Y')\n",
    "        fig.colorbar(im, ax=axes[i], fraction=0.046, pad=0.04)\n",
    "\n",
    "plt.suptitle('Simulated Surface Temperatures (Iterative Diffusion Model)')\n",
    "plt.tight_layout(rect=[0, 0, 1, 0.96])\n",
    "plt.show()"
   ]
  },
  {
   "cell_type": "markdown",
   "metadata": {},
   "source": [
    "## 3. Perform Reconstruction\n",
    "Using Total Variation (TV) regularization with Proximal Gradient to reconstruct the initial heat map."
   ]
  },
  {
   "cell_type": "code",
   "execution_count": null,
   "metadata": {},
   "outputs": [],
   "source": [
    "lambda_tv_irt = 0.0005     # TV regularization strength (may need tuning)\n",
    "iterations_irt = 75        # Number of proximal gradient iterations\n",
    "step_size_irt = 1e-3       # Step size for proximal gradient (CRITICAL, adjust based on data scaling and lambda)\n",
    "tv_prox_iters_irt = 5      # Iterations for TV prox\n",
    "\n",
    "# Perform reconstruction\n",
    "reconstructed_initial_heat = tv_reconstruction_irt(\n",
    "    y_surface_temperature_sequence=y_surface_temps,\n",
    "    irt_operator=irt_operator,\n",
    "    lambda_tv=lambda_tv_irt,\n",
    "    iterations=iterations_irt,\n",
    "    step_size=step_size_irt,\n",
    "    tv_prox_iterations=tv_prox_iters_irt,\n",
    "    is_3d_tv=False, # Current operator and phantom are 2D\n",
    "    verbose=True\n",
    ")\n",
    "\n",
    "print(f\"Reconstructed initial heat map shape: {reconstructed_initial_heat.shape}\")"
   ]
  },
  {
   "cell_type": "markdown",
   "metadata": {},
   "source": [
    "## 4. Display Results"
   ]
  },
  {
   "cell_type": "code",
   "execution_count": null,
   "metadata": {},
   "outputs": [],
   "source": [
    "fig, axes = plt.subplots(1, 2, figsize=(12, 6))\n",
    "\n",
    "im1 = axes[0].imshow(true_initial_heat_map.cpu().numpy(), cmap='hot')\n",
    "axes[0].set_title('True Initial Heat Map')\n",
    "axes[0].set_xlabel('X (pixels)')\n",
    "axes[0].set_ylabel('Y (pixels)')\n",
    "fig.colorbar(im1, ax=axes[0], fraction=0.046, pad=0.04)\n",
    "\n",
    "im2 = axes[1].imshow(reconstructed_initial_heat.cpu().numpy(), cmap='hot')\n",
    "axes[1].set_title(f'Reconstructed Initial Heat (TV, {iterations_irt} iters)')\n",
    "axes[1].set_xlabel('X (pixels)')\n",
    "axes[1].set_ylabel('Y (pixels)')\n",
    "fig.colorbar(im2, ax=axes[1], fraction=0.046, pad=0.04)\n",
    "\n",
    "plt.tight_layout()\n",
    "plt.show()\n",
    "\n",
    "# Using the utility plot function (currently a placeholder itself)\n",
    "plot_irt_results(\n",
    "    subsurface_map_true=true_initial_heat_map,\n",
    "    subsurface_map_recon=reconstructed_initial_heat,\n",
    "    surface_temp_sequence=y_surface_temps,\n",
    "    time_slice_to_display=num_time_steps-1 # Show last time frame of surface temp for context\n",
    ")"
   ]
  },
  {
   "cell_type": "markdown",
   "metadata": {},
   "source": [
    "## 5. Further Considerations\n",
    "The current `InfraredThermographyOperator` uses a simplified iterative diffusion model.\n",
    "1. **Realistic Heat Transfer Physics**: For accurate IRT modeling, solving the heat equation (e.g., using Finite Difference or Finite Element methods) with appropriate material properties (thermal conductivity, diffusivity, density) and boundary conditions is essential.\n",
    "2. **Adjoint State Method**: For complex heat equation solvers, the adjoint state method is often used to correctly compute the gradient for iterative reconstruction, ensuring the `op_adj` is the true adjoint of `op`.\n",
    "3. **Active vs. Passive Thermography**: This demo is closer to a passive scenario (observing diffusion of initial heat). Active thermography (pulsed, lock-in) involves modeling external heat sources and their interaction, which would require different operator implementations.\n",
    "4. **Calibration & Emissivity**: Real IRT data requires calibration to temperature and corrections for surface emissivity.\n",
    "5. **Noise Models**: Thermal noise and detector noise in IR cameras can be complex. More accurate noise models in simulation and data fidelity terms in reconstruction can improve results."
   ]
  }
 ],
 "metadata": {
  "kernelspec": {
   "display_name": "Python 3 (ipykernel)",
   "language": "python",
   "name": "python3"
  },
  "language_info": {
   "codemirror_mode": {
    "name": "ipython",
    "version": 3
   },
   "file_extension": ".py",
   "mimetype": "text/x-python",
   "name": "python",
   "nbconvert_exporter": "python",
   "pygments_lexer": "ipython3",
   "version": "3.9.12"
  }
 },
 "nbformat": 4,
 "nbformat_minor": 5
}
