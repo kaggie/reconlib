{
 "cells": [
  {
   "cell_type": "markdown",
   "metadata": {},
   "source": [
    "# SPECT Reconstruction Examples (FBP & OSEM)\n",
    "\n",
    "This notebook demonstrates basic reconstruction workflows for Single Photon Emission Computed Tomography (SPECT) using Filtered Back-Projection (FBP) and Ordered Subsets Expectation Maximization (OSEM) algorithms available in `reconlib`.\n",
    "\n",
    "**Workflow:**\n",
    "1. Setup simulation parameters and create a simple activity phantom.\n",
    "2. Instantiate the `SPECTProjectorOperator` which can model basic SPECT physics (attenuation and PSF are optional).\n",
    "3. Simulate projection data (sinogram) using the projector.\n",
    "4. Reconstruct the activity map from the sinogram using:\n",
    "    a. `SPECTFBPReconstructor`.\n",
    "    b. `SPECTOSEMReconstructor`.\n",
    "5. Visualize the original phantom and the reconstructed images."
   ]
  },
  {
   "cell_type": "code",
   "execution_count": null,
   "metadata": {},
   "outputs": [],
   "source": [
    "import torch\n",
    "import numpy as np\n",
    "import matplotlib.pyplot as plt\n",
    "%matplotlib inline\n",
    "\n",
    "# Ensure reconlib is in the Python path (e.g., if running from examples folder)\n",
    "import sys\n",
    "import os\n",
    "if os.path.abspath(os.path.join(os.getcwd(), '..')) not in sys.path:\n",
    "    sys.path.insert(0, os.path.abspath(os.path.join(os.getcwd(), '..')))\n",
    "\n",
    "try:\n",
    "    from reconlib.modalities.spect import SPECTProjectorOperator, SPECTFBPReconstructor, SPECTOSEMReconstructor\n",
    "    # simple_radon_transform might be needed if not using SPECTProjectorOperator for data gen, but we are.\n",
    "    # from reconlib.modalities.pcct.operators import simple_radon_transform \n",
    "except ImportError as e:\n",
    "    print(f\"Import Error: {e}. Make sure reconlib is installed or PYTHONPATH is set correctly.\")\n",
    "    print(\"You might need to run 'export PYTHONPATH=/path/to/your/reconlib/parent/directory:$PYTHONPATH'\")\n",
    "\n",
    "device = torch.device(\"cuda\" if torch.cuda.is_available() else \"cpu\")\n",
    "print(f\"Using device: {device}\")"
   ]
  },
  {
   "cell_type": "markdown",
   "metadata": {},
   "source": [
    "## 1. Simulation Parameters and Phantom"
   ]
  },
  {
   "cell_type": "code",
   "execution_count": null,
   "metadata": {},
   "outputs": [],
   "source": [
    "# Image and projection geometry\n",
    "img_s_spect = (64, 64)  # Image size (Ny, Nx)\n",
    "n_angles_spect = 60     # Number of projection angles (should be a divisor for num_subsets in OSEM for simplicity)\n",
    "n_dets_spect = int(np.floor(img_s_spect[0] * np.sqrt(2)) +1) # Number of detector bins \n",
    "if n_dets_spect % 2 == 0: n_dets_spect +=1 # Ensure odd for centering if needed by radon/bp\n",
    "\n",
    "angles_spect_np = np.linspace(0, np.pi, n_angles_spect, endpoint=False)\n",
    "angles_spect = torch.tensor(angles_spect_np, device=device, dtype=torch.float32)\n",
    "\n",
    "# Create a simple activity phantom\n",
    "activity_phantom = torch.zeros(img_s_spect, device=device, dtype=torch.float32)\n",
    "center_y, center_x = img_s_spect[0]//2, img_s_spect[1]//2\n",
    "radius = img_s_spect[0]//4\n",
    "y_coords, x_coords = torch.meshgrid(torch.arange(img_s_spect[0], device=device), \n",
    "                                  torch.arange(img_s_spect[1], device=device), indexing='ij')\n",
    "disk_mask = (y_coords - center_y)**2 + (x_coords - center_x)**2 < radius**2\n",
    "activity_phantom[disk_mask] = 1.0\n",
    "# Add another smaller, hotter spot\n",
    "activity_phantom[center_y+radius//2 : center_y+radius//2+5, \n",
    "                 center_x-radius//2 : center_x-radius//2+5] = 2.0\n",
    "\n",
    "plt.figure(figsize=(5,5))\n",
    "plt.imshow(activity_phantom.cpu().numpy(), cmap='hot')\n",
    "plt.title(\"Original Activity Phantom\")\n",
    "plt.xlabel(\"X-pixel\"); plt.ylabel(\"Y-pixel\")\n",
    "plt.colorbar(label=\"Activity\")\n",
    "plt.show()"
   ]
  },
  {
   "cell_type": "markdown",
   "metadata": {},
   "source": [
    "## 2. Setup SPECT Projector\n",
    "For this initial demonstration, we'll use a simplified projector without attenuation or significant PSF blurring to focus on the reconstruction algorithms."
   ]
  },
  {
   "cell_type": "code",
   "execution_count": null,
   "metadata": {},
   "outputs": [],
   "source": [
    "attenuation_map_spect = None # No attenuation for this example\n",
    "geometric_psf_fwhm_spect_mm = None # No PSF for this example\n",
    "pixel_size_spect_mm = 1.0\n",
    "\n",
    "spect_projector = SPECTProjectorOperator(\n",
    "    image_shape=img_s_spect,\n",
    "    angles=angles_spect,\n",
    "    detector_pixels=n_dets_spect,\n",
    "    attenuation_map=attenuation_map_spect,\n",
    "    geometric_psf_fwhm_mm=geometric_psf_fwhm_spect_mm,\n",
    "    pixel_size_mm=pixel_size_spect_mm,\n",
    "    device=device\n",
    ")\n",
    "print(\"SPECTProjectorOperator instantiated.\")"
   ]
  },
  {
   "cell_type": "markdown",
   "metadata": {},
   "source": [
    "## 3. Simulate Projections"
   ]
  },
  {
   "cell_type": "code",
   "execution_count": null,
   "metadata": {},
   "outputs": [],
   "source": [
    "projections_spect = spect_projector.op(activity_phantom)\n",
    "print(f\"Simulated projections shape: {projections_spect.shape}\")\n",
    "\n",
    "plt.figure(figsize=(7,5))\n",
    "plt.imshow(projections_spect.cpu().numpy(), cmap='hot', aspect='auto')\n",
    "plt.title(\"Simulated SPECT Projections (Sinogram - Ideal)\")\n",
    "plt.xlabel(\"Detector Bin\")\n",
    "plt.ylabel(\"Angle Index\")\n",
    "plt.colorbar(label=\"Projected Activity\")\n",
    "plt.show()\n",
    "\n",
    "# For noisy data simulation (optional):\n",
    "# Define an approximate total count level for the noisy simulation\n",
    "total_counts_target = 5e5 \n",
    "current_total_counts = torch.sum(projections_spect).item()\n",
    "if current_total_counts > 1e-9: # Avoid division by zero if ideal projections are all zero\n",
    "    scaling_factor = total_counts_target / current_total_counts\n",
    "    projections_for_noise = projections_spect * scaling_factor\n",
    "    noisy_projections_spect = torch.poisson(torch.relu(projections_for_noise)) # Ensure non-negative mean for Poisson\n",
    "    print(f\"Generated noisy projections. Original sum: {current_total_counts:.2e}, Target sum for noise: {total_counts_target:.2e}, Noisy sum: {torch.sum(noisy_projections_spect).item():.2e}\")\n",
    "    \n",
    "    plt.figure(figsize=(7,5))\n",
    "    plt.imshow(noisy_projections_spect.cpu().numpy(), cmap='hot', aspect='auto')\n",
    "    plt.title(\"Noisy SPECT Projections (Poisson)\")\n",
    "    plt.xlabel(\"Detector Bin\")\n",
    "    plt.ylabel(\"Angle Index\")\n",
    "    plt.colorbar(label=\"Counts\")\n",
    "    plt.show()\n",
    "    projections_to_reconstruct = noisy_projections_spect\n",
    "else:\n",
    "    print(\"Skipping noise simulation as ideal projections are zero or near zero.\")\n",
    "    projections_to_reconstruct = projections_spect # Use ideal if it was all zeros\n"
   ]
  },
  {
   "cell_type": "markdown",
   "metadata": {},
   "source": [
    "## 4. FBP Reconstruction\n",
    "Filtered Back-Projection (FBP) is a common analytical reconstruction method."
   ]
  },
  {
   "cell_type": "code",
   "execution_count": null,
   "metadata": {},
   "outputs": [],
   "source": [
    "fbp_reconstructor = SPECTFBPReconstructor(image_shape=img_s_spect, device=dev)\n",
    "\n",
    "reconstructed_fbp = fbp_reconstructor.reconstruct(\n",
    "    projections_to_reconstruct, # Use the (potentially noisy) projections\n",
    "    angles_spect,\n",
    "    filter_cutoff=0.8, # Example: Cutoff at 80% of Nyquist\n",
    "    filter_window='hann' \n",
    ")\n",
    "print(f\"FBP reconstructed image shape: {reconstructed_fbp.shape}\")\n",
    "\n",
    "plt.figure(figsize=(6,6))\n",
    "plt.imshow(reconstructed_fbp.cpu().numpy(), cmap='hot')\n",
    "plt.title(f\"SPECT FBP Reconstruction (Cutoff: 0.8, Window: Hann)\")\n",
    "plt.xlabel(\"X-pixel\"); plt.ylabel(\"Y-pixel\")\n",
    "plt.colorbar(label=\"Reconstructed Activity\")\n",
    "plt.show()"
   ]
  },
  {
   "cell_type": "markdown",
   "metadata": {},
   "source": [
    "## 5. OSEM Reconstruction\n",
    "Ordered Subsets Expectation Maximization (OSEM) is an iterative algorithm often used in SPECT and PET."
   ]
  },
  {
   "cell_type": "code",
   "execution_count": null,
   "metadata": {},
   "outputs": [],
   "source": [
    "# Initial estimate for OSEM\n",
    "initial_estimate_osem = spect_projector.op_adj(projections_to_reconstruct) # Using simple backprojection as initial guess\n",
    "initial_estimate_osem = torch.clamp(initial_estimate_osem, min=1e-6) # Ensure positivity and non-zero for stability\n",
    "# Normalize initial estimate to have a reasonable scale if needed\n",
    "if torch.max(initial_estimate_osem).item() > 1e-9:\n",
    "    initial_estimate_osem = initial_estimate_osem / torch.max(initial_estimate_osem).item() * torch.max(activity_phantom).item() \n",
    "else: # If adjoint is all zero (e.g. zero sinogram), start with ones\n",
    "    initial_estimate_osem = torch.ones(img_s_spect, device=dev, dtype=torch.float32)\n",
    "\n",
    "num_osem_iterations = 20 \n",
    "num_osem_subsets = 6 # 60 angles / 6 subsets = 10 angles per subset\n",
    "\n",
    "osem_reconstructor = SPECTOSEMReconstructor(\n",
    "    image_shape=img_s_spect,\n",
    "    iterations=num_osem_iterations,\n",
    "    num_subsets=num_osem_subsets,\n",
    "    # initial_estimate can be set here, or overridden in reconstruct method\n",
    "    positivity_constraint=True,\n",
    "    device=dev,\n",
    "    verbose=True\n",
    ")\n",
    "\n",
    "reconstructed_osem = osem_reconstructor.reconstruct(\n",
    "    projections_to_reconstruct, # Use the (potentially noisy) projections\n",
    "    spect_projector, # The same projector used for simulation\n",
    "    initial_estimate_override=initial_estimate_osem.clone() \n",
    ")\n",
    "print(f\"OSEM reconstructed image shape: {reconstructed_osem.shape}\")\n",
    "\n",
    "plt.figure(figsize=(6,6))\n",
    "plt.imshow(reconstructed_osem.cpu().numpy(), cmap='hot')\n",
    "plt.title(f\"SPECT OSEM Reconstruction (Iter: {num_osem_iterations}, Subsets: {num_osem_subsets})\")\n",
    "plt.xlabel(\"X-pixel\"); plt.ylabel(\"Y-pixel\")\n",
    "plt.colorbar(label=\"Reconstructed Activity\")\n",
    "plt.show()"
   ]
  },
  {
   "cell_type": "markdown",
   "metadata": {},
   "source": [
    "## 6. Comparison of Results"
   ]
  },
  {
   "cell_type": "code",
   "execution_count": null,
   "metadata": {},
   "outputs": [],
   "source": [
    "fig, axes = plt.subplots(1, 3, figsize=(18, 6))\n",
    "phantom_max_val_plot = activity_phantom.max().item()\n",
    "if phantom_max_val_plot == 0: phantom_max_val_plot = 1.0 # Avoid vmin=vmax if phantom is empty\n",
    "\n",
    "axes[0].imshow(activity_phantom.cpu().numpy(), cmap='hot', vmin=0, vmax=phantom_max_val_plot)\n",
    "axes[0].set_title(\"Original Phantom\")\n",
    "axes[0].axis('off')\n",
    "\n",
    "fbp_plot = reconstructed_fbp.cpu().numpy()\n",
    "fbp_max_val_plot = np.max(fbp_plot) if np.max(fbp_plot) > 1e-9 else 1.0\n",
    "im1 = axes[1].imshow(fbp_plot, cmap='hot', vmin=0, vmax=fbp_max_val_plot)\n",
    "axes[1].set_title(\"FBP Reconstruction\")\n",
    "axes[1].axis('off')\n",
    "fig.colorbar(im1, ax=axes[1], fraction=0.046, pad=0.04)\n",
    "\n",
    "osem_plot = reconstructed_osem.cpu().numpy()\n",
    "osem_max_val_plot = np.max(osem_plot) if np.max(osem_plot) > 1e-9 else 1.0\n",
    "im2 = axes[2].imshow(osem_plot, cmap='hot', vmin=0, vmax=osem_max_val_plot)\n",
    "axes[2].set_title(\"OSEM Reconstruction\")\n",
    "axes[2].axis('off')\n",
    "fig.colorbar(im2, ax=axes[2], fraction=0.046, pad=0.04)\n",
    "            \n",
    "plt.tight_layout()\n",
    "plt.show()"
   ]
  }
 ],
 "metadata": {
  "kernelspec": {
   "display_name": "Python 3 (ipykernel)",
   "language": "python",
   "name": "python3"
  },
  "language_info": {
   "codemirror_mode": {
    "name": "ipython",
    "version": 3
   },
   "file_extension": ".py",
   "mimetype": "text/x-python",
   "name": "python",
   "nbconvert_exporter": "python",
   "pygments_lexer": "ipython3",
   "version": "3.10"
  }
 },
 "nbformat": 4,
 "nbformat_minor": 5
}
