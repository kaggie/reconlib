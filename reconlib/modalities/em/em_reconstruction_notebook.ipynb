{
    "nbformat": 4,
    "nbformat_minor": 5,
    "metadata": {
        "kernelspec": {
            "display_name": "Python 3 (ipykernel)",
            "language": "python",
            "name": "python3"
        },
        "language_info": {
            "codemirror_mode": {"name": "ipython", "version": 3},
            "file_extension": ".py",
            "mimetype": "text/x-python",
            "name": "python",
            "nbconvert_exporter": "python",
            "pygments_lexer": "ipython3"
        }
    },
    "cells": [
        {
            "cell_type": "markdown",
            "metadata": {},
            "source": [
                "# Electron Microscopy (EM) 3D Reconstruction Example\n",
                "This notebook demonstrates basic 3D tomographic reconstruction for Electron Microscopy (EM) from simulated 2D projection data. It uses a simplified forward model (Z-axis rotations and projection) and Total Variation (TV) regularized reconstruction."
            ]
        },
        {
            "cell_type": "markdown",
            "metadata": {},
            "source": [
                "## 1. Imports and Setup"
            ]
        },
        {
            "cell_type": "code",
            "execution_count": null,
            "metadata": {},
            "outputs": [],
            "source": [
                "import torch\n",
                "import numpy as np\n",
                "import matplotlib.pyplot as plt\n",
                "import sys\n",
                "import os\n",
                "\n",
                "# Ensure reconlib is in the Python path\n",
                "if 'reconlib' not in os.getcwd():\n",
                "    sys.path.insert(0, os.path.abspath(os.path.join(os.path.dirname('__file__'), '../../..')))\n",
                "else:\n",
                "    sys.path.insert(0, os.path.abspath(os.path.join(os.path.dirname('__file__'), '..')))\n",
                "\n",
                "from reconlib.modalities.em.operators import EMForwardOperator\n",
                "from reconlib.modalities.em.reconstructors import tv_reconstruction_em\n",
                "# tv_reconstruction_em uses UltrasoundTVCustomRegularizer internally, configured for 3D\n",
                "\n",
                "%matplotlib inline\n",
                "\n",
                "device = torch.device('cuda' if torch.cuda.is_available() else 'cpu')\n",
                "print(f\"Using device: {device}\")"
            ]
        },
        {
            "cell_type": "markdown",
            "metadata": {},
            "source": [
                "## 2. Define EM Tomography Parameters"
            ]
        },
        {
            "cell_type": "code",
            "execution_count": null,
            "metadata": {},
            "outputs": [],
            "source": [
                "# Volume Parameters (D, H, W) - Keep small for notebook speed\n",
                "D, H, W = 32, 32, 32 \n",
                "volume_shape_em = (D, H, W)\n",
                "\n",
                "# Projection Angles (for Z-axis rotation in this simplified model)\n",
                "num_angles = 30  # Number of projections\n",
                "angles_deg = np.linspace(0, 180, num_angles, endpoint=False)\n",
                "angles_rad = torch.tensor(np.deg2rad(angles_deg), dtype=torch.float32, device=device)\n",
                "projection_axis_em = 0 # Project along the Depth axis (after Z-rotation of D,H,W volume)\n",
                "\n",
                "# Reconstruction Parameters\n",
                "lambda_tv_em = 0.005     # TV regularization strength for 3D\n",
                "em_pg_iterations = 20   # Iterations for Proximal Gradient (can be slow for 3D)\n",
                "em_pg_step_size = 0.01  # Step size for Proximal Gradient\n",
                "em_tv_prox_iters = 3    # Inner iterations for the custom TV prox (keep low for 3D speed)\n",
                "em_tv_prox_step = 0.01 # Inner step size for custom TV prox"
            ]
        },
        {
            "cell_type": "markdown",
            "metadata": {},
            "source": [
                "## 3. Create 3D EM Phantom (Density Volume)"
            ]
        },
        {
            "cell_type": "code",
            "execution_count": null,
            "metadata": {},
            "outputs": [],
            "source": [
                "def generate_3d_phantom(shape, device='cpu'):\n",
                "    # shape: (D, H, W)\n",
                "    phantom = torch.zeros(shape, dtype=torch.float32, device=device)\n",
                "    D, H, W = shape\n",
                "    \n",
                "    # Simple cube in the center\n",
                "    d1, d2 = D//4, D*3//4\n",
                "    h1, h2 = H//4, H*3//4\n",
                "    w1, w2 = W//4, W*3//4\n",
                "    phantom[d1:d2, h1:h2, w1:w2] = 1.0\n",
                "    \n",
                "    # Smaller sphere/cube off-center\n",
                "    ds1, ds2 = D//2 + D//8, D//2 + D//4\n",
                "    hs1, hs2 = H//2 + H//8, H//2 + H//4\n",
                "    ws1, ws2 = W//2 + W//8, W//2 + W//4\n",
                "    phantom[ds1:ds2, hs1:hs2, ws1:ws2] = 0.7\n",
                "    return phantom.to(torch.complex64) # Operator expects complex\n",
                "\n",
                "em_phantom = generate_3d_phantom(volume_shape_em, device=device)\n",
                "\n",
                "# Visualize a central slice of the 3D phantom\n",
                "plt.figure(figsize=(6,5))\n",
                "plt.imshow(torch.abs(em_phantom[D//2, :, :]).cpu().numpy(), cmap='gray')\n",
                "plt.title(f'Original EM Phantom (Central D-slice {D//2})')\n",
                "plt.xlabel('X-pixels'); plt.ylabel('Y-pixels')\n",
                "plt.colorbar(label='Density')\n",
                "plt.show()"
            ]
        },
        {
            "cell_type": "markdown",
            "metadata": {},
            "source": [
                "## 4. Initialize EM Forward Operator"
            ]
        },
        {
            "cell_type": "code",
            "execution_count": null,
            "metadata": {},
            "outputs": [],
            "source": [
                "em_operator_inst = EMForwardOperator(\n",
                "    volume_shape=volume_shape_em,\n",
                "    angles_rad=angles_rad,\n",
                "    projection_axis=projection_axis_em,\n",
                "    device=device\n",
                ")\n",
                "print(\"EMForwardOperator initialized.\")"
            ]
        },
        {
            "cell_type": "markdown",
            "metadata": {},
            "source": [
                "## 5. Simulate 2D Projection Data"
            ]
        },
        {
            "cell_type": "code",
            "execution_count": null,
            "metadata": {},
            "outputs": [],
            "source": [
                "print(\"Simulating EM 2D projections... This might take a moment for 3D data.\")\n",
                "em_projections_clean = em_operator_inst.op(em_phantom)\n",
                "print(f\"Simulated clean projections shape: {em_projections_clean.shape}\")\n",
                "\n",
                "# Add complex Gaussian noise\n",
                "signal_power_em = torch.mean(torch.abs(em_projections_clean)**2)\n",
                "noise_power_ratio_em = 0.1 # 10% noise relative to signal power\n",
                "noise_std_em = torch.sqrt(signal_power_em * noise_power_ratio_em / 2)\n",
                "noise_em = noise_std_em * (torch.randn_like(em_projections_clean.real) + 1j * torch.randn_like(em_projections_clean.imag))\n",
                "em_projections_noisy = em_projections_clean + noise_em\n",
                "print(f\"Added complex Gaussian noise. Noise STD: {noise_std_em.item()}\")\n",
                "\n",
                "# Visualize a few sample projections\n",
                "fig, axes = plt.subplots(1, 3, figsize=(15, 5))\n",
                "angles_to_show_indices = [0, num_angles // 2, num_angles -1]\n",
                "for i, proj_idx in enumerate(angles_to_show_indices):\n",
                "    ax = axes[i]\n",
                "    im = ax.imshow(torch.abs(em_projections_noisy[proj_idx]).cpu().numpy(), cmap='gray', aspect='auto')\n",
                "    ax.set_title(f'Noisy Projection (Angle {angles_deg[proj_idx]:.1f}$^\circ$)')\n",
                "    ax.set_xlabel('X-pixels'); ax.set_ylabel('Y-pixels')\n",
                "    fig.colorbar(im, ax=ax, shrink=0.8)\n",
                "plt.tight_layout()\n",
                "plt.show()"
            ]
        },
        {
            "cell_type": "markdown",
            "metadata": {},
            "source": [
                "## 6. 3D Volume Reconstruction"
            ]
        },
        {
            "cell_type": "markdown",
            "metadata": {},
            "source": [
                "### 6.1 Adjoint Reconstruction (Simple Backprojection)"
            ]
        },
        {
            "cell_type": "code",
            "execution_count": null,
            "metadata": {},
            "outputs": [],
            "source": [
                "print(\"Performing Adjoint (Backprojection) reconstruction...\")\n",
                "em_adjoint_recon_vol = em_operator_inst.op_adj(em_projections_noisy)\n",
                "print(f\"Adjoint reconstructed volume shape: {em_adjoint_recon_vol.shape}\")\n",
                "\n",
                "plt.figure(figsize=(6,5))\n",
                "plt.imshow(torch.abs(em_adjoint_recon_vol[D//2, :, :]).cpu().numpy(), cmap='gray')\n",
                "plt.title(f'Adjoint EM Recon (Central D-slice {D//2})')\n",
                "plt.xlabel('X-pixels'); plt.ylabel('Y-pixels')\n",
                "plt.colorbar(label='Density')\n",
                "plt.show()"
            ]
        },
        {
            "cell_type": "markdown",
            "metadata": {},
            "source": [
                "### 6.2 TV Regularized 3D Reconstruction"
            ]
        },
        {
            "cell_type": "code",
            "execution_count": null,
            "metadata": {},
            "outputs": [],
            "source": [
                "print(f\"Performing TV Regularized 3D EM Reconstruction (lambda_TV={lambda_tv_em})...VERY SLOW!\")\n",
                "\n",
                "em_tv_recon_volume = tv_reconstruction_em(\n",
                "    y_projections=em_projections_noisy,\n",
                "    em_operator=em_operator_inst,\n",
                "    lambda_tv=lambda_tv_em,\n",
                "    iterations=em_pg_iterations,\n",
                "    step_size=em_pg_step_size,\n",
                "    tv_prox_iterations=em_tv_prox_iters,\n",
                "    tv_prox_step_size=em_tv_prox_step,\n",
                "    verbose=True\n",
                ")\n",
                "print(f\"TV Reconstructed EM volume shape: {em_tv_recon_volume.shape}\")\n",
                "\n",
                "plt.figure(figsize=(6,5))\n",
                "plt.imshow(torch.abs(em_tv_recon_volume[D//2, :, :]).cpu().numpy(), cmap='gray')\n",
                "plt.title(f'TV EM Recon (Central D-slice {D//2}, lambda={lambda_tv_em})')\n",
                "plt.xlabel('X-pixels'); plt.ylabel('Y-pixels')\n",
                "plt.colorbar(label='Density')\n",
                "plt.show()"
            ]
        },
        {
            "cell_type": "markdown",
            "metadata": {},
            "source": [
                "## 7. Comparison of Results (Central Slices)"
            ]
        },
        {
            "cell_type": "code",
            "execution_count": null,
            "metadata": {},
            "outputs": [],
            "source": [
                "fig, axes = plt.subplots(1, 3, figsize=(18, 6))\n",
                "fig.suptitle(f'EM Reconstruction Comparison (Central D-slice {D//2})', fontsize=16)\n",
                "\n",
                "im0 = axes[0].imshow(torch.abs(em_phantom[D//2, :, :]).cpu().numpy(), cmap='gray')\n",
                "axes[0].set_title('Original Phantom')\n",
                "axes[0].set_xlabel('X-pixels'); axes[0].set_ylabel('Y-pixels')\n",
                "fig.colorbar(im0, ax=axes[0], shrink=0.7)\n",
                "\n",
                "im1 = axes[1].imshow(torch.abs(em_adjoint_recon_vol[D//2, :, :]).cpu().numpy(), cmap='gray')\n",
                "axes[1].set_title('Adjoint (Backprojection) Recon')\n",
                "axes[1].set_xlabel('X-pixels'); axes[1].set_ylabel('Y-pixels')\n",
                "fig.colorbar(im1, ax=axes[1], shrink=0.7)\n",
                "\n",
                "im2 = axes[2].imshow(torch.abs(em_tv_recon_volume[D//2, :, :]).cpu().numpy(), cmap='gray')\n",
                "axes[2].set_title(f'TV Regularized Recon (lambda={lambda_tv_em})')\n",
                "axes[2].set_xlabel('X-pixels'); axes[2].set_ylabel('Y-pixels')\n",
                "fig.colorbar(im2, ax=axes[2], shrink=0.7)\n",
                "\n",
                "plt.tight_layout(rect=[0, 0, 1, 0.95])\n",
                "plt.show()"
            ]
        }
    ]
}
