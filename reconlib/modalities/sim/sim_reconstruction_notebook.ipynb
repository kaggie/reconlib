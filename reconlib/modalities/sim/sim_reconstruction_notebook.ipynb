{
 "cells": [
  {
   "cell_type": "markdown",
   "metadata": {},
   "source": [
    "# Structured Illumination Microscopy (SIM) Reconstruction Demo\n",
    "This notebook demonstrates a basic pipeline for simulating Structured Illumination Microscopy (SIM) data and applying a placeholder reconstruction.\n",
    "1. A high-resolution phantom image is created.\n",
    "2. Sinusoidal illumination patterns are generated with varying angles and phases.\n",
    "3. The `SIMOperator` simulates the acquisition of raw SIM images by: \n",
    "    a. Modulating the HR phantom with each pattern. \n",
    "    b. Convolving the result with a detection PSF (simulating optical blurring).\n",
    "4. Noise is added to the raw SIM images.\n",
    "5. A placeholder `fourier_domain_sim_reconstruction` is called. \n",
    "**Note:** This notebook uses refined operators and utilities, but the reconstruction step is still highly simplified and does **not** perform true SIM super-resolution. It illustrates the data flow and component interactions."
   ]
  },
  {
   "cell_type": "code",
   "execution_count": null,
   "metadata": {},
   "outputs": [],
   "source": [
    "import torch\n",
    "import numpy as np\n",
    "import matplotlib.pyplot as plt\n",
    "import sys\n",
    "# sys.path.append('../../../') # Adjust as needed if reconlib is not in PYTHONPATH\n",
    "\n",
    "try:\n",
    "    from reconlib.modalities.sim.operators import SIMOperator\n",
    "    from reconlib.modalities.sim.reconstructors import fourier_domain_sim_reconstruction\n",
    "    from reconlib.modalities.sim.utils import generate_sim_phantom_hr, generate_sim_patterns, plot_sim_results\n",
    "    from reconlib.modalities.fluorescence_microscopy.operators import generate_gaussian_psf # For detection PSF\n",
    "except ImportError as e:\n",
    "    print(f\"ImportError: {e}. Ensure reconlib is installed or PYTHONPATH is set correctly.\")\n",
    "    # Add local path for direct script running if needed for dev\n",
    "    # from pathlib import Path\n",
    "    # base_path = Path('.').resolve().parent.parent.parent # Adjust based on notebook location\n",
    "    # sys.path.append(str(base_path))\n",
    "    # from reconlib.modalities.sim.operators import SIMOperator # ... and so on\n",
    "\n",
    "device = torch.device('cuda' if torch.cuda.is_available() else 'cpu')\n",
    "print(f\"Using device: {device}\")"
   ]
  },
  {
   "cell_type": "markdown",
   "metadata": {},
   "source": [
    "## 1. Setup Parameters, Phantom, Patterns, and Detection PSF"
   ]
  },
  {
   "cell_type": "code",
   "execution_count": null,
   "metadata": {},
   "outputs": [],
   "source": [
    "hr_image_shape = (128, 128)      # High-resolution grid for the true object\n",
    "num_angles = 3                   # Number of illumination pattern angles (e.g., 0, 60, 120 degrees)\n",
    "num_phases = 3                   # Number of phases per angle (e.g., 0, 2pi/3, 4pi/3)\n",
    "num_total_patterns = num_angles * num_phases\n",
    "\n",
    "# Illumination pattern parameters\n",
    "sim_pattern_k_max_rel = 0.8      # Spatial frequency of illumination relative to HR Nyquist (0.0 to ~1.0)\n",
    "sim_pattern_mod_depth = 0.9      # Modulation depth of sinusoidal patterns (0.0 to 1.0)\n",
    "\n",
    "# Generate high-resolution ground truth phantom with fine details\n",
    "true_hr_image = generate_sim_phantom_hr(hr_image_shape, num_details=25, detail_type='mixed', device=device)\n",
    "\n",
    "# Generate SIM illumination patterns using the refined utility\n",
    "sim_patterns = generate_sim_patterns(\n",
    "    hr_image_shape,\n",
    "    num_angles=num_angles,\n",
    "    num_phases=num_phases, \n",
    "    k_vector_max_rel=sim_pattern_k_max_rel, \n",
    "    modulation_depth=sim_pattern_mod_depth,\n",
    "    device=device\n",
    ")\n",
    "\n",
    "# Generate a detection PSF (microscope's blurring effect)\n",
    "psf_detection_shape = (15, 15) # Must be smaller than image for meaningful convolution\n",
    "psf_detection_sigma = 2.0      # Sigma for Gaussian PSF (causes noticeable blurring)\n",
    "detection_psf = generate_gaussian_psf(shape=psf_detection_shape, sigma=psf_detection_sigma, device=device)\n",
    "\n",
    "print(f\"True HR image shape: {true_hr_image.shape}\")\n",
    "print(f\"Generated SIM patterns stack shape: {sim_patterns.shape}\")\n",
    "print(f\"Detection PSF shape: {detection_psf.shape}\")\n",
    "\n",
    "# Visualize some components\n",
    "fig, axes = plt.subplots(1, 4, figsize=(16, 4))\n",
    "axes[0].imshow(true_hr_image.cpu().numpy(), cmap='gray'); axes[0].set_title('True HR Image')\n",
    "axes[1].imshow(sim_patterns[0].cpu().numpy(), cmap='gray'); axes[1].set_title(f'Pattern 0')\n",
    "axes[2].imshow(sim_patterns[num_phases].cpu().numpy(), cmap='gray'); axes[2].set_title(f'Pattern (angle 2, ph 0)')\n",
    "axes[3].imshow(detection_psf.cpu().numpy(), cmap='hot'); axes[3].set_title('Detection PSF')\n",
    "plt.show()"
   ]
  },
  {
   "cell_type": "markdown",
   "metadata": {},
   "source": [
    "## 2. Initialize Refined SIM Operator and Simulate Raw SIM Images\n",
    "We can either pass the generated patterns to the operator or let it generate them internally (if we provide `num_angles`, `num_phases`, etc.). Here, we pass the externally generated ones."
   ]
  },
  {
   "cell_type": "code",
   "execution_count": null,
   "metadata": {},
   "outputs": [],
   "source": [
    "sim_operator = SIMOperator(\n",
    "    hr_image_shape=hr_image_shape,\n",
    "    psf_detection=detection_psf,\n",
    "    patterns=sim_patterns, # Pass the generated patterns\n",
    "    # num_angles, num_phases, pattern_k_max_rel would be used if patterns=None\n",
    "    device=device\n",
    ")\n",
    "\n",
    "# Simulate the stack of raw SIM images by applying the operator\n",
    "raw_sim_images_stack_clean = sim_operator.op(true_hr_image)\n",
    "\n",
    "# Add some Gaussian noise to the raw images\n",
    "snr_db_sim = 25 # Desired Signal-to-Noise Ratio in dB\n",
    "signal_power_sim = torch.mean(raw_sim_images_stack_clean**2)\n",
    "noise_var_sim = signal_power_sim / (10**(snr_db_sim / 10))\n",
    "noise_sim = torch.randn_like(raw_sim_images_stack_clean) * torch.sqrt(noise_var_sim)\n",
    "raw_sim_images_noisy = torch.clamp(raw_sim_images_stack_clean + noise_sim, min=0.0) # Clamp to be non-negative\n",
    "\n",
    "print(f\"Simulated raw SIM image stack shape: {raw_sim_images_noisy.shape}\")\n",
    "\n",
    "# Visualize a few of the simulated raw SIM images\n",
    "num_to_show = min(num_total_patterns, 3)\n",
    "fig, axes = plt.subplots(1, num_to_show, figsize=(num_to_show*4, 4))\n",
    "if num_to_show == 1: axes = [axes] # Make iterable\n",
    "for i in range(num_to_show):\n",
    "    axes[i].imshow(raw_sim_images_noisy[i].cpu().numpy(), cmap='gray')\n",
    "    axes[i].set_title(f'Raw SIM Image {i} (Noisy)')\n",
    "plt.suptitle(f'Simulated Raw SIM Images ({snr_db_sim}dB SNR)')\n",
    "plt.show()"
   ]
  },
  {
   "cell_type": "markdown",
   "metadata": {},
   "source": [
    "## 3. Perform SIM Reconstruction (Placeholder Fourier Domain Method)\n",
    "This uses the `fourier_domain_sim_reconstruction` which is a highly simplified placeholder. It does NOT perform true SIM super-resolution but illustrates the data flow."
   ]
  },
  {
   "cell_type": "code",
   "execution_count": null,
   "metadata": {},
   "outputs": [],
   "source": [
    "# Reconstruction parameters (may need tuning, but results are placeholder quality anyway)\n",
    "wiener_reg_sim = 0.1       # Wiener regularization for the placeholder reconstructor\n",
    "otf_cutoff_sim = 0.9       # OTF relative cutoff for placeholder reconstructor\n",
    "\n",
    "reconstructed_hr_image = fourier_domain_sim_reconstruction(\n",
    "    raw_sim_images_stack=raw_sim_images_noisy,\n",
    "    sim_operator=sim_operator, # Operator provides PSF and pattern info (conceptually)\n",
    "    otf_cutoff_rel=otf_cutoff_sim,\n",
    "    wiener_reg=wiener_reg_sim\n",
    ")\n",
    "\n",
    "print(f\"Reconstructed HR image shape: {reconstructed_hr_image.shape}\")"
   ]
  },
  {
   "cell_type": "markdown",
   "metadata": {},
   "source": [
    "## 4. Display Results"
   ]
  },
  {
   "cell_type": "code",
   "execution_count": null,
   "metadata": {},
   "outputs": [],
   "source": [
    "fig, axes = plt.subplots(1, 3, figsize=(15, 5))\n",
    "\n",
    "axes[0].imshow(true_hr_image.cpu().numpy(), cmap='gray'); \n",
    "axes[0].set_title('True HR Image');\n",
    "\n",
    "# For comparison, show one of the raw (blurred) SIM images\n",
    "axes[1].imshow(raw_sim_images_noisy[0].cpu().numpy(), cmap='gray'); \n",
    "axes[1].set_title('Example Raw SIM Image (Blurred)');\n",
    "\n",
    "axes[2].imshow(reconstructed_hr_image.cpu().numpy(), cmap='gray'); \n",
    "axes[2].set_title('Recon. HR (Placeholder Fourier Method)');\n",
    "\n",
    "for ax in axes: ax.set_xticks([]); ax.set_yticks([])\n",
    "plt.tight_layout()\n",
    "plt.show()\n",
    "\n",
    "# Use the utility plot function (which is also a placeholder for detailed plotting)\n",
    "plot_sim_results(\n",
    "    true_hr_map=true_hr_image,\n",
    "    raw_sim_images=raw_sim_images_noisy,\n",
    "    reconstructed_hr_map=reconstructed_hr_image,\n",
    "    detection_psf=detection_psf,\n",
    "    sim_patterns=sim_patterns,\n",
    "    num_raw_to_show=3,\n",
    "    num_patterns_to_show=0 # Don't show patterns again here\n",
    ")"
   ]
  },
  {
   "cell_type": "markdown",
   "metadata": {},
   "source": [
    "**Important Reminder:** The 'reconstruction' shown above is based on a highly simplified placeholder (`fourier_domain_sim_reconstruction`) and **will not achieve super-resolution**. A proper SIM reconstruction algorithm is significantly more complex, involving careful separation and recombination of frequency components in Fourier space, often with precise estimation of illumination parameters and robust handling of noise. This notebook primarily serves to demonstrate the structure of the `SIMOperator` and the data flow."
   ]
  }
 ],
 "metadata": {
  "kernelspec": {
   "display_name": "Python 3 (ipykernel)",
   "language": "python",
   "name": "python3"
  },
  "language_info": {
   "codemirror_mode": {
    "name": "ipython",
    "version": 3
   },
   "file_extension": ".py",
   "mimetype": "text/x-python",
   "name": "python",
   "nbconvert_exporter": "python",
   "pygments_lexer": "ipython3",
   "version": "3.10" # Or your kernel version
  }
 },
 "nbformat": 4,
 "nbformat_minor": 5
}
