{
 "cells": [
  {
   "cell_type": "markdown",
   "metadata": {},
   "source": [
    "# X-ray Diffraction Imaging & Phase Retrieval Demo (Placeholder)\n",
    "This notebook demonstrates a *highly simplified* concept related to X-ray Diffraction (XRD) imaging, focusing on the forward model (object to diffraction magnitudes) and a placeholder for phase retrieval.\n",
    "**Important Note:** Real phase retrieval is a complex, iterative process. The `XRayDiffractionOperator` here only models magnitude detection, and the `basic_phase_retrieval_gs` is a toy Gerchberg-Saxton like algorithm."
   ]
  },
  {
   "cell_type": "code",
   "execution_count": null,
   "metadata": {},
   "outputs": [],
   "source": [
    "import torch\n",
    "import numpy as np\n",
    "import matplotlib.pyplot as plt\n",
    "import sys\n",
    "# sys.path.append('../../../') # Adjust as needed\n",
    "\n",
    "from reconlib.modalities.xray_diffraction.operators import XRayDiffractionOperator\n",
    "from reconlib.modalities.xray_diffraction.reconstructors import basic_phase_retrieval_gs\n",
    "from reconlib.modalities.xray_diffraction.utils import generate_xrd_phantom, plot_xrd_results\n",
    "\n",
    "device = torch.device('cuda' if torch.cuda.is_available() else 'cpu')\n",
    "print(f\"Using device: {device}\")"
   ]
  },
  {
   "cell_type": "markdown",
   "metadata": {},
   "source": [
    "## 1. Setup Parameters and Phantom (Object)"
   ]
  },
  {
   "cell_type": "code",
   "execution_count": null,
   "metadata": {},
   "outputs": [],
   "source": [
    "image_shape_xrd = (128, 128)      # Real-space object shape\n",
    "\n",
    "# Generate a phantom object (e.g., electron density or transmission function)\n",
    "true_object = generate_xrd_phantom(image_shape_xrd, num_features=1, feature_type='crystal', device=device)\n",
    "\n",
    "plt.figure(figsize=(6,6))\n",
    "plt.imshow(true_object.cpu().numpy(), cmap='gray')\n",
    "plt.title('True Object')\n",
    "plt.colorbar()\n",
    "plt.show()"
   ]
  },
  {
   "cell_type": "markdown",
   "metadata": {},
   "source": [
    "## 2. Initialize Operator and Simulate Diffraction Magnitudes"
   ]
  },
  {
   "cell_type": "code",
   "execution_count": null,
   "metadata": {},
   "outputs": [],
   "source": [
    "xrd_operator = XRayDiffractionOperator(\n",
    "    image_shape=image_shape_xrd,\n",
    "    add_random_phase_to_adjoint=True, # For initial guess in GS if needed\n",
    "    device=device\n",
    ")\n",
    "\n",
    "# Simulate diffraction pattern magnitudes (losing phase)\n",
    "measured_diffraction_magnitudes = xrd_operator.op(true_object)\n",
    "\n",
    "# Add noise (e.g., Poisson noise for photon counting, simplified to Gaussian here)\n",
    "snr_db_xrd = 20 \n",
    "signal_power_xrd = torch.mean(measured_diffraction_magnitudes**2)\n",
    "noise_power_xrd = signal_power_xrd / (10**(snr_db_xrd / 10))\n",
    "noise_xrd = torch.randn_like(measured_diffraction_magnitudes) * torch.sqrt(noise_power_xrd)\n",
    "measured_magnitudes_noisy = torch.clamp(measured_diffraction_magnitudes + noise_xrd, min=0.0)\n",
    "\n",
    "print(f\"Measured diffraction magnitudes shape: {measured_magnitudes_noisy.shape}\")\n",
    "\n",
    "plt.figure(figsize=(7,6))\n",
    "plt.imshow(np.fft.fftshift(torch.log1p(measured_magnitudes_noisy).cpu().numpy()), cmap='viridis')\n",
    "plt.title(f'Simulated Diffraction Magnitudes (log scale, fftshifted, {snr_db_xrd}dB SNR)')\n",
    "plt.colorbar()\n",
    "plt.show()"
   ]
  },
  {
   "cell_type": "markdown",
   "metadata": {},
   "source": [
    "## 3. Perform Placeholder Phase Retrieval (Basic Gerchberg-Saxton like)"
   ]
  },
  {
   "cell_type": "code",
   "execution_count": null,
   "metadata": {},
   "outputs": [],
   "source": [
    "iterations_gs = 100 # More iterations usually needed for phase retrieval\n",
    "\n",
    "# Define a simple real-space constraint (e.g., non-negativity and known support)\n",
    "support = torch.zeros_like(true_object); support[true_object > 0.1] = 1.0 # Estimate support from true for demo\n",
    "def xrd_real_space_constraint(obj_estimate):\n",
    "    obj_constrained = torch.clamp(obj_estimate, min=0.0) # Non-negativity\n",
    "    # obj_constrained = obj_constrained * support # Apply known support (cheating for demo)\n",
    "    return obj_constrained\n",
    "\n",
    "# Initial guess for the object (e.g., random, or from op_adj with random phases)\n",
    "initial_guess = torch.rand(image_shape_xrd, device=device)\n",
    "\n",
    "reconstructed_object = basic_phase_retrieval_gs(\n",
    "    measured_magnitudes=measured_magnitudes_noisy,\n",
    "    xrd_operator=xrd_operator,\n",
    "    iterations=iterations_gs,\n",
    "    initial_object_estimate=initial_guess, # Can be None to use random phase IFT\n",
    "    support_constraint_fn=xrd_real_space_constraint,\n",
    "    verbose=True\n",
    ")\n",
    "print(f\"Reconstructed object shape: {reconstructed_object.shape}\")"
   ]
  },
  {
   "cell_type": "markdown",
   "metadata": {},
   "source": [
    "## 4. Display Results"
   ]
  },
  {
   "cell_type": "code",
   "execution_count": null,
   "metadata": {},
   "outputs": [],
   "source": [
    "fig, axes = plt.subplots(1, 3, figsize=(18, 6))\n",
    "axes[0].imshow(true_object.cpu().numpy(), cmap='gray'); axes[0].set_title('True Object')\n",
    "axes[1].imshow(np.fft.fftshift(torch.log1p(measured_magnitudes_noisy).cpu().numpy()), cmap='viridis'); axes[1].set_title('Measured Magnitudes (log)')\n",
    "axes[2].imshow(reconstructed_object.cpu().numpy(), cmap='gray'); axes[2].set_title(f'Recon. Object (GS-like, {iterations_gs} iters)')\n",
    "plt.show()\n",
    "\n",
    "plot_xrd_results(true_object, measured_magnitudes_noisy, reconstructed_object)"
   ]
  },
  {
   "cell_type": "markdown",
   "metadata": {},
   "source": [
    "**Note:** Phase retrieval is challenging. The quality of reconstruction heavily depends on the algorithm, number of iterations, quality of constraints (e.g., tight support), and SNR. This basic Gerchberg-Saxton like method is illustrative but often insufficient for complex objects or noisy data without careful tuning and more advanced constraints/algorithms."
   ]
  }
 ],
 "metadata": {
  "kernelspec": {
   "display_name": "Python 3",
   "language": "python",
   "name": "python3"
  },
  "language_info": {
   "codemirror_mode": {
    "name": "ipython",
    "version": 3
   },
   "file_extension": ".py",
   "mimetype": "text/x-python",
   "name": "python",
   "nbconvert_exporter": "python",
   "pygments_lexer": "ipython3",
   "version": "3.10"
  }
 },
 "nbformat": 4,
 "nbformat_minor": 5
}
