{
 "cells": [
  {
   "cell_type": "markdown",
   "metadata": {},
   "source": [
    "# Fluorescence Microscopy Deconvolution Demo\n",
    "This notebook demonstrates TV-regularized deconvolution for a simulated fluorescence microscopy image. Deconvolution aims to reverse the blurring effect caused by the microscope's Point Spread Function (PSF).\n",
    "The `FluorescenceMicroscopyOperator` models the blurring as a convolution with a known PSF. The `tv_deconvolution_fm` reconstructor then attempts to recover a sharper image."
   ]
  },
  {
   "cell_type": "code",
   "execution_count": null,
   "metadata": {},
   "outputs": [],
   "source": [
    "import torch\n",
    "import numpy as np\n",
    "import matplotlib.pyplot as plt\n",
    "\n",
    "# Adjust path to import from reconlib \n",
    "import sys\n",
    "# sys.path.append('../../../') # Adjust as needed\n",
    "\n",
    "from reconlib.modalities.fluorescence_microscopy.operators import FluorescenceMicroscopyOperator, generate_gaussian_psf\n",
    "from reconlib.modalities.fluorescence_microscopy.reconstructors import tv_deconvolution_fm\n",
    "from reconlib.modalities.fluorescence_microscopy.utils import generate_fluorescence_phantom, plot_fm_results\n",
    "\n",
    "print(f\"PyTorch version: {torch.__version__}\")\n",
    "device = torch.device('cuda' if torch.cuda.is_available() else 'cpu')\n",
    "print(f\"Using device: {device}\")"
   ]
  },
  {
   "cell_type": "markdown",
   "metadata": {},
   "source": [
    "## 1. Setup Parameters, Phantom, and PSF\n",
    "We'll work with a 2D example first."
   ]
  },
  {
   "cell_type": "code",
   "execution_count": null,
   "metadata": {},
   "outputs": [],
   "source": [
    "image_shape_fm = (128, 128)      # (Ny, Nx) for the fluorescence image\n",
    "is_3d_example = False # Set to True for a 3D deconvolution example\n",
    "if is_3d_example:\n",
    "    image_shape_fm = (64, 64, 32) # (Nz, Ny, Nx)\n",
    "\n",
    "# Generate a phantom (true fluorescence distribution)\n",
    "phantom_structure = 'cells' # 'cells' or 'filaments'\n",
    "true_fluorescence_map = generate_fluorescence_phantom(\n",
    "    image_shape=image_shape_fm, \n",
    "    num_structures=5 if not is_3d_example else 10,\n",
    "    structure_type=phantom_structure,\n",
    "    device=device\n",
    ")\n",
    "\n",
    "# Generate a Point Spread Function (PSF) - e.g., Gaussian\n",
    "psf_shape = (11, 11) if not is_3d_example else (7, 7, 7) # Must be smaller than image\n",
    "psf_sigma = 1.5 if not is_3d_example else (1.2, 1.2, 1.8) # Sigma for Gaussian PSF\n",
    "psf = generate_gaussian_psf(shape=psf_shape, sigma=psf_sigma, device=device)\n",
    "\n",
    "print(f\"True map shape: {true_fluorescence_map.shape}, PSF shape: {psf.shape}\")\n",
    "\n",
    "# Display phantom and PSF (center slice if 3D)\n",
    "fig, axes = plt.subplots(1, 2, figsize=(10, 5))\n",
    "true_display = true_fluorescence_map.cpu().numpy()\n",
    "psf_display = psf.cpu().numpy()\n",
    "if is_3d_example:\n",
    "    true_display = true_display[true_display.shape[0]//2, :,:]\n",
    "    psf_display = psf_display[psf_display.shape[0]//2, :,:]\n",
    "    axes[0].set_title(f'True Fluorescence (Z-slice {true_fluorescence_map.shape[0]//2})')\n",
    "    axes[1].set_title(f'PSF (Z-slice {psf.shape[0]//2})')\n",
    "else:\n",
    "    axes[0].set_title('True Fluorescence Map')\n",
    "    axes[1].set_title('Point Spread Function (PSF)')\n",
    "\n",
    "im1 = axes[0].imshow(true_display, cmap='viridis')\n",
    "fig.colorbar(im1, ax=axes[0], fraction=0.046, pad=0.04)\n",
    "im2 = axes[1].imshow(psf_display, cmap='viridis')\n",
    "fig.colorbar(im2, ax=axes[1], fraction=0.046, pad=0.04)\n",
    "plt.show()"
   ]
  },
  {
   "cell_type": "markdown",
   "metadata": {},
   "source": [
    "## 2. Initialize Operator and Simulate Observed (Blurred) Image"
   ]
  },
  {
   "cell_type": "code",
   "execution_count": null,
   "metadata": {},
   "outputs": [],
   "source": [
    "fm_operator = FluorescenceMicroscopyOperator(\n",
    "    image_shape=image_shape_fm,\n",
    "    psf=psf,\n",
    "    device=device\n",
    ")\n",
    "\n",
    "# Simulate the observed (blurred) image: Y = PSF * X \n",
    "observed_blurred_image = fm_operator.op(true_fluorescence_map)\n",
    "\n",
    "# Add some noise (e.g., Gaussian + Poisson, simplified to Gaussian here)\n",
    "snr_db_fm = 30 # Signal-to-Noise Ratio in dB\n",
    "signal_power_fm = torch.mean(observed_blurred_image**2)\n",
    "noise_power_fm = signal_power_fm / (10**(snr_db_fm / 10))\n",
    "noise_fm = torch.randn_like(observed_blurred_image) * torch.sqrt(noise_power_fm)\n",
    "observed_image_noisy = observed_blurred_image + noise_fm\n",
    "# Ensure non-negativity, common for fluorescence images\n",
    "observed_image_noisy = torch.clamp(observed_image_noisy, min=0.0)\n",
    "\n",
    "print(f\"Observed (blurred & noisy) image shape: {observed_image_noisy.shape}\")\n",
    "\n",
    "plt.figure(figsize=(6,6))\n",
    "obs_display = observed_image_noisy.cpu().numpy()\n",
    "if is_3d_example:\n",
    "    obs_display = obs_display[obs_display.shape[0]//2, :,:]\n",
    "    plt.title(f'Observed Image (Z-slice, {snr_db_fm}dB SNR)')\n",
    "else:\n",
    "    plt.title(f'Observed Image ({snr_db_fm}dB SNR)')\n",
    "plt.imshow(obs_display, cmap='viridis')\n",
    "plt.colorbar(label='Intensity')\n",
    "plt.show()"
   ]
  },
  {
   "cell_type": "markdown",
   "metadata": {},
   "source": [
    "## 3. Perform TV-Regularized Deconvolution"
   ]
  },
  {
   "cell_type": "code",
   "execution_count": null,
   "metadata": {},
   "outputs": [],
   "source": [
    "lambda_tv_fm = 0.002     # TV regularization strength (CRITICAL - needs tuning!)\n",
    "iterations_fm = 50       # Number of proximal gradient iterations \n",
    "step_size_fm = 0.01      # Step size for proximal gradient (CRITICAL!)\n",
    "tv_prox_iters_fm = 5     # Iterations for TV prox\n",
    "\n",
    "deconvolved_map = tv_deconvolution_fm(\n",
    "    y_observed_image=observed_image_noisy,\n",
    "    fm_operator=fm_operator,\n",
    "    lambda_tv=lambda_tv_fm,\n",
    "    iterations=iterations_fm,\n",
    "    step_size=step_size_fm,\n",
    "    tv_prox_iterations=tv_prox_iters_fm,\n",
    "    verbose=True\n",
    ")\n",
    "\n",
    "print(f\"Deconvolved map shape: {deconvolved_map.shape}\")"
   ]
  },
  {
   "cell_type": "markdown",
   "metadata": {},
   "source": [
    "## 4. Display Results"
   ]
  },
  {
   "cell_type": "code",
   "execution_count": null,
   "metadata": {},
   "outputs": [],
   "source": [
    "fig, axes = plt.subplots(1, 3, figsize=(18, 6))\n",
    "titles = ['True Fluorescence', 'Observed (Blurred & Noisy)', f'Deconvolved (TV, {iterations_fm} iters)']\n",
    "maps_to_display = [true_fluorescence_map, observed_image_noisy, deconvolved_map]\n",
    "\n",
    "for i, data_map in enumerate(maps_to_display):\n",
    "    display_slice = data_map.cpu().numpy()\n",
    "    slice_label = ''\n",
    "    if is_3d_example:\n",
    "        slice_num = data_map.shape[0]//2\n",
    "        display_slice = display_slice[slice_num,:,:]\n",
    "        slice_label = f' (Z-slice {slice_num})'\n",
    "    \n",
    "    im = axes[i].imshow(display_slice, cmap='viridis', vmin=0, vmax=true_fluorescence_map.max().cpu().item()) # Consistent scaling\n",
    "    axes[i].set_title(titles[i] + slice_label)\n",
    "    axes[i].set_xlabel('X'); axes[i].set_ylabel('Y')\n",
    "    fig.colorbar(im, ax=axes[i], fraction=0.046, pad=0.04)\n",
    "\n",
    "plt.tight_layout()\n",
    "plt.show()\n",
    "\n",
    "# Using the utility plot function (currently a placeholder for detailed plotting)\n",
    "plot_fm_results(\n",
    "    true_map=true_fluorescence_map,\n",
    "    observed_map=observed_image_noisy,\n",
    "    deconvolved_map=deconvolved_map,\n",
    "    slice_idx=image_shape_fm[0]//2 if is_3d_example else None\n",
    ")"
   ]
  },
  {
   "cell_type": "markdown",
   "metadata": {},
   "source": [
    "## 5. Further Considerations for Fluorescence Deconvolution\n",
    "1.  **PSF Estimation**: Accurate knowledge of the PSF is crucial. If the PSF is unknown or varies spatially, blind deconvolution or PSF estimation techniques might be needed.\n",
    "2.  **Noise Model**: Fluorescence microscopy data often follows Poisson or mixed Poisson-Gaussian statistics, especially in low-light conditions. Using a data fidelity term matched to the noise model (instead of the implicit L2 norm in this PGD) can improve results (e.g., Richardson-Lucy uses Poisson likelihood).\n",
    "3.  **Regularization**: TV is a common choice. Other regularizers (e.g., Tikhonov, sparsity in wavelet domain) or more advanced methods like deep learning based deconvolution can also be used.\n",
    "4.  **Parameter Tuning**: `lambda_tv` and `step_size` are highly sensitive. Incorrect values can lead to overly smooth or noisy results, or slow/no convergence.\n",
    "5.  **Non-Negativity**: Fluorescence intensity is non-negative. While TV regularization and some initial estimates might preserve this, explicit non-negativity constraints can be beneficial if not inherently handled."
   ]
  }
 ],
 "metadata": {
  "kernelspec": {
   "display_name": "Python 3 (ipykernel)",
   "language": "python",
   "name": "python3"
  },
  "language_info": {
   "codemirror_mode": {
    "name": "ipython",
    "version": 3
   },
   "file_extension": ".py",
   "mimetype": "text/x-python",
   "name": "python",
   "nbconvert_exporter": "python",
   "pygments_lexer": "ipython3",
   "version": "3.9.12"
  }
 },
 "nbformat": 4,
 "nbformat_minor": 5
}
