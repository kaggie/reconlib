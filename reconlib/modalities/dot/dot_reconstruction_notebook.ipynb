{
 "cells": [
  {
   "cell_type": "markdown",
   "metadata": {},
   "source": [
    "# Diffuse Optical Tomography (DOT) Reconstruction Demo (Placeholder)\n",
    "This notebook demonstrates a *highly simplified* reconstruction for DOT using a linearized model (sensitivity matrix `J`).\n",
    "**Important Note:** Real DOT is a non-linear, highly ill-posed inverse problem. The sensitivity matrix `J` used here is a random placeholder. Accurate DOT requires sophisticated forward modeling (e.g., solving the Diffusion Equation with FEM) to compute `J` or to solve the non-linear problem iteratively, along with robust regularization."
   ]
  },
  {
   "cell_type": "code",
   "execution_count": null,
   "metadata": {},
   "outputs": [],
   "source": [
    "import torch\n",
    "import numpy as np\n",
    "import matplotlib.pyplot as plt\n",
    "import sys\n",
    "# sys.path.append('../../../') # Adjust as needed\n",
    "\n",
    "from reconlib.modalities.dot.operators import DOTOperator\n",
    "from reconlib.modalities.dot.reconstructors import tv_reconstruction_dot\n",
    "from reconlib.modalities.dot.utils import generate_dot_phantom_delta_mu, plot_dot_results\n",
    "\n",
    "device = torch.device('cuda' if torch.cuda.is_available() else 'cpu')\n",
    "print(f\"Using device: {device}\")"
   ]
  },
  {
   "cell_type": "markdown",
   "metadata": {},
   "source": [
    "## 1. Setup Parameters and Phantom (Optical Property Change Map)"
   ]
  },
  {
   "cell_type": "code",
   "execution_count": null,
   "metadata": {},
   "outputs": [],
   "source": [
    "image_shape_dot = (32, 32)      # Optical property map shape (delta_mu_a or delta_mu_s')\n",
    "num_measurements_dot = 64       # Number of boundary measurements (source-detector pairs)\n",
    "\n",
    "# Generate a phantom representing changes in an optical property (e.g., delta_mu_a)\n",
    "true_delta_mu = generate_dot_phantom_delta_mu(image_shape_dot, num_anomalies=2, device=device)\n",
    "\n",
    "plt.figure(figsize=(6,6))\n",
    "plt.imshow(true_delta_mu.cpu().numpy(), cmap='seismic', vmin=-0.05, vmax=0.05)\n",
    "plt.title('True Optical Property Change Map ($\Delta\mu$)')\n",
    "plt.xlabel('X'); plt.ylabel('Y')\n",
    "plt.colorbar(label='Property Change (e.g., $\Delta\mu_a$ in mm$^{-1}$)')\n",
    "plt.show()"
   ]
  },
  {
   "cell_type": "markdown",
   "metadata": {},
   "source": [
    "## 2. Initialize DOT Operator and Simulate Measurements\n",
    "The DOTOperator uses a random placeholder for the sensitivity matrix `J`."
   ]
  },
  {
   "cell_type": "code",
   "execution_count": null,
   "metadata": {},
   "outputs": [],
   "source": [
    "dot_operator = DOTOperator(\n",
    "    image_shape=image_shape_dot,\n",
    "    num_measurements=num_measurements_dot,\n",
    "    device=device\n",
    ")\n",
    "\n",
    "# Simulate boundary measurement changes: delta_y = J @ delta_mu_flat\n",
    "delta_y_measured = dot_operator.op(true_delta_mu)\n",
    "\n",
    "# Add noise\n",
    "snr_db_dot = 20 \n",
    "signal_power_dot = torch.mean(delta_y_measured**2)\n",
    "noise_power_dot = signal_power_dot / (10**(snr_db_dot / 10))\n",
    "noise_dot = torch.randn_like(delta_y_measured) * torch.sqrt(noise_power_dot)\n",
    "delta_y_noisy = delta_y_measured + noise_dot\n",
    "\n",
    "print(f\"Simulated delta_y measurements shape: {delta_y_noisy.shape}\")\n",
    "plt.figure(figsize=(8,4))\n",
    "plt.plot(delta_y_noisy.cpu().numpy())\n",
    "plt.title(f'Simulated Boundary Measurement Changes ($\Delta y$, {snr_db_dot}dB SNR)')\n",
    "plt.xlabel('Measurement Index'); plt.ylabel('Change (arbitrary units)')\n",
    "plt.show()"
   ]
  },
  {
   "cell_type": "markdown",
   "metadata": {},
   "source": [
    "## 3. Perform TV-Regularized Reconstruction"
   ]
  },
  {
   "cell_type": "code",
   "execution_count": null,
   "metadata": {},
   "outputs": [],
   "source": [
    "lambda_tv_dot = 1e-5      # TV regularization (DOT is very ill-posed, may need very small lambda)\n",
    "iterations_dot = 75       # Iterations\n",
    "step_size_dot = 0.5       # Step size (can be sensitive with random J)\n",
    "\n",
    "reconstructed_delta_mu = tv_reconstruction_dot(\n",
    "    y_delta_measurements=delta_y_noisy,\n",
    "    dot_operator=dot_operator,\n",
    "    lambda_tv=lambda_tv_dot,\n",
    "    iterations=iterations_dot,\n",
    "    step_size=step_size_dot,\n",
    "    verbose=True\n",
    ")\n",
    "print(f\"Reconstructed delta_mu map shape: {reconstructed_delta_mu.shape}\")"
   ]
  },
  {
   "cell_type": "markdown",
   "metadata": {},
   "source": [
    "## 4. Display Results"
   ]
  },
  {
   "cell_type": "code",
   "execution_count": null,
   "metadata": {},
   "outputs": [],
   "source": [
    "fig, axes = plt.subplots(1, 2, figsize=(12, 6))\n",
    "vmin, vmax = -0.05, 0.05 # Consistent color scale\n",
    "\n",
    "im1 = axes[0].imshow(true_delta_mu.cpu().numpy(), cmap='seismic', vmin=vmin, vmax=vmax)\n",
    "axes[0].set_title('True $\Delta\mu$ Map')\n",
    "fig.colorbar(im1, ax=axes[0])\n",
    "\n",
    "im2 = axes[1].imshow(reconstructed_delta_mu.cpu().numpy(), cmap='seismic', vmin=vmin, vmax=vmax)\n",
    "axes[1].set_title(f'Recon. $\Delta\mu$ (TV {iterations_dot} iters, Random J)')\n",
    "fig.colorbar(im2, ax=axes[1])\n",
    "\n",
    "plt.tight_layout()\n",
    "plt.show()\n",
    "\n",
    "plot_dot_results(true_delta_mu, delta_y_noisy, reconstructed_delta_mu)"
   ]
  },
  {
   "cell_type": "markdown",
   "metadata": {},
   "source": [
    "**Disclaimer:** Due to the use of a random sensitivity matrix `J`, the reconstruction quality here is purely illustrative of the code structure and will not be physically meaningful for DOT. Real DOT reconstruction is highly dependent on an accurate forward model (for `J` or non-linear solve based on light transport) and careful regularization."
   ]
  }
 ],
 "metadata": {
  "kernelspec": {
   "display_name": "Python 3",
   "language": "python",
   "name": "python3"
  },
  "language_info": {
   "codemirror_mode": {
    "name": "ipython",
    "version": 3
   },
   "file_extension": ".py",
   "mimetype": "text/x-python",
   "name": "python",
   "nbconvert_exporter": "python",
   "pygments_lexer": "ipython3",
   "version": "3.10"
  }
 },
 "nbformat": 4,
 "nbformat_minor": 5
}
