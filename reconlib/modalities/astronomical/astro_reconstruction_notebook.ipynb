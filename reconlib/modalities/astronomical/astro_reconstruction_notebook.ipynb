{
    "nbformat": 4,
    "nbformat_minor": 5,
    "metadata": {
        "kernelspec": {
            "display_name": "Python 3 (ipykernel)",
            "language": "python",
            "name": "python3"
        },
        "language_info": {
            "codemirror_mode": {"name": "ipython", "version": 3},
            "file_extension": ".py",
            "mimetype": "text/x-python",
            "name": "python",
            "nbconvert_exporter": "python",
            "pygments_lexer": "ipython3"
        }
    },
    "cells": [
        {
            "cell_type": "markdown",
            "metadata": {},
            "source": [
                "# Astronomical Interferometry Reconstruction Example\n",
                "This notebook demonstrates basic image reconstruction for astronomical interferometry (e.g., radio astronomy). It simulates visibility data from a sky brightness model, then reconstructs the sky image using a direct inversion (dirty image) and a TV-regularized approach."
            ]
        },
        {
            "cell_type": "markdown",
            "metadata": {},
            "source": [
                "## 1. Imports and Setup"
            ]
        },
        {
            "cell_type": "code",
            "execution_count": null,
            "metadata": {},
            "outputs": [],
            "source": [
                "import torch\n",
                "import numpy as np\n",
                "import matplotlib.pyplot as plt\n",
                "import sys\n",
                "import os\n",
                "\n",
                "# Ensure reconlib is in the Python path\n",
                "if 'reconlib' not in os.getcwd():\n",
                "    sys.path.insert(0, os.path.abspath(os.path.join(os.path.dirname('__file__'), '../../..')))\n",
                "else:\n",
                "    sys.path.insert(0, os.path.abspath(os.path.join(os.path.dirname('__file__'), '..')))\n",
                "\n",
                "from reconlib.modalities.astronomical.operators import AstronomicalInterferometryOperator\n",
                "from reconlib.modalities.astronomical.reconstructors import tv_reconstruction_astro\n",
                "# tv_reconstruction_astro uses UltrasoundTVCustomRegularizer by default\n",
                "\n",
                "%matplotlib inline\n",
                "\n",
                "device = torch.device('cuda' if torch.cuda.is_available() else 'cpu')\n",
                "print(f\"Using device: {device}\")"
            ]
        },
        {
            "cell_type": "markdown",
            "metadata": {},
            "source": [
                "## 2. Define Astronomical Observation Parameters"
            ]
        },
        {
            "cell_type": "code",
            "execution_count": null,
            "metadata": {},
            "outputs": [],
            "source": [
                "# Sky Image Parameters\n",
                "Ny, Nx = 128, 128  # Image height (pixels, e.g., Dec) and width (pixels, e.g., RA)\n",
                "image_shape_astro = (Ny, Nx)\n",
                "\n",
                "# (u,v) Coverage / Baselines\n",
                "num_visibilities = 3000  # Number of visibility samples\n",
                "\n",
                "# Simulate some (u,v) coordinates. In reality, these come from telescope array configuration.\n",
                "# For this example, we generate random points in a circular region of k-space.\n",
                "max_uv = min(Nx, Ny) / 2.5 # Max spatial frequency to sample (controls resolution)\n",
                "uv_radius = torch.rand(num_visibilities, device=device) * max_uv\n",
                "uv_angle = torch.rand(num_visibilities, device=device) * 2 * np.pi\n",
                "u_coords = uv_radius * torch.cos(uv_angle)\n",
                "v_coords = uv_radius * torch.sin(uv_angle)\n",
                "uv_coordinates = torch.stack((u_coords, v_coords), dim=1)\n",
                "\n",
                "print(f\"Generated {uv_coordinates.shape[0]} (u,v) sample points.\")\n",
                "plt.figure(figsize=(5,5))\n",
                "plt.scatter(u_coords.cpu().numpy(), v_coords.cpu().numpy(), s=1, alpha=0.5)\n",
                "plt.title('Simulated (u,v) Coverage')\n",
                "plt.xlabel('u (spatial frequency)')\n",
                "plt.ylabel('v (spatial frequency)')\n",
                "plt.axis('square')\n",
                "plt.show()\n",
                "\n",
                "# Reconstruction Parameters\n",
                "lambda_tv_astro = 0.0005    # TV regularization strength (needs careful tuning!)\n",
                "astro_pg_iterations = 75   # Iterations for Proximal Gradient\n",
                "astro_pg_step_size = 0.02  # Step size for Proximal Gradient\n",
                "astro_tv_prox_iters = 5    # Inner iterations for the custom TV prox\n",
                "astro_tv_prox_step = 0.01 # Inner step size for custom TV prox"
            ]
        },
        {
            "cell_type": "markdown",
            "metadata": {},
            "source": [
                "## 3. Create Sky Brightness Phantom"
            ]
        },
        {
            "cell_type": "code",
            "execution_count": null,
            "metadata": {},
            "outputs": [],
            "source": [
                "def generate_sky_phantom(shape, device='cpu'):\n",
                "    # shape: (Ny, Nx)\n",
                "    phantom = torch.zeros(shape, dtype=torch.float32, device=device)\n",
                "    h, w = shape\n",
                "    \n",
                "    # Simulate a few point sources (stars)\n",
                "    phantom[h // 4, w // 4] = 2.0\n",
                "    phantom[h // 2 + 10, w // 2 - 20] = 1.5\n",
                "    phantom[int(h*0.7), int(w*0.65)] = 1.8\n",
                "    \n",
                "    # Simulate a small extended source (galaxy/nebula)\n",
                "    center_y, center_x = h // 1.5, w // 3\n",
                "    radius_y, radius_x = h // 10, w // 12\n",
                "    Y, X = torch.meshgrid(torch.arange(h, device=device), \n",
                "                          torch.arange(w, device=device), indexing='ij')\n",
                "    mask_ellipse = ((X - center_x)/radius_x)**2 + ((Y - center_y)/radius_y)**2 < 1\n",
                "    phantom[mask_ellipse] = 0.8\n",
                "    return phantom.to(torch.complex64) # Operator expects complex\n",
                "\n",
                "sky_phantom = generate_sky_phantom(image_shape_astro, device=device)\n",
                "\n",
                "plt.figure(figsize=(6,6))\n",
                "plt.imshow(torch.abs(sky_phantom).cpu().numpy(), cmap='hot', origin='lower')\n",
                "plt.title('Original Sky Phantom (Brightness)')\n",
                "plt.xlabel('RA direction (pixels)')\n",
                "plt.ylabel('Dec direction (pixels)')\n",
                "plt.colorbar(label='Brightness')\n",
                "plt.show()"
            ]
        },
        {
            "cell_type": "markdown",
            "metadata": {},
            "source": [
                "## 4. Initialize Astronomical Interferometry Operator"
            ]
        },
        {
            "cell_type": "code",
            "execution_count": null,
            "metadata": {},
            "outputs": [],
            "source": [
                "astro_operator_inst = AstronomicalInterferometryOperator(\n",
                "    image_shape=image_shape_astro,\n",
                "    uv_coordinates=uv_coordinates,\n",
                "    device=device\n",
                ")\n",
                "print(\"AstronomicalInterferometryOperator initialized.\")"
            ]
        },
        {
            "cell_type": "markdown",
            "metadata": {},
            "source": [
                "## 5. Simulate Visibility Data"
            ]
        },
        {
            "cell_type": "code",
            "execution_count": null,
            "metadata": {},
            "outputs": [],
            "source": [
                "print(\"Simulating visibility data...\")\n",
                "visibilities_clean = astro_operator_inst.op(sky_phantom)\n",
                "print(f\"Simulated clean visibilities shape: {visibilities_clean.shape}\")\n",
                "\n",
                "# Add complex Gaussian noise (thermal noise in receivers)\n",
                "signal_power_astro = torch.mean(torch.abs(visibilities_clean)**2)\n",
                "noise_power_ratio_astro = 0.1 # 10% noise power relative to signal power\n",
                "noise_std_astro = torch.sqrt(signal_power_astro * noise_power_ratio_astro / 2) # Factor of 2 for complex\n",
                "noise_astro = noise_std_astro * (torch.randn_like(visibilities_clean.real) + 1j * torch.randn_like(visibilities_clean.imag))\n",
                "visibilities_noisy = visibilities_clean + noise_astro\n",
                "print(f\"Added complex Gaussian noise to visibilities. Noise STD: {noise_std_astro.item()}\")"
            ]
        },
        {
            "cell_type": "markdown",
            "metadata": {},
            "source": [
                "## 6. Sky Image Reconstruction"
            ]
        },
        {
            "cell_type": "markdown",
            "metadata": {},
            "source": [
                "### 6.1 Adjoint Reconstruction ('Dirty Image')"
            ]
        },
        {
            "cell_type": "code",
            "execution_count": null,
            "metadata": {},
            "outputs": [],
            "source": [
                "print(\"Performing Adjoint ('Dirty Image') reconstruction...\")\n",
                "astro_dirty_image = astro_operator_inst.op_adj(visibilities_noisy)\n",
                "print(f\"Dirty image shape: {astro_dirty_image.shape}\")\n",
                "\n",
                "plt.figure(figsize=(7,6))\n",
                "# Displaying FFT shifted version of dirty image magnitude for better centering of features\n",
                "dirty_image_display = torch.fft.fftshift(torch.abs(astro_dirty_image)).cpu().numpy()\n",
                "plt.imshow(dirty_image_display, cmap='hot', origin='lower', \n",
                "           vmax=np.percentile(dirty_image_display, 99.5)) # Clip extreme values for viz\n",
                "plt.title('Astronomical Adjoint Recon (Dirty Image Magnitude)')\n",
                "plt.xlabel('RA direction (pixels)')\n",
                "plt.ylabel('Dec direction (pixels)')\n",
                "plt.colorbar(label='Amplitude')\n",
                "plt.show()"
            ]
        },
        {
            "cell_type": "markdown",
            "metadata": {},
            "source": [
                "### 6.2 TV Regularized Reconstruction"
            ]
        },
        {
            "cell_type": "code",
            "execution_count": null,
            "metadata": {},
            "outputs": [],
            "source": [
                "print(f\"Performing TV Regularized Astronomical Reconstruction (lambda_TV={lambda_tv_astro})...This may take some time.\")\n",
                "\n",
                "astro_tv_recon_image = tv_reconstruction_astro(\n",
                "    y_visibilities=visibilities_noisy,\n",
                "    astro_operator=astro_operator_inst,\n",
                "    lambda_tv=lambda_tv_astro,\n",
                "    iterations=astro_pg_iterations,\n",
                "    step_size=astro_pg_step_size,\n",
                "    tv_prox_iterations=astro_tv_prox_iters,\n",
                "    tv_prox_step_size=astro_tv_prox_step,\n",
                "    verbose=True\n",
                ")\n",
                "print(f\"TV Reconstructed Astronomical Image shape: {astro_tv_recon_image.shape}\")\n",
                "\n",
                "plt.figure(figsize=(7,6))\n",
                "tv_recon_display = torch.fft.fftshift(torch.abs(astro_tv_recon_image)).cpu().numpy()\n",
                "plt.imshow(tv_recon_display, cmap='hot', origin='lower', \n",
                "           vmax=np.percentile(tv_recon_display, 99.8)) # Clip for better visualization\n",
                "plt.title(f'TV Regularized Astro Recon (lambda={lambda_tv_astro}, {astro_pg_iterations} iters)')\n",
                "plt.xlabel('RA direction (pixels)')\n",
                "plt.ylabel('Dec direction (pixels)')\n",
                "plt.colorbar(label='Brightness')\n",
                "plt.show()"
            ]
        },
        {
            "cell_type": "markdown",
            "metadata": {},
            "source": [
                "## 7. Comparison of Results"
            ]
        },
        {
            "cell_type": "code",
            "execution_count": null,
            "metadata": {},
            "outputs": [],
            "source": [
                "fig, axes = plt.subplots(1, 3, figsize=(18, 6))\n",
                "fig.suptitle('Astronomical Imaging Reconstruction Comparison', fontsize=16)\n",
                "plot_kwargs_astro = {'cmap':'hot', 'origin':'lower'}\n",
                "\n",
                "im0 = axes[0].imshow(torch.abs(sky_phantom).cpu().numpy(), **plot_kwargs_astro)\n",
                "axes[0].set_title('Original Sky Phantom')\n",
                "axes[0].set_xlabel('RA (pix)'); axes[0].set_ylabel('Dec (pix)')\n",
                "fig.colorbar(im0, ax=axes[0], shrink=0.8, label='Brightness')\n",
                "\n",
                "abs_dirty_shifted = torch.fft.fftshift(torch.abs(astro_dirty_image)).cpu().numpy()\n",
                "im1 = axes[1].imshow(abs_dirty_shifted, **plot_kwargs_astro, vmax=np.percentile(abs_dirty_shifted, 99.5))\n",
                "axes[1].set_title('Adjoint (Dirty Image) Recon')\n",
                "axes[1].set_xlabel('RA (pix)'); axes[1].set_ylabel('Dec (pix)')\n",
                "fig.colorbar(im1, ax=axes[1], shrink=0.8, label='Amplitude')\n",
                "\n",
                "abs_tv_shifted = torch.fft.fftshift(torch.abs(astro_tv_recon_image)).cpu().numpy()\n",
                "im2 = axes[2].imshow(abs_tv_shifted, **plot_kwargs_astro, vmax=np.percentile(abs_tv_shifted, 99.8))\n",
                "axes[2].set_title(f'TV Regularized Recon (lambda={lambda_tv_astro})')\n",
                "axes[2].set_xlabel('RA (pix)'); axes[2].set_ylabel('Dec (pix)')\n",
                "fig.colorbar(im2, ax=axes[2], shrink=0.8, label='Brightness')\n",
                "\n",
                "plt.tight_layout(rect=[0, 0, 1, 0.95])\n",
                "plt.show()"
            ]
        }
    ]
}
