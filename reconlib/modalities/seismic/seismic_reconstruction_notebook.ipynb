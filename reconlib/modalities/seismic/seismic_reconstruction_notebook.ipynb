{
    "nbformat": 4,
    "nbformat_minor": 5,
    "metadata": {
        "kernelspec": {
            "display_name": "Python 3 (ipykernel)",
            "language": "python",
            "name": "python3"
        },
        "language_info": {
            "codemirror_mode": {"name": "ipython", "version": 3},
            "file_extension": ".py",
            "mimetype": "text/x-python",
            "name": "python",
            "nbconvert_exporter": "python",
            "pygments_lexer": "ipython3"
        }
    },
    "cells": [
        {
            "cell_type": "markdown",
            "metadata": {},
            "source": [
                "# Seismic Imaging Reconstruction Example\n",
                "This notebook demonstrates basic 2D seismic imaging reconstruction from simulated seismic traces. It uses a ray-based forward model incorporating a source wavelet and geometrical spreading, and Total Variation (TV) regularized reconstruction to estimate a subsurface reflectivity map."
            ]
        },
        {
            "cell_type": "markdown",
            "metadata": {},
            "source": [
                "## 1. Imports and Setup"
            ]
        },
        {
            "cell_type": "code",
            "execution_count": null,
            "metadata": {},
            "outputs": [],
            "source": [
                "import torch\n",
                "import numpy as np\n",
                "import matplotlib.pyplot as plt\n",
                "import sys\n",
                "import os\n",
                "\n",
                "# Ensure reconlib is in the Python path\n",
                "if 'reconlib' not in os.getcwd():\n",
                "    sys.path.insert(0, os.path.abspath(os.path.join(os.path.dirname('__file__'), '../../..')))\n",
                "else:\n",
                "    sys.path.insert(0, os.path.abspath(os.path.join(os.path.dirname('__file__'), '..')))\n",
                "\n",
                "from reconlib.modalities.seismic.operators import SeismicForwardOperator\n",
                "from reconlib.modalities.seismic.reconstructors import tv_reconstruction_seismic\n",
                "\n",
                "%matplotlib inline\n",
                "\n",
                "device = torch.device('cuda' if torch.cuda.is_available() else 'cpu')\n",
                "print(f\"Using device: {device}\")"
            ]
        },
        {
            "cell_type": "markdown",
            "metadata": {},
            "source": [
                "## 2. Define Seismic Survey Parameters\n",
                "We define parameters for the subsurface map, seismic wave, source/receiver geometry, source wavelet, and reconstruction."
            ]
        },
        {
            "cell_type": "code",
            "execution_count": null,
            "metadata": {},
            "outputs": [],
            "source": [
                "# Subsurface Reflectivity Map Parameters\n",
                "Nz, Nx = 64, 128  # Depth pixels (Nz), Horizontal pixels (Nx)\n",
                "reflectivity_map_shape = (Nz, Nx)\n",
                "pixel_spacing_val = 1.0  # Pixel spacing in meters (dz = dx = 1.0m)\n",
                "max_depth_m = Nz * pixel_spacing_val\n",
                "survey_width_m = Nx * pixel_spacing_val\n",
                "\n",
                "# Seismic Wave & Recording Parameters\n",
                "wave_speed_mps = 2000.0  # Average seismic wave speed in m/s\n",
                "dt_s_param = 0.002 # Time step for seismic traces (2 ms)\n",
                "max_record_time_s = 2 * max_depth_m / wave_speed_mps * 1.8 # Max time based on depth, with margin\n",
                "num_time_samples_val = int(np.ceil(max_record_time_s / dt_s_param))\n",
                "print(f\"Max recording time: {max_record_time_s:.2f} s, Number of time samples: {num_time_samples_val}\")\n",
                "\n",
                "# Source Wavelet Parameters\n",
                "def ricker_wavelet_nb(peak_freq, dt, num_samples, device='cpu'):\n",
                "    if num_samples % 2 == 0: num_samples += 1 # Ensure odd length for symmetry\n",
                "    t_np = (np.arange(num_samples) - num_samples // 2) * dt\n",
                "    t_scaled_np = t_np * peak_freq * np.pi\n",
                "    y_np = (1.0 - 2.0 * t_scaled_np**2) * np.exp(-t_scaled_np**2)\n",
                "    return torch.tensor(y_np, dtype=torch.float32, device=device)\n",
                "\n",
                "wavelet_len_param = 63 # Number of samples in the wavelet\n",
                "wavelet_peak_freq_param = 25.0 # Peak frequency of the Ricker wavelet in Hz\n",
                "sim_wavelet = ricker_wavelet_nb(wavelet_peak_freq_param, dt_s_param, wavelet_len_param, device=device)\n",
                "sim_wavelet_offset_s = ((wavelet_len_param -1) // 2) * dt_s_param # Time offset for wavelet peak\n",
                "use_spreading_param = True # Apply geometrical spreading\n",
                "\n",
                "plt.figure(figsize=(5,2))\n",
                "plt.plot( (np.arange(wavelet_len_param) - wavelet_len_param // 2) * dt_s_param , sim_wavelet.cpu().numpy())\n",
                "plt.title(f'Source Wavelet ({wavelet_peak_freq_param} Hz Ricker)')\n",
                "plt.xlabel('Time (s)'); plt.ylabel('Amplitude'); plt.grid(True); plt.show()\n",
                "\n",
                "# Source and Receiver Geometry\n",
                "source_x_m_param = survey_width_m / 2 # Source at center of survey line\n",
                "source_z_m_param = 0.0 # Source at surface\n",
                "source_pos_m_param = (source_x_m_param, source_z_m_param)\n",
                "\n",
                "num_receivers_param = 64\n",
                "receiver_x_coords_m_param = torch.linspace(survey_width_m * 0.05, survey_width_m * 0.95, num_receivers_param, device=device)\n",
                "receiver_z_coords_m_param = torch.full_like(receiver_x_coords_m_param, 0.0) # Receivers at surface\n",
                "receiver_pos_m_param = torch.stack((receiver_x_coords_m_param, receiver_z_coords_m_param), dim=1)\n",
                "\n",
                "# Reconstruction Parameters\n",
                "lambda_tv_seismic = 0.01\n",
                "seismic_pg_iterations = 30\n",
                "seismic_pg_step_size = 0.005\n",
                "seismic_tv_prox_iters = 5\n",
                "seismic_tv_prox_step = 0.01"
            ]
        },
        {
            "cell_type": "markdown",
            "metadata": {},
            "source": [
                "## 3. Create Subsurface Reflectivity Phantom"
            ]
        },
        {
            "cell_type": "code",
            "execution_count": null,
            "metadata": {},
            "outputs": [],
            "source": [
                "def generate_seismic_phantom(shape, device='cpu'):\n",
                "    # shape: (Nz, Nx)\n",
                "    phantom = torch.zeros(shape, dtype=torch.float32, device=device)\n",
                "    nz, nx = shape\n",
                "    \n",
                "    # Horizontal layers\n",
                "    phantom[nz // 3, :] = 0.5\n",
                "    phantom[nz // 2, :] = -0.3 # Negative reflectivity contrast\n",
                "    phantom[nz * 3 // 4, int(nx*0.1):int(nx*0.7)] = 0.8 # Discontinuous layer\n",
                "    \n",
                "    # Dipping reflector (simple fault-like structure)\n",
                "    for i in range(int(nx * 0.4), int(nx * 0.8)):\n",
                "        depth_idx = int(nz * 0.2 + (i - int(nx*0.4)) * 0.5)\n",
                "        if 0 <= depth_idx < nz:\n",
                "            phantom[depth_idx, i] = 0.6\n",
                "            if depth_idx + 1 < nz : phantom[depth_idx+1, i] = 0.6 # Thicken it a bit\n",
                "    return phantom\n",
                "\n",
                "seismic_phantom_reflectivity = generate_seismic_phantom(reflectivity_map_shape, device=device)\n",
                "\n",
                "plt.figure(figsize=(10, 5))\n",
                "plt.imshow(seismic_phantom_reflectivity.cpu().numpy(), cmap='Greys', aspect='auto', \n",
                "           extent=[0, survey_width_m, max_depth_m, 0])\n",
                "plt.title('Original Subsurface Reflectivity Phantom')\n",
                "plt.xlabel('Horizontal Distance (m)')\n",
                "plt.ylabel('Depth (m)')\n",
                "plt.colorbar(label='Reflectivity Contrast')\n",
                "plt.scatter([source_pos_m_param[0]], [source_pos_m_param[1]], c='red', marker='*', s=100, label='Source')\n",
                "plt.scatter(receiver_pos_m_param[:,0].cpu(), receiver_pos_m_param[:,1].cpu(), c='blue', marker='v', s=30, label='Receivers')\n",
                "plt.legend()\n",
                "plt.show()"
            ]
        },
        {
            "cell_type": "markdown",
            "metadata": {},
            "source": [
                "## 4. Initialize Seismic Forward Operator\n",
                "The operator is initialized with the defined survey geometry, wavelet, and spreading options."
            ]
        },
        {
            "cell_type": "code",
            "execution_count": null,
            "metadata": {},
            "outputs": [],
            "source": [
                "seismic_operator_inst = SeismicForwardOperator(\n",
                "    reflectivity_map_shape=reflectivity_map_shape,\n",
                "    wave_speed_mps=wave_speed_mps,\n",
                "    time_sampling_dt_s=dt_s_param,\n",
                "    num_time_samples=num_time_samples_val,\n",
                "    source_pos_m=source_pos_m_param,\n",
                "    receiver_pos_m=receiver_pos_m_param,\n",
                "    pixel_spacing_m=pixel_spacing_val,\n",
                "    source_wavelet=sim_wavelet,\n",
                "    wavelet_time_offset_s=sim_wavelet_offset_s,\n",
                "    apply_geometrical_spreading=use_spreading_param,\n",
                "    device=device\n",
                ")\n",
                "print(\"SeismicForwardOperator initialized with wavelet and spreading.\")"
            ]
        },
        {
            "cell_type": "markdown",
            "metadata": {},
            "source": [
                "## 5. Simulate Seismic Traces (Seismogram)"
            ]
        },
        {
            "cell_type": "code",
            "execution_count": null,
            "metadata": {},
            "outputs": [],
            "source": [
                "print(\"Simulating seismic traces... This might take a moment.\")\n",
                "seismic_traces_clean = seismic_operator_inst.op(seismic_phantom_reflectivity)\n",
                "print(f\"Simulated clean seismic traces shape: {seismic_traces_clean.shape}\")\n",
                "\n",
                "# Add Gaussian noise\n",
                "signal_mean_abs_seismic = torch.mean(torch.abs(seismic_traces_clean))\n",
                "noise_level_seismic = 0.1 # 10% noise relative to mean signal magnitude\n",
                "noise_std_seismic = noise_level_seismic * signal_mean_abs_seismic \n",
                "noise_seismic = noise_std_seismic * torch.randn_like(seismic_traces_clean)\n",
                "seismic_traces_noisy = seismic_traces_clean + noise_seismic\n",
                "print(f\"Added Gaussian noise. Noise STD: {noise_std_seismic.item() if noise_std_seismic > 0 else 0.0}\")\n",
                "\n",
                "plt.figure(figsize=(10, 6))\n",
                "plt.imshow(seismic_traces_noisy.cpu().numpy(), aspect='auto', cmap='seismic', \n",
                "           extent=[0, max_record_time_s, num_receivers_param, 0], \n",
                "           vmin=-torch.quantile(torch.abs(seismic_traces_noisy),0.95).cpu(), vmax=torch.quantile(torch.abs(seismic_traces_noisy),0.95).cpu())\n",
                "plt.title('Noisy Seismic Traces (Seismogram)')\n",
                "plt.xlabel('Time (s)')\n",
                "plt.ylabel('Receiver Index')\n",
                "plt.colorbar(label='Amplitude')\n",
                "plt.show()"
            ]
        },
        {
            "cell_type": "markdown",
            "metadata": {},
            "source": [
                "## 6. Subsurface Image Reconstruction"
            ]
        },
        {
            "cell_type": "markdown",
            "metadata": {},
            "source": [
                "### 6.1 Adjoint Reconstruction (Migration)"
            ]
        },
        {
            "cell_type": "code",
            "execution_count": null,
            "metadata": {},
            "outputs": [],
            "source": [
                "print(\"Performing Adjoint (Migration) reconstruction...\")\n",
                "seismic_migrated_image = seismic_operator_inst.op_adj(seismic_traces_noisy)\n",
                "print(f\"Migrated image shape: {seismic_migrated_image.shape}\")\n",
                "\n",
                "plt.figure(figsize=(10, 5))\n",
                "plt.imshow(seismic_migrated_image.cpu().numpy(), cmap='Greys', aspect='auto',\n",
                "           extent=[0, survey_width_m, max_depth_m, 0])\n",
                "plt.title('Adjoint Seismic Reconstruction (Migrated Image)')\n",
                "plt.xlabel('Horizontal Distance (m)')\n",
                "plt.ylabel('Depth (m)')\n",
                "plt.colorbar(label='Amplitude')\n",
                "plt.show()"
            ]
        },
        {
            "cell_type": "markdown",
            "metadata": {},
            "source": [
                "### 6.2 TV Regularized Reconstruction"
            ]
        },
        {
            "cell_type": "code",
            "execution_count": null,
            "metadata": {},
            "outputs": [],
            "source": [
                "print(f\"Performing TV Regularized Seismic Reconstruction (lambda_TV={lambda_tv_seismic})...This may take some time.\")\n",
                "\n",
                "seismic_tv_recon_map = tv_reconstruction_seismic(\n",
                "    y_seismic_traces=seismic_traces_noisy,\n",
                "    seismic_operator=seismic_operator_inst,\n",
                "    lambda_tv=lambda_tv_seismic,\n",
                "    iterations=seismic_pg_iterations,\n",
                "    step_size=seismic_pg_step_size,\n",
                "    tv_prox_iterations=seismic_tv_prox_iters,\n",
                "    tv_prox_step_size=seismic_tv_prox_step,\n",
                "    verbose=True\n",
                ")\n",
                "print(f\"TV Reconstructed Seismic Map shape: {seismic_tv_recon_map.shape}\")\n",
                "\n",
                "plt.figure(figsize=(10, 5))\n",
                "plt.imshow(seismic_tv_recon_map.cpu().numpy(), cmap='Greys', aspect='auto',\n",
                "           extent=[0, survey_width_m, max_depth_m, 0])\n",
                "plt.title(f'TV Regularized Seismic Recon (lambda={lambda_tv_seismic}, {seismic_pg_iterations} iters)')\n",
                "plt.xlabel('Horizontal Distance (m)')\n",
                "plt.ylabel('Depth (m)')\n",
                "plt.colorbar(label='Reflectivity')\n",
                "plt.show()"
            ]
        },
        {
            "cell_type": "markdown",
            "metadata": {},
            "source": [
                "## 7. Comparison of Results"
            ]
        },
        {
            "cell_type": "code",
            "execution_count": null,
            "metadata": {},
            "outputs": [],
            "source": [
                "fig, axes = plt.subplots(1, 3, figsize=(20, 6))\n",
                "fig.suptitle('Seismic Reconstruction Comparison', fontsize=16)\n",
                "plot_kwargs = {'cmap':'Greys', 'aspect':'auto', 'extent':[0, survey_width_m, max_depth_m, 0]}\n",
                "\n",
                "im0 = axes[0].imshow(seismic_phantom_reflectivity.cpu().numpy(), **plot_kwargs)\n",
                "axes[0].set_title('Original Reflectivity Phantom')\n",
                "axes[0].set_xlabel('Distance (m)'); axes[0].set_ylabel('Depth (m)')\n",
                "fig.colorbar(im0, ax=axes[0], shrink=0.8, label='Reflectivity')\n",
                "\n",
                "im1 = axes[1].imshow(seismic_migrated_image.cpu().numpy(), **plot_kwargs)\n",
                "axes[1].set_title('Adjoint Recon (Migrated)')\n",
                "axes[1].set_xlabel('Distance (m)'); axes[1].set_ylabel('Depth (m)')\n",
                "fig.colorbar(im1, ax=axes[1], shrink=0.8, label='Amplitude')\n",
                "\n",
                "im2 = axes[2].imshow(seismic_tv_recon_map.cpu().numpy(), **plot_kwargs)\n",
                "axes[2].set_title(f'TV Regularized Recon (lambda={lambda_tv_seismic})')\n",
                "axes[2].set_xlabel('Distance (m)'); axes[2].set_ylabel('Depth (m)')\n",
                "fig.colorbar(im2, ax=axes[2], shrink=0.8, label='Reflectivity')\n",
                "\n",
                "plt.tight_layout(rect=[0, 0, 1, 0.95])\n",
                "plt.show()"
            ]
        }
    ]
}
