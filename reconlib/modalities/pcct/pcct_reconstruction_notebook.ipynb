{
 "cells": [
  {
   "cell_type": "markdown",
   "metadata": {},
   "source": [
    "# Photon Counting CT (PCCT) Reconstruction Demo (Placeholder)\n",
    "This notebook demonstrates a *highly simplified* reconstruction for PCCT. It focuses on reconstructing a single reference attenuation map (`mu_reference_map`) from simulated multi-energy bin photon counts.\n",
    "\n",
    "**Key Simplifications in this Placeholder:**\n",
    "1.  **Operator (`PCCTProjectorOperator`):**\n",
    "    *   Uses a very basic Radon transform (projection) and back-projection. A robust, high-quality Radon transform is crucial for CT.\n",
    "    *   Models energy dependence as simple scaling factors per bin applied to a reference attenuation map. Real energy dependence is non-linear and material-specific.\n",
    "    *   Includes a simple Poisson noise model if enabled.\n",
    "    *   Does not model beam hardening, scatter, detector spectral response, pile-up, or charge sharing.\n",
    "2.  **Reconstructors:**\n",
    "    *   `tv_reconstruction_pcct_mu_ref`: Treats the problem as a regularized inversion for `mu_reference_map`, even though the forward model includes a non-linear `exp` (Beer-Lambert law). `ProximalGradientReconstructor` is typically for problems like `0.5*||Ax-y||^2 + R(x)`. The non-linearity here means this is an approximation.\n",
    "    *   `iterative_reconstruction_pcct_bin`: Performs iterative TV-regularized reconstruction for a *single energy bin* after linearizing the data (`-log(I/I0)`), using a basic Radon operator for that bin.\n",
    "3.  **Material Decomposition:** True PCCT aims for material decomposition. This notebook primarily reconstructs attenuation maps."
   ]
  },
  {
   "cell_type": "code",
   "execution_count": null,
   "metadata": {},
   "outputs": [],
   "source": [
    "import torch\n",
    "import numpy as np\n",
    "import matplotlib.pyplot as plt\n",
    "import sys\n",
    "# sys.path.append('../../../') # Adjust if reconlib not in PYTHONPATH\n",
    "\n",
    "try:\n",
    "    from reconlib.modalities.pcct.operators import PCCTProjectorOperator\n",
    "    from reconlib.modalities.pcct.reconstructors import tv_reconstruction_pcct_mu_ref, iterative_reconstruction_pcct_bin\n",
    "    from reconlib.modalities.pcct.utils import generate_pcct_phantom_material_maps, combine_material_maps_to_mu_ref, plot_pcct_results, get_pcct_energy_scaling_factors\n",
    "except ImportError as e:\n",
    "    print(f\"Import Error: {e}. Make sure reconlib is installed or PYTHONPATH is set.\")\n",
    "    # Fallback for local dev if needed\n",
    "    # from pathlib import Path\n",
    "    # base_path = Path('.').resolve().parent.parent.parent \n",
    "    # sys.path.append(str(base_path))\n",
    "    # from reconlib.modalities.pcct.operators import PCCTProjectorOperator # etc.\n",
    "\n",
    "device = torch.device('cuda' if torch.cuda.is_available() else 'cpu')\n",
    "print(f\"Using device: {device}\")"
   ]
  },
  {
   "cell_type": "markdown",
   "metadata": {},
   "source": [
    "## 1. Setup Parameters and Phantom (Reference Attenuation Map)"
   ]
  },
  {
   "cell_type": "code",
   "execution_count": null,
   "metadata": {},
   "outputs": [],
   "source": [
    "image_shape_pcct = (64, 64)     # Shape of the attenuation map to reconstruct\n",
    "num_angles_pcct = 90            # Number of projection angles for Radon transform\n",
    "num_detector_pixels_pcct = int(np.floor(image_shape_pcct[0] * np.sqrt(2))) # Detector pixels to cover diagonal\n",
    "if num_detector_pixels_pcct % 2 == 0: num_detector_pixels_pcct +=1 # Ensure odd for centering\n",
    "\n",
    "# Define energy bins (keV) and source photons (I0)\n",
    "energy_bins = [(20, 50), (50, 80), (80, 120)] # Example energy windows\n",
    "source_photons_I0 = torch.tensor([20000.0, 30000.0, 20000.0], device=device) # Incident photons per bin\n",
    "\n",
    "# Get energy scaling factors (e.g., for water at a reference energy of 60 keV)\n",
    "energy_scaling = get_pcct_energy_scaling_factors(\n",
    "    energy_bins_keV=energy_bins, \n",
    "    material_attenuation_model='water_simplified', \n",
    "    reference_energy_keV=60.0,\n",
    "    device=device\n",
    ")\n",
    "print(f\"Energy scaling factors: {energy_scaling}\")\n",
    "\n",
    "# Generate a phantom with different material regions\n",
    "material_mus_at_ref_energy = {'soft_tissue': 0.02, 'bone_contrast': 0.05} # Unit: e.g., mm^-1 at ref energy (60keV)\n",
    "material_maps = generate_pcct_phantom_material_maps(\n",
    "    image_shape_pcct, \n",
    "    material_attenuations=material_mus_at_ref_energy, \n",
    "    num_features_per_material=2,\n",
    "    device=device\n",
    ")\n",
    "\n",
    "# Combine material maps into a single reference attenuation map (mu_ref)\n",
    "true_mu_reference_map = combine_material_maps_to_mu_ref(\n",
    "    material_maps, material_mus_at_ref_energy, device=device\n",
    ")\n",
    "\n",
    "plt.figure(figsize=(6,6))\n",
    "plt.imshow(true_mu_reference_map.cpu().numpy(), cmap='viridis')\n",
    "plt.title('True Reference Attenuation Map ($\mu_{ref}$ at 60keV)')\n",
    "plt.xlabel('X (pixels)'); plt.ylabel('Y (pixels)')\n",
    "plt.colorbar(label='Attenuation (e.g., mm$^{-1}$)')\n",
    "plt.show()"
   ]
  },
  {
   "cell_type": "markdown",
   "metadata": {},
   "source": [
    "## 2. Initialize PCCT Operator and Simulate Photon Counts\n",
    "The `PCCTProjectorOperator` will now use `add_poisson_noise=True`."
   ]
  },
  {
   "cell_type": "code",
   "execution_count": null,
   "metadata": {},
   "outputs": [],
   "source": [
    "pcct_operator = PCCTProjectorOperator(\n",
    "    image_shape=image_shape_pcct,\n",
    "    num_angles=num_angles_pcct,\n",
    "    num_detector_pixels=num_detector_pixels_pcct,\n",
    "    energy_bins_keV=energy_bins,\n",
    "    source_photons_per_bin=source_photons_I0,\n",
    "    energy_scaling_factors=energy_scaling,\n",
    "    add_poisson_noise=True,  # Enable Poisson noise in the operator\n",
    "    device=device\n",
    ")\n",
    "\n",
    "# Simulate photon counts for each energy bin (now with Poisson noise from operator)\n",
    "noisy_photon_counts_stack = pcct_operator.op(true_mu_reference_map)\n",
    "\n",
    "print(f\"Simulated photon count data shape (per bin): {noisy_photon_counts_stack.shape}\")\n",
    "\n",
    "# Visualize sinograms for each energy bin\n",
    "num_bins_to_show = noisy_photon_counts_stack.shape[0]\n",
    "fig, axes = plt.subplots(1, num_bins_to_show, figsize=(num_bins_to_show*5, 4))\n",
    "if num_bins_to_show == 1: axes = [axes]\n",
    "for i in range(num_bins_to_show):\n",
    "    im = axes[i].imshow(noisy_photon_counts_stack[i].cpu().numpy(), aspect='auto', cmap='viridis')\n",
    "    axes[i].set_title(f'Sinogram - Bin {i} ({energy_bins[i][0]}-{energy_bins[i][1]} keV)')\n",
    "    axes[i].set_xlabel('Detector Pixel'); axes[i].set_ylabel('Angle')\n",
    "    fig.colorbar(im, ax=axes[i], label='Photon Counts')\n",
    "plt.suptitle('Simulated Noisy Photon Counts (Sinograms - Poisson from Operator)')\n",
    "plt.tight_layout(rect=[0, 0, 1, 0.95])\n",
    "plt.show()"
   ]
  },
  {
   "cell_type": "markdown",
   "metadata": {},
   "source": [
    "## 3a. Perform Global TV-Regularized Reconstruction for $\mu_{ref}$ (using `tv_reconstruction_pcct_mu_ref`)\n",
    "This reconstructor uses the full non-linear PCCT operator and its (approximate) adjoint."
   ]
  },
  {
   "cell_type": "code",
   "execution_count": null,
   "metadata": {},
   "outputs": [],
   "source": [
    "lambda_tv_pcct_global = 1e-5 \n",
    "iterations_pcct_global = 30 \n",
    "step_size_pcct_global = 1e-6 \n",
    "\n",
    "reconstructed_mu_ref_global = tv_reconstruction_pcct_mu_ref(\n",
    "    y_photon_counts_stack=noisy_photon_counts_stack,\n",
    "    pcct_operator=pcct_operator,\n",
    "    lambda_tv=lambda_tv_pcct_global,\n",
    "    iterations=iterations_pcct_global,\n",
    "    step_size=step_size_pcct_global,\n",
    "    verbose=True\n",
    ")\n",
    "\n",
    "print(f\"Global reconstructed mu_ref map shape: {reconstructed_mu_ref_global.shape}\")"
   ]
  },
  {
   "cell_type": "markdown",
   "metadata": {},
   "source": [
    "## 3b. Perform Iterative Reconstruction for a Single Bin (using `iterative_reconstruction_pcct_bin`)\n",
    "Now, let's try the `iterative_reconstruction_pcct_bin` for one of the energy bins. This reconstructor works on linearized data (`-log(I/I0)`) and uses a linear Radon operator internally for that bin."
   ]
  },
  {
   "cell_type": "code",
   "execution_count": null,
   "metadata": {},
   "outputs": [],
   "source": [
    "selected_bin_idx = 0 # Choose the first bin for iterative reconstruction\n",
    "print(f"Performing iterative reconstruction for energy bin: {pcct_operator.energy_bins_keV[selected_bin_idx]} keV")\n",
    "\n",
    "noisy_counts_single_bin = noisy_photon_counts_stack[selected_bin_idx, :, :]\n",
    "I0_single_bin = pcct_operator.source_photons_per_bin[selected_bin_idx]\n",
    "energy_scale_single_bin = pcct_operator.energy_scaling_factors[selected_bin_idx]\n",
    "\n",
    "lambda_tv_iter_bin = 0.001  # Regularization parameter for iterative method for this bin\n",
    "pgd_iters_bin = 30          # Number of PGD iterations for this bin\n",
    "pgd_step_bin = 0.05         # PGD step size for this bin's linear problem\n",
    "\n",
    "reconstructed_mu_effective_bin_iter = iterative_reconstruction_pcct_bin(\n",
    "    noisy_counts_sinogram_bin=noisy_counts_single_bin,\n",
    "    source_photons_bin=I0_single_bin,\n",
    "    image_shape=image_shape_pcct,\n",
    "    num_angles=num_angles_pcct,\n",
    "    num_detector_pixels=num_detector_pixels_pcct,\n",
    "    lambda_tv=lambda_tv_iter_bin,\n",
    "    pgd_iterations=pgd_iters_bin,\n",
    "    pgd_step_size=pgd_step_bin,\n",
    "    device=device,\n",
    "    verbose=True\n",
    ")\n",
    "\n",
    "# Scale back to reference mu if desired for comparison\n",
    "reconstructed_mu_ref_from_iter_bin = reconstructed_mu_effective_bin_iter / (energy_scale_single_bin + 1e-9)\n",
    "\n",
    "print(f"Iterative reconstruction for bin {selected_bin_idx} complete. Shape: {reconstructed_mu_effective_bin_iter.shape}")"
   ]
  },
  {
   "cell_type": "markdown",
   "metadata": {},
   "source": [
    "## 4. Display Results"
   ]
  },
  {
   "cell_type": "code",
   "execution_count": null,
   "metadata": {},
   "outputs": [],
   "source": [
    "fig, axes = plt.subplots(1, 3, figsize=(18, 6))\n",
    "max_val = true_mu_reference_map.max().cpu().item() * 1.1 # Scale a bit for visual range\n",
    "min_val = true_mu_reference_map.min().cpu().item() # Could be 0\n",
    "\n",
    "im1 = axes[0].imshow(true_mu_reference_map.cpu().numpy(), cmap='viridis', vmin=min_val, vmax=max_val)\n",
    "axes[0].set_title('True $\mu_{ref}$ Map')\n",
    "fig.colorbar(im1, ax=axes[0])\n",
    "\n",
    "im2 = axes[1].imshow(reconstructed_mu_ref_global.cpu().numpy(), cmap='viridis', vmin=min_val, vmax=max_val)\n",
    "axes[1].set_title(f'Global Recon. $\mu_{ref}$ (TV {iterations_pcct_global} iters)')\n",
    "fig.colorbar(im2, ax=axes[1])\n",
    "\n",
    "im3 = axes[2].imshow(reconstructed_mu_ref_from_iter_bin.cpu().numpy(), cmap='viridis', vmin=min_val, vmax=max_val)\n",
    "axes[2].set_title(f'Iter. Recon. Bin {selected_bin_idx} (scaled to $\mu_{ref}$)')\n",
    "fig.colorbar(im3, ax=axes[2])\n",
    "\n",
    "for ax in axes: ax.set_xlabel('X'); ax.set_ylabel('Y')\n",
    "plt.tight_layout()\n",
    "plt.show()\n",
    "\n",
    "plot_pcct_results(\n",
    "    mu_ref_true=true_mu_reference_map, \n",
    "    measured_counts_stack=noisy_photon_counts_stack, \n",
    "    mu_ref_recon=reconstructed_mu_ref_global # Show global recon in this summary\n",
    ")"
   ]
  },
  {
   "cell_type": "markdown",
   "metadata": {},
   "source": [
    "## Future Direction: Basic Material Decomposition\n",
    "\n",
    "A significant advantage of PCCT is its ability to perform material decomposition due to its energy-resolving capabilities. Here's a conceptual outline for a basic two-material decomposition:\n",
    "\n",
    "**1. Assumptions:**\n",
    "*   The object is composed of two known basis materials (e.g., Material A and Material B).\n",
    "*   The mass attenuation coefficients (MACs) for these materials are known at the effective energies of (at least) two distinct PCCT energy bins (e.g., `mac_A_bin1`, `mac_A_bin2`, `mac_B_bin1`, `mac_B_bin2`).\n",
    "*   We have reconstructed or obtained the line integrals (e.g., `-log(I/I0)`) for the object for these two energy bins: `L_bin1` and `L_bin2` (these are sinograms or reconstructed attenuation maps if decomposition is post-reconstruction).\n",
    "\n",
    "**2. Model (Per Pixel/Ray):**\n",
    "For each spatial location (if decomposing images) or for each projection ray (if decomposing sinograms), we can set up a linear system:\n",
    "`L_bin1 = mac_A_bin1 * t_A + mac_B_bin1 * t_B`\n",
    "`L_bin2 = mac_A_bin2 * t_A + mac_B_bin2 * t_B`\n",
    "where `t_A` and `t_B` are the effective thicknesses (or projected densities/concentrations) of Material A and Material B.\n",
    "\n",
    "**3. Solving for Material Thicknesses/Concentrations:**\n",
    "This 2x2 linear system can be solved for `t_A` and `t_B` by inverting the MAC matrix (if invertible):\n",
    "`[[t_A], [t_B]] = MAC_matrix_inv @ [[L_bin1], [L_bin2]]`\n",
    "\n",
    "**4. Image Domain Decomposition (Post-Reconstruction Example):**\n",
    "    a. Reconstruct attenuation maps (`mu_map_bin1`, `mu_map_bin2`) for two selected energy bins using an appropriate algorithm (like FBP or iterative methods demonstrated earlier for single bins).\n",
    "    b. For each pixel `(x,y)` in the reconstructed maps, solve the 2x2 system above, where `L_bin1` is `mu_map_bin1[x,y]` and `L_bin2` is `mu_map_bin2[x,y]`. This yields material-specific images `t_A[x,y]` and `t_B[x,y]`. \n",
    "\n",
    "**5. Simplifications & Challenges:**\n",
    "*   Assumes accurate MAC values and well-separated energy bins.\n",
    "*   Ignores non-linear effects like beam hardening within bins.\n",
    "*   Noise in the input data can be amplified, especially if the MAC matrix is ill-conditioned.\n",
    "*   Requires accurate registration of the two bin sinograms/images.\n",
    "*   More advanced methods involve direct iterative reconstruction of material basis images from raw projection data, often incorporating statistical models and regularization.\n",
    "\n",
    "This provides a basic idea. Implementing it robustly in `reconlib` would involve creating appropriate operators and reconstructors for material decomposition."
   ]
  },
  {
   "cell_type": "markdown",
   "metadata": {},
   "source": [
    "**Disclaimer:** The placeholder Radon/Back-projection and the simplified energy dependence make this demo highly illustrative. The reconstruction quality will be limited. For actual PCCT, advanced operators (accurate Radon, physics-based spectral modeling) and reconstructors (e.g., statistical iterative methods that handle Poisson noise, material decomposition algorithms) are necessary."
   ]
  }
 ],
 "metadata": {
  "kernelspec": {
   "display_name": "Python 3 (ipykernel)",
   "language": "python",
   "name": "python3"
  },
  "language_info": {
   "codemirror_mode": {
    "name": "ipython",
    "version": 3
   },
   "file_extension": ".py",
   "mimetype": "text/x-python",
   "name": "python",
   "nbconvert_exporter": "python",
   "pygments_lexer": "ipython3",
   "version": "3.10"
  }
 },
 "nbformat": 4,
 "nbformat_minor": 5
}
